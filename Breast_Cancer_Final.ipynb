{
  "cells": [
    {
      "cell_type": "code",
      "execution_count": null,
      "id": "d5e9c711",
      "metadata": {
        "id": "d5e9c711"
      },
      "outputs": [],
      "source": [
        "import numpy as np\n",
        "import pandas as pd\n",
        "import matplotlib.pyplot as plt\n",
        "import seaborn as sns \n",
        "from sklearn.metrics import accuracy_score\n",
        "import xgboost as xgb\n",
        "from hyperopt import STATUS_OK, Trials, fmin, hp, tpe"
      ]
    },
    {
      "cell_type": "code",
      "execution_count": null,
      "id": "4468b36d",
      "metadata": {
        "id": "4468b36d"
      },
      "outputs": [],
      "source": [
        "NucliData_df = pd.read_csv('data.csv'); "
      ]
    },
    {
      "cell_type": "code",
      "execution_count": null,
      "id": "01ef3064",
      "metadata": {
        "id": "01ef3064",
        "outputId": "96915435-7aa6-46a6-d23a-633a6530ec0e"
      },
      "outputs": [
        {
          "data": {
            "text/html": [
              "<div>\n",
              "<style scoped>\n",
              "    .dataframe tbody tr th:only-of-type {\n",
              "        vertical-align: middle;\n",
              "    }\n",
              "\n",
              "    .dataframe tbody tr th {\n",
              "        vertical-align: top;\n",
              "    }\n",
              "\n",
              "    .dataframe thead th {\n",
              "        text-align: right;\n",
              "    }\n",
              "</style>\n",
              "<table border=\"1\" class=\"dataframe\">\n",
              "  <thead>\n",
              "    <tr style=\"text-align: right;\">\n",
              "      <th></th>\n",
              "      <th>id</th>\n",
              "      <th>diagnostics</th>\n",
              "      <th>radius_mean</th>\n",
              "      <th>texture_mean</th>\n",
              "      <th>perimeter_mean</th>\n",
              "      <th>area_mean</th>\n",
              "      <th>smoothness_mean</th>\n",
              "      <th>compactness_mean</th>\n",
              "      <th>concavity_mean</th>\n",
              "      <th>concave points_mean</th>\n",
              "      <th>...</th>\n",
              "      <th>texture_worst</th>\n",
              "      <th>perimeter_worst</th>\n",
              "      <th>area_worst</th>\n",
              "      <th>smoothness_worst</th>\n",
              "      <th>compactness_worst</th>\n",
              "      <th>concavity_worst</th>\n",
              "      <th>concave points_worst</th>\n",
              "      <th>symmetry_worst</th>\n",
              "      <th>fractal_dimension_worst</th>\n",
              "      <th>Unnamed: 32</th>\n",
              "    </tr>\n",
              "  </thead>\n",
              "  <tbody>\n",
              "    <tr>\n",
              "      <th>0</th>\n",
              "      <td>842302</td>\n",
              "      <td>M</td>\n",
              "      <td>17.99</td>\n",
              "      <td>10.38</td>\n",
              "      <td>122.80</td>\n",
              "      <td>1001.0</td>\n",
              "      <td>0.11840</td>\n",
              "      <td>0.27760</td>\n",
              "      <td>0.3001</td>\n",
              "      <td>0.14710</td>\n",
              "      <td>...</td>\n",
              "      <td>17.33</td>\n",
              "      <td>184.60</td>\n",
              "      <td>2019.0</td>\n",
              "      <td>0.1622</td>\n",
              "      <td>0.6656</td>\n",
              "      <td>0.7119</td>\n",
              "      <td>0.2654</td>\n",
              "      <td>0.4601</td>\n",
              "      <td>0.11890</td>\n",
              "      <td>NaN</td>\n",
              "    </tr>\n",
              "    <tr>\n",
              "      <th>1</th>\n",
              "      <td>842517</td>\n",
              "      <td>M</td>\n",
              "      <td>20.57</td>\n",
              "      <td>17.77</td>\n",
              "      <td>132.90</td>\n",
              "      <td>1326.0</td>\n",
              "      <td>0.08474</td>\n",
              "      <td>0.07864</td>\n",
              "      <td>0.0869</td>\n",
              "      <td>0.07017</td>\n",
              "      <td>...</td>\n",
              "      <td>23.41</td>\n",
              "      <td>158.80</td>\n",
              "      <td>1956.0</td>\n",
              "      <td>0.1238</td>\n",
              "      <td>0.1866</td>\n",
              "      <td>0.2416</td>\n",
              "      <td>0.1860</td>\n",
              "      <td>0.2750</td>\n",
              "      <td>0.08902</td>\n",
              "      <td>NaN</td>\n",
              "    </tr>\n",
              "    <tr>\n",
              "      <th>2</th>\n",
              "      <td>84300903</td>\n",
              "      <td>M</td>\n",
              "      <td>19.69</td>\n",
              "      <td>21.25</td>\n",
              "      <td>130.00</td>\n",
              "      <td>1203.0</td>\n",
              "      <td>0.10960</td>\n",
              "      <td>0.15990</td>\n",
              "      <td>0.1974</td>\n",
              "      <td>0.12790</td>\n",
              "      <td>...</td>\n",
              "      <td>25.53</td>\n",
              "      <td>152.50</td>\n",
              "      <td>1709.0</td>\n",
              "      <td>0.1444</td>\n",
              "      <td>0.4245</td>\n",
              "      <td>0.4504</td>\n",
              "      <td>0.2430</td>\n",
              "      <td>0.3613</td>\n",
              "      <td>0.08758</td>\n",
              "      <td>NaN</td>\n",
              "    </tr>\n",
              "    <tr>\n",
              "      <th>3</th>\n",
              "      <td>84348301</td>\n",
              "      <td>M</td>\n",
              "      <td>11.42</td>\n",
              "      <td>20.38</td>\n",
              "      <td>77.58</td>\n",
              "      <td>386.1</td>\n",
              "      <td>0.14250</td>\n",
              "      <td>0.28390</td>\n",
              "      <td>0.2414</td>\n",
              "      <td>0.10520</td>\n",
              "      <td>...</td>\n",
              "      <td>26.50</td>\n",
              "      <td>98.87</td>\n",
              "      <td>567.7</td>\n",
              "      <td>0.2098</td>\n",
              "      <td>0.8663</td>\n",
              "      <td>0.6869</td>\n",
              "      <td>0.2575</td>\n",
              "      <td>0.6638</td>\n",
              "      <td>0.17300</td>\n",
              "      <td>NaN</td>\n",
              "    </tr>\n",
              "    <tr>\n",
              "      <th>4</th>\n",
              "      <td>84358402</td>\n",
              "      <td>M</td>\n",
              "      <td>20.29</td>\n",
              "      <td>14.34</td>\n",
              "      <td>135.10</td>\n",
              "      <td>1297.0</td>\n",
              "      <td>0.10030</td>\n",
              "      <td>0.13280</td>\n",
              "      <td>0.1980</td>\n",
              "      <td>0.10430</td>\n",
              "      <td>...</td>\n",
              "      <td>16.67</td>\n",
              "      <td>152.20</td>\n",
              "      <td>1575.0</td>\n",
              "      <td>0.1374</td>\n",
              "      <td>0.2050</td>\n",
              "      <td>0.4000</td>\n",
              "      <td>0.1625</td>\n",
              "      <td>0.2364</td>\n",
              "      <td>0.07678</td>\n",
              "      <td>NaN</td>\n",
              "    </tr>\n",
              "  </tbody>\n",
              "</table>\n",
              "<p>5 rows × 33 columns</p>\n",
              "</div>"
            ],
            "text/plain": [
              "         id diagnostics  radius_mean  texture_mean  perimeter_mean  area_mean  \\\n",
              "0    842302           M        17.99         10.38          122.80     1001.0   \n",
              "1    842517           M        20.57         17.77          132.90     1326.0   \n",
              "2  84300903           M        19.69         21.25          130.00     1203.0   \n",
              "3  84348301           M        11.42         20.38           77.58      386.1   \n",
              "4  84358402           M        20.29         14.34          135.10     1297.0   \n",
              "\n",
              "   smoothness_mean  compactness_mean  concavity_mean  concave points_mean  \\\n",
              "0          0.11840           0.27760          0.3001              0.14710   \n",
              "1          0.08474           0.07864          0.0869              0.07017   \n",
              "2          0.10960           0.15990          0.1974              0.12790   \n",
              "3          0.14250           0.28390          0.2414              0.10520   \n",
              "4          0.10030           0.13280          0.1980              0.10430   \n",
              "\n",
              "   ...  texture_worst  perimeter_worst  area_worst  smoothness_worst  \\\n",
              "0  ...          17.33           184.60      2019.0            0.1622   \n",
              "1  ...          23.41           158.80      1956.0            0.1238   \n",
              "2  ...          25.53           152.50      1709.0            0.1444   \n",
              "3  ...          26.50            98.87       567.7            0.2098   \n",
              "4  ...          16.67           152.20      1575.0            0.1374   \n",
              "\n",
              "   compactness_worst  concavity_worst  concave points_worst  symmetry_worst  \\\n",
              "0             0.6656           0.7119                0.2654          0.4601   \n",
              "1             0.1866           0.2416                0.1860          0.2750   \n",
              "2             0.4245           0.4504                0.2430          0.3613   \n",
              "3             0.8663           0.6869                0.2575          0.6638   \n",
              "4             0.2050           0.4000                0.1625          0.2364   \n",
              "\n",
              "   fractal_dimension_worst  Unnamed: 32  \n",
              "0                  0.11890          NaN  \n",
              "1                  0.08902          NaN  \n",
              "2                  0.08758          NaN  \n",
              "3                  0.17300          NaN  \n",
              "4                  0.07678          NaN  \n",
              "\n",
              "[5 rows x 33 columns]"
            ]
          },
          "execution_count": 378,
          "metadata": {},
          "output_type": "execute_result"
        }
      ],
      "source": [
        "NucliData_df.head()"
      ]
    },
    {
      "cell_type": "code",
      "execution_count": null,
      "id": "d1395a7c",
      "metadata": {
        "id": "d1395a7c",
        "outputId": "32bd79eb-c803-4d27-bb62-4ba7e72defe9"
      },
      "outputs": [
        {
          "data": {
            "text/plain": [
              "pandas.core.frame.DataFrame"
            ]
          },
          "execution_count": 379,
          "metadata": {},
          "output_type": "execute_result"
        }
      ],
      "source": [
        "type(NucliData_df)"
      ]
    },
    {
      "cell_type": "code",
      "execution_count": null,
      "id": "7e2c3b51",
      "metadata": {
        "id": "7e2c3b51",
        "outputId": "c3049191-176f-4ab3-b610-3ea57a431958"
      },
      "outputs": [
        {
          "data": {
            "text/plain": [
              "(569, 33)"
            ]
          },
          "execution_count": 380,
          "metadata": {},
          "output_type": "execute_result"
        }
      ],
      "source": [
        "NucliData_df.shape"
      ]
    },
    {
      "cell_type": "code",
      "execution_count": null,
      "id": "85860245",
      "metadata": {
        "id": "85860245",
        "outputId": "88f89ecd-00d9-447c-ed7e-1ec66c8940c9"
      },
      "outputs": [
        {
          "data": {
            "text/plain": [
              "18777"
            ]
          },
          "execution_count": 381,
          "metadata": {},
          "output_type": "execute_result"
        }
      ],
      "source": [
        "NucliData_df.size"
      ]
    },
    {
      "cell_type": "code",
      "execution_count": null,
      "id": "417bac47",
      "metadata": {
        "id": "417bac47",
        "outputId": "5e885bd4-e8a1-4df0-b5e0-592cb0882e7a"
      },
      "outputs": [
        {
          "data": {
            "text/plain": [
              "id                         569\n",
              "diagnostics                569\n",
              "radius_mean                569\n",
              "texture_mean               569\n",
              "perimeter_mean             569\n",
              "area_mean                  569\n",
              "smoothness_mean            569\n",
              "compactness_mean           569\n",
              "concavity_mean             569\n",
              "concave points_mean        569\n",
              "symmetry_mean              569\n",
              "fractal_dimension_mean     569\n",
              "radius_se                  569\n",
              "texture_se                 569\n",
              "perimeter_se               569\n",
              "area_se                    569\n",
              "smoothness_se              569\n",
              "compactness_se             569\n",
              "concavity_se               569\n",
              "concave points_se          569\n",
              "symmetry_se                569\n",
              "fractal_dimension_se       569\n",
              "radius_worst               569\n",
              "texture_worst              569\n",
              "perimeter_worst            569\n",
              "area_worst                 569\n",
              "smoothness_worst           569\n",
              "compactness_worst          569\n",
              "concavity_worst            569\n",
              "concave points_worst       569\n",
              "symmetry_worst             569\n",
              "fractal_dimension_worst    569\n",
              "Unnamed: 32                  0\n",
              "dtype: int64"
            ]
          },
          "execution_count": 382,
          "metadata": {},
          "output_type": "execute_result"
        }
      ],
      "source": [
        "NucliData_df.count()"
      ]
    },
    {
      "cell_type": "code",
      "execution_count": null,
      "id": "9899a2af",
      "metadata": {
        "id": "9899a2af",
        "outputId": "bd0c31b2-7152-4fba-9c21-008820e56b56"
      },
      "outputs": [
        {
          "data": {
            "text/plain": [
              "id                           0\n",
              "diagnostics                  0\n",
              "radius_mean                  0\n",
              "texture_mean                 0\n",
              "perimeter_mean               0\n",
              "area_mean                    0\n",
              "smoothness_mean              0\n",
              "compactness_mean             0\n",
              "concavity_mean               0\n",
              "concave points_mean          0\n",
              "symmetry_mean                0\n",
              "fractal_dimension_mean       0\n",
              "radius_se                    0\n",
              "texture_se                   0\n",
              "perimeter_se                 0\n",
              "area_se                      0\n",
              "smoothness_se                0\n",
              "compactness_se               0\n",
              "concavity_se                 0\n",
              "concave points_se            0\n",
              "symmetry_se                  0\n",
              "fractal_dimension_se         0\n",
              "radius_worst                 0\n",
              "texture_worst                0\n",
              "perimeter_worst              0\n",
              "area_worst                   0\n",
              "smoothness_worst             0\n",
              "compactness_worst            0\n",
              "concavity_worst              0\n",
              "concave points_worst         0\n",
              "symmetry_worst               0\n",
              "fractal_dimension_worst      0\n",
              "Unnamed: 32                569\n",
              "dtype: int64"
            ]
          },
          "execution_count": 383,
          "metadata": {},
          "output_type": "execute_result"
        }
      ],
      "source": [
        "NucliData_df.isna().sum()"
      ]
    },
    {
      "cell_type": "code",
      "execution_count": null,
      "id": "0aaa474a",
      "metadata": {
        "id": "0aaa474a"
      },
      "outputs": [],
      "source": [
        "NucliData_df = NucliData_df.dropna(axis=1)"
      ]
    },
    {
      "cell_type": "code",
      "execution_count": null,
      "id": "761c3f25",
      "metadata": {
        "id": "761c3f25",
        "outputId": "71522cc7-b4da-4a5d-f930-47c5e0d7c7af"
      },
      "outputs": [
        {
          "data": {
            "text/plain": [
              "(569, 32)"
            ]
          },
          "execution_count": 385,
          "metadata": {},
          "output_type": "execute_result"
        }
      ],
      "source": [
        "NucliData_df.shape"
      ]
    },
    {
      "cell_type": "code",
      "execution_count": null,
      "id": "b5c69586",
      "metadata": {
        "id": "b5c69586",
        "outputId": "c50b3bdc-2e32-4a27-c0c5-dd225dcf658c"
      },
      "outputs": [
        {
          "data": {
            "text/plain": [
              "B    357\n",
              "M    212\n",
              "Name: diagnostics, dtype: int64"
            ]
          },
          "execution_count": 386,
          "metadata": {},
          "output_type": "execute_result"
        }
      ],
      "source": [
        "NucliData_df['diagnostics'].value_counts()"
      ]
    },
    {
      "cell_type": "code",
      "execution_count": null,
      "id": "24dd4b85",
      "metadata": {
        "id": "24dd4b85",
        "outputId": "5cee5a20-beaf-46b1-f410-7ba2c7395f11"
      },
      "outputs": [
        {
          "name": "stderr",
          "output_type": "stream",
          "text": [
            "C:\\Users\\soura\\anaconda3\\lib\\site-packages\\seaborn\\_decorators.py:36: FutureWarning: Pass the following variable as a keyword arg: x. From version 0.12, the only valid positional argument will be `data`, and passing other arguments without an explicit keyword will result in an error or misinterpretation.\n",
            "  warnings.warn(\n"
          ]
        },
        {
          "data": {
            "text/plain": [
              "<AxesSubplot:xlabel='diagnostics', ylabel='count'>"
            ]
          },
          "execution_count": 387,
          "metadata": {},
          "output_type": "execute_result"
        },
        {
          "data": {
            "image/png": "[encoded data removed]",
            "text/plain": [
              "<Figure size 432x288 with 1 Axes>"
            ]
          },
          "metadata": {
            "needs_background": "light"
          },
          "output_type": "display_data"
        }
      ],
      "source": [
        "sns.countplot(NucliData_df['diagnostics'], label='count')"
      ]
    },
    {
      "cell_type": "code",
      "execution_count": null,
      "id": "405a0519",
      "metadata": {
        "id": "405a0519",
        "outputId": "c67f1f06-5ff8-41b9-967b-038fffab27b1"
      },
      "outputs": [
        {
          "data": {
            "text/plain": [
              "(569, 32)"
            ]
          },
          "execution_count": 388,
          "metadata": {},
          "output_type": "execute_result"
        }
      ],
      "source": [
        "NucliData_df.shape"
      ]
    },
    {
      "cell_type": "code",
      "execution_count": null,
      "id": "afe28791",
      "metadata": {
        "id": "afe28791",
        "outputId": "18b06283-f7f6-4bd3-e7b8-c77dd8c29e9a"
      },
      "outputs": [
        {
          "data": {
            "text/plain": [
              "id                           int64\n",
              "diagnostics                 object\n",
              "radius_mean                float64\n",
              "texture_mean               float64\n",
              "perimeter_mean             float64\n",
              "area_mean                  float64\n",
              "smoothness_mean            float64\n",
              "compactness_mean           float64\n",
              "concavity_mean             float64\n",
              "concave points_mean        float64\n",
              "symmetry_mean              float64\n",
              "fractal_dimension_mean     float64\n",
              "radius_se                  float64\n",
              "texture_se                 float64\n",
              "perimeter_se               float64\n",
              "area_se                    float64\n",
              "smoothness_se              float64\n",
              "compactness_se             float64\n",
              "concavity_se               float64\n",
              "concave points_se          float64\n",
              "symmetry_se                float64\n",
              "fractal_dimension_se       float64\n",
              "radius_worst               float64\n",
              "texture_worst              float64\n",
              "perimeter_worst            float64\n",
              "area_worst                 float64\n",
              "smoothness_worst           float64\n",
              "compactness_worst          float64\n",
              "concavity_worst            float64\n",
              "concave points_worst       float64\n",
              "symmetry_worst             float64\n",
              "fractal_dimension_worst    float64\n",
              "dtype: object"
            ]
          },
          "execution_count": 389,
          "metadata": {},
          "output_type": "execute_result"
        }
      ],
      "source": [
        "NucliData_df.dtypes"
      ]
    },
    {
      "cell_type": "code",
      "execution_count": null,
      "id": "5a81652b",
      "metadata": {
        "id": "5a81652b",
        "outputId": "b624e77a-4647-4c3f-a11a-2211c474d898"
      },
      "outputs": [
        {
          "data": {
            "text/html": [
              "<div>\n",
              "<style scoped>\n",
              "    .dataframe tbody tr th:only-of-type {\n",
              "        vertical-align: middle;\n",
              "    }\n",
              "\n",
              "    .dataframe tbody tr th {\n",
              "        vertical-align: top;\n",
              "    }\n",
              "\n",
              "    .dataframe thead th {\n",
              "        text-align: right;\n",
              "    }\n",
              "</style>\n",
              "<table border=\"1\" class=\"dataframe\">\n",
              "  <thead>\n",
              "    <tr style=\"text-align: right;\">\n",
              "      <th></th>\n",
              "      <th>id</th>\n",
              "      <th>diagnostics</th>\n",
              "      <th>radius_mean</th>\n",
              "      <th>texture_mean</th>\n",
              "      <th>perimeter_mean</th>\n",
              "      <th>area_mean</th>\n",
              "      <th>smoothness_mean</th>\n",
              "      <th>compactness_mean</th>\n",
              "      <th>concavity_mean</th>\n",
              "      <th>concave points_mean</th>\n",
              "      <th>...</th>\n",
              "      <th>radius_worst</th>\n",
              "      <th>texture_worst</th>\n",
              "      <th>perimeter_worst</th>\n",
              "      <th>area_worst</th>\n",
              "      <th>smoothness_worst</th>\n",
              "      <th>compactness_worst</th>\n",
              "      <th>concavity_worst</th>\n",
              "      <th>concave points_worst</th>\n",
              "      <th>symmetry_worst</th>\n",
              "      <th>fractal_dimension_worst</th>\n",
              "    </tr>\n",
              "  </thead>\n",
              "  <tbody>\n",
              "    <tr>\n",
              "      <th>0</th>\n",
              "      <td>842302</td>\n",
              "      <td>M</td>\n",
              "      <td>17.99</td>\n",
              "      <td>10.38</td>\n",
              "      <td>122.80</td>\n",
              "      <td>1001.0</td>\n",
              "      <td>0.11840</td>\n",
              "      <td>0.27760</td>\n",
              "      <td>0.30010</td>\n",
              "      <td>0.14710</td>\n",
              "      <td>...</td>\n",
              "      <td>25.38</td>\n",
              "      <td>17.33</td>\n",
              "      <td>184.60</td>\n",
              "      <td>2019.0</td>\n",
              "      <td>0.1622</td>\n",
              "      <td>0.6656</td>\n",
              "      <td>0.7119</td>\n",
              "      <td>0.2654</td>\n",
              "      <td>0.4601</td>\n",
              "      <td>0.11890</td>\n",
              "    </tr>\n",
              "    <tr>\n",
              "      <th>1</th>\n",
              "      <td>842517</td>\n",
              "      <td>M</td>\n",
              "      <td>20.57</td>\n",
              "      <td>17.77</td>\n",
              "      <td>132.90</td>\n",
              "      <td>1326.0</td>\n",
              "      <td>0.08474</td>\n",
              "      <td>0.07864</td>\n",
              "      <td>0.08690</td>\n",
              "      <td>0.07017</td>\n",
              "      <td>...</td>\n",
              "      <td>24.99</td>\n",
              "      <td>23.41</td>\n",
              "      <td>158.80</td>\n",
              "      <td>1956.0</td>\n",
              "      <td>0.1238</td>\n",
              "      <td>0.1866</td>\n",
              "      <td>0.2416</td>\n",
              "      <td>0.1860</td>\n",
              "      <td>0.2750</td>\n",
              "      <td>0.08902</td>\n",
              "    </tr>\n",
              "    <tr>\n",
              "      <th>2</th>\n",
              "      <td>84300903</td>\n",
              "      <td>M</td>\n",
              "      <td>19.69</td>\n",
              "      <td>21.25</td>\n",
              "      <td>130.00</td>\n",
              "      <td>1203.0</td>\n",
              "      <td>0.10960</td>\n",
              "      <td>0.15990</td>\n",
              "      <td>0.19740</td>\n",
              "      <td>0.12790</td>\n",
              "      <td>...</td>\n",
              "      <td>23.57</td>\n",
              "      <td>25.53</td>\n",
              "      <td>152.50</td>\n",
              "      <td>1709.0</td>\n",
              "      <td>0.1444</td>\n",
              "      <td>0.4245</td>\n",
              "      <td>0.4504</td>\n",
              "      <td>0.2430</td>\n",
              "      <td>0.3613</td>\n",
              "      <td>0.08758</td>\n",
              "    </tr>\n",
              "    <tr>\n",
              "      <th>3</th>\n",
              "      <td>84348301</td>\n",
              "      <td>M</td>\n",
              "      <td>11.42</td>\n",
              "      <td>20.38</td>\n",
              "      <td>77.58</td>\n",
              "      <td>386.1</td>\n",
              "      <td>0.14250</td>\n",
              "      <td>0.28390</td>\n",
              "      <td>0.24140</td>\n",
              "      <td>0.10520</td>\n",
              "      <td>...</td>\n",
              "      <td>14.91</td>\n",
              "      <td>26.50</td>\n",
              "      <td>98.87</td>\n",
              "      <td>567.7</td>\n",
              "      <td>0.2098</td>\n",
              "      <td>0.8663</td>\n",
              "      <td>0.6869</td>\n",
              "      <td>0.2575</td>\n",
              "      <td>0.6638</td>\n",
              "      <td>0.17300</td>\n",
              "    </tr>\n",
              "    <tr>\n",
              "      <th>4</th>\n",
              "      <td>84358402</td>\n",
              "      <td>M</td>\n",
              "      <td>20.29</td>\n",
              "      <td>14.34</td>\n",
              "      <td>135.10</td>\n",
              "      <td>1297.0</td>\n",
              "      <td>0.10030</td>\n",
              "      <td>0.13280</td>\n",
              "      <td>0.19800</td>\n",
              "      <td>0.10430</td>\n",
              "      <td>...</td>\n",
              "      <td>22.54</td>\n",
              "      <td>16.67</td>\n",
              "      <td>152.20</td>\n",
              "      <td>1575.0</td>\n",
              "      <td>0.1374</td>\n",
              "      <td>0.2050</td>\n",
              "      <td>0.4000</td>\n",
              "      <td>0.1625</td>\n",
              "      <td>0.2364</td>\n",
              "      <td>0.07678</td>\n",
              "    </tr>\n",
              "    <tr>\n",
              "      <th>5</th>\n",
              "      <td>843786</td>\n",
              "      <td>M</td>\n",
              "      <td>12.45</td>\n",
              "      <td>15.70</td>\n",
              "      <td>82.57</td>\n",
              "      <td>477.1</td>\n",
              "      <td>0.12780</td>\n",
              "      <td>0.17000</td>\n",
              "      <td>0.15780</td>\n",
              "      <td>0.08089</td>\n",
              "      <td>...</td>\n",
              "      <td>15.47</td>\n",
              "      <td>23.75</td>\n",
              "      <td>103.40</td>\n",
              "      <td>741.6</td>\n",
              "      <td>0.1791</td>\n",
              "      <td>0.5249</td>\n",
              "      <td>0.5355</td>\n",
              "      <td>0.1741</td>\n",
              "      <td>0.3985</td>\n",
              "      <td>0.12440</td>\n",
              "    </tr>\n",
              "    <tr>\n",
              "      <th>6</th>\n",
              "      <td>844359</td>\n",
              "      <td>M</td>\n",
              "      <td>18.25</td>\n",
              "      <td>19.98</td>\n",
              "      <td>119.60</td>\n",
              "      <td>1040.0</td>\n",
              "      <td>0.09463</td>\n",
              "      <td>0.10900</td>\n",
              "      <td>0.11270</td>\n",
              "      <td>0.07400</td>\n",
              "      <td>...</td>\n",
              "      <td>22.88</td>\n",
              "      <td>27.66</td>\n",
              "      <td>153.20</td>\n",
              "      <td>1606.0</td>\n",
              "      <td>0.1442</td>\n",
              "      <td>0.2576</td>\n",
              "      <td>0.3784</td>\n",
              "      <td>0.1932</td>\n",
              "      <td>0.3063</td>\n",
              "      <td>0.08368</td>\n",
              "    </tr>\n",
              "    <tr>\n",
              "      <th>7</th>\n",
              "      <td>84458202</td>\n",
              "      <td>M</td>\n",
              "      <td>13.71</td>\n",
              "      <td>20.83</td>\n",
              "      <td>90.20</td>\n",
              "      <td>577.9</td>\n",
              "      <td>0.11890</td>\n",
              "      <td>0.16450</td>\n",
              "      <td>0.09366</td>\n",
              "      <td>0.05985</td>\n",
              "      <td>...</td>\n",
              "      <td>17.06</td>\n",
              "      <td>28.14</td>\n",
              "      <td>110.60</td>\n",
              "      <td>897.0</td>\n",
              "      <td>0.1654</td>\n",
              "      <td>0.3682</td>\n",
              "      <td>0.2678</td>\n",
              "      <td>0.1556</td>\n",
              "      <td>0.3196</td>\n",
              "      <td>0.11510</td>\n",
              "    </tr>\n",
              "    <tr>\n",
              "      <th>8</th>\n",
              "      <td>844981</td>\n",
              "      <td>M</td>\n",
              "      <td>13.00</td>\n",
              "      <td>21.82</td>\n",
              "      <td>87.50</td>\n",
              "      <td>519.8</td>\n",
              "      <td>0.12730</td>\n",
              "      <td>0.19320</td>\n",
              "      <td>0.18590</td>\n",
              "      <td>0.09353</td>\n",
              "      <td>...</td>\n",
              "      <td>15.49</td>\n",
              "      <td>30.73</td>\n",
              "      <td>106.20</td>\n",
              "      <td>739.3</td>\n",
              "      <td>0.1703</td>\n",
              "      <td>0.5401</td>\n",
              "      <td>0.5390</td>\n",
              "      <td>0.2060</td>\n",
              "      <td>0.4378</td>\n",
              "      <td>0.10720</td>\n",
              "    </tr>\n",
              "    <tr>\n",
              "      <th>9</th>\n",
              "      <td>84501001</td>\n",
              "      <td>M</td>\n",
              "      <td>12.46</td>\n",
              "      <td>24.04</td>\n",
              "      <td>83.97</td>\n",
              "      <td>475.9</td>\n",
              "      <td>0.11860</td>\n",
              "      <td>0.23960</td>\n",
              "      <td>0.22730</td>\n",
              "      <td>0.08543</td>\n",
              "      <td>...</td>\n",
              "      <td>15.09</td>\n",
              "      <td>40.68</td>\n",
              "      <td>97.65</td>\n",
              "      <td>711.4</td>\n",
              "      <td>0.1853</td>\n",
              "      <td>1.0580</td>\n",
              "      <td>1.1050</td>\n",
              "      <td>0.2210</td>\n",
              "      <td>0.4366</td>\n",
              "      <td>0.20750</td>\n",
              "    </tr>\n",
              "  </tbody>\n",
              "</table>\n",
              "<p>10 rows × 32 columns</p>\n",
              "</div>"
            ],
            "text/plain": [
              "         id diagnostics  radius_mean  texture_mean  perimeter_mean  area_mean  \\\n",
              "0    842302           M        17.99         10.38          122.80     1001.0   \n",
              "1    842517           M        20.57         17.77          132.90     1326.0   \n",
              "2  84300903           M        19.69         21.25          130.00     1203.0   \n",
              "3  84348301           M        11.42         20.38           77.58      386.1   \n",
              "4  84358402           M        20.29         14.34          135.10     1297.0   \n",
              "5    843786           M        12.45         15.70           82.57      477.1   \n",
              "6    844359           M        18.25         19.98          119.60     1040.0   \n",
              "7  84458202           M        13.71         20.83           90.20      577.9   \n",
              "8    844981           M        13.00         21.82           87.50      519.8   \n",
              "9  84501001           M        12.46         24.04           83.97      475.9   \n",
              "\n",
              "   smoothness_mean  compactness_mean  concavity_mean  concave points_mean  \\\n",
              "0          0.11840           0.27760         0.30010              0.14710   \n",
              "1          0.08474           0.07864         0.08690              0.07017   \n",
              "2          0.10960           0.15990         0.19740              0.12790   \n",
              "3          0.14250           0.28390         0.24140              0.10520   \n",
              "4          0.10030           0.13280         0.19800              0.10430   \n",
              "5          0.12780           0.17000         0.15780              0.08089   \n",
              "6          0.09463           0.10900         0.11270              0.07400   \n",
              "7          0.11890           0.16450         0.09366              0.05985   \n",
              "8          0.12730           0.19320         0.18590              0.09353   \n",
              "9          0.11860           0.23960         0.22730              0.08543   \n",
              "\n",
              "   ...  radius_worst  texture_worst  perimeter_worst  area_worst  \\\n",
              "0  ...         25.38          17.33           184.60      2019.0   \n",
              "1  ...         24.99          23.41           158.80      1956.0   \n",
              "2  ...         23.57          25.53           152.50      1709.0   \n",
              "3  ...         14.91          26.50            98.87       567.7   \n",
              "4  ...         22.54          16.67           152.20      1575.0   \n",
              "5  ...         15.47          23.75           103.40       741.6   \n",
              "6  ...         22.88          27.66           153.20      1606.0   \n",
              "7  ...         17.06          28.14           110.60       897.0   \n",
              "8  ...         15.49          30.73           106.20       739.3   \n",
              "9  ...         15.09          40.68            97.65       711.4   \n",
              "\n",
              "   smoothness_worst  compactness_worst  concavity_worst  concave points_worst  \\\n",
              "0            0.1622             0.6656           0.7119                0.2654   \n",
              "1            0.1238             0.1866           0.2416                0.1860   \n",
              "2            0.1444             0.4245           0.4504                0.2430   \n",
              "3            0.2098             0.8663           0.6869                0.2575   \n",
              "4            0.1374             0.2050           0.4000                0.1625   \n",
              "5            0.1791             0.5249           0.5355                0.1741   \n",
              "6            0.1442             0.2576           0.3784                0.1932   \n",
              "7            0.1654             0.3682           0.2678                0.1556   \n",
              "8            0.1703             0.5401           0.5390                0.2060   \n",
              "9            0.1853             1.0580           1.1050                0.2210   \n",
              "\n",
              "   symmetry_worst  fractal_dimension_worst  \n",
              "0          0.4601                  0.11890  \n",
              "1          0.2750                  0.08902  \n",
              "2          0.3613                  0.08758  \n",
              "3          0.6638                  0.17300  \n",
              "4          0.2364                  0.07678  \n",
              "5          0.3985                  0.12440  \n",
              "6          0.3063                  0.08368  \n",
              "7          0.3196                  0.11510  \n",
              "8          0.4378                  0.10720  \n",
              "9          0.4366                  0.20750  \n",
              "\n",
              "[10 rows x 32 columns]"
            ]
          },
          "execution_count": 390,
          "metadata": {},
          "output_type": "execute_result"
        }
      ],
      "source": [
        "NucliData_df.head(10)"
      ]
    },
    {
      "cell_type": "code",
      "execution_count": null,
      "id": "d98f42fb",
      "metadata": {
        "id": "d98f42fb"
      },
      "outputs": [],
      "source": [
        "from sklearn.preprocessing import LabelEncoder\n",
        "labelencoder_y = LabelEncoder()\n",
        "NucliData_df.iloc[:,1] = labelencoder_y.fit_transform(NucliData_df.iloc[:,1].values)"
      ]
    },
    {
      "cell_type": "code",
      "execution_count": null,
      "id": "f20f0e48",
      "metadata": {
        "id": "f20f0e48",
        "outputId": "c6c459f7-b9a5-4779-a0cf-320e4b803f56"
      },
      "outputs": [
        {
          "data": {
            "text/plain": [
              "<seaborn.axisgrid.PairGrid at 0x20e4a390700>"
            ]
          },
          "execution_count": 392,
          "metadata": {},
          "output_type": "execute_result"
        },
        {
          "data": {
            "image/png": "[encoded data removed]",
            "text/plain": [
              "<Figure size 604.875x540 with 12 Axes>"
            ]
          },
          "metadata": {
            "needs_background": "light"
          },
          "output_type": "display_data"
        }
      ],
      "source": [
        "sns.pairplot(NucliData_df.iloc[:,1:5], hue='diagnostics')"
      ]
    },
    {
      "cell_type": "code",
      "execution_count": null,
      "id": "361cbafa",
      "metadata": {
        "id": "361cbafa",
        "outputId": "d2d7c309-0b11-4218-ff7f-4601c45a3a8b"
      },
      "outputs": [
        {
          "data": {
            "text/html": [
              "<div>\n",
              "<style scoped>\n",
              "    .dataframe tbody tr th:only-of-type {\n",
              "        vertical-align: middle;\n",
              "    }\n",
              "\n",
              "    .dataframe tbody tr th {\n",
              "        vertical-align: top;\n",
              "    }\n",
              "\n",
              "    .dataframe thead th {\n",
              "        text-align: right;\n",
              "    }\n",
              "</style>\n",
              "<table border=\"1\" class=\"dataframe\">\n",
              "  <thead>\n",
              "    <tr style=\"text-align: right;\">\n",
              "      <th></th>\n",
              "      <th>diagnostics</th>\n",
              "      <th>radius_mean</th>\n",
              "      <th>texture_mean</th>\n",
              "      <th>perimeter_mean</th>\n",
              "      <th>area_mean</th>\n",
              "      <th>smoothness_mean</th>\n",
              "      <th>compactness_mean</th>\n",
              "      <th>concavity_mean</th>\n",
              "      <th>concave points_mean</th>\n",
              "      <th>symmetry_mean</th>\n",
              "      <th>fractal_dimension_mean</th>\n",
              "    </tr>\n",
              "  </thead>\n",
              "  <tbody>\n",
              "    <tr>\n",
              "      <th>diagnostics</th>\n",
              "      <td>1.000000</td>\n",
              "      <td>0.730029</td>\n",
              "      <td>0.415185</td>\n",
              "      <td>0.742636</td>\n",
              "      <td>0.708984</td>\n",
              "      <td>0.358560</td>\n",
              "      <td>0.596534</td>\n",
              "      <td>0.696360</td>\n",
              "      <td>0.776614</td>\n",
              "      <td>0.330499</td>\n",
              "      <td>-0.012838</td>\n",
              "    </tr>\n",
              "    <tr>\n",
              "      <th>radius_mean</th>\n",
              "      <td>0.730029</td>\n",
              "      <td>1.000000</td>\n",
              "      <td>0.323782</td>\n",
              "      <td>0.997855</td>\n",
              "      <td>0.987357</td>\n",
              "      <td>0.170581</td>\n",
              "      <td>0.506124</td>\n",
              "      <td>0.676764</td>\n",
              "      <td>0.822529</td>\n",
              "      <td>0.147741</td>\n",
              "      <td>-0.311631</td>\n",
              "    </tr>\n",
              "    <tr>\n",
              "      <th>texture_mean</th>\n",
              "      <td>0.415185</td>\n",
              "      <td>0.323782</td>\n",
              "      <td>1.000000</td>\n",
              "      <td>0.329533</td>\n",
              "      <td>0.321086</td>\n",
              "      <td>-0.023389</td>\n",
              "      <td>0.236702</td>\n",
              "      <td>0.302418</td>\n",
              "      <td>0.293464</td>\n",
              "      <td>0.071401</td>\n",
              "      <td>-0.076437</td>\n",
              "    </tr>\n",
              "    <tr>\n",
              "      <th>perimeter_mean</th>\n",
              "      <td>0.742636</td>\n",
              "      <td>0.997855</td>\n",
              "      <td>0.329533</td>\n",
              "      <td>1.000000</td>\n",
              "      <td>0.986507</td>\n",
              "      <td>0.207278</td>\n",
              "      <td>0.556936</td>\n",
              "      <td>0.716136</td>\n",
              "      <td>0.850977</td>\n",
              "      <td>0.183027</td>\n",
              "      <td>-0.261477</td>\n",
              "    </tr>\n",
              "    <tr>\n",
              "      <th>area_mean</th>\n",
              "      <td>0.708984</td>\n",
              "      <td>0.987357</td>\n",
              "      <td>0.321086</td>\n",
              "      <td>0.986507</td>\n",
              "      <td>1.000000</td>\n",
              "      <td>0.177028</td>\n",
              "      <td>0.498502</td>\n",
              "      <td>0.685983</td>\n",
              "      <td>0.823269</td>\n",
              "      <td>0.151293</td>\n",
              "      <td>-0.283110</td>\n",
              "    </tr>\n",
              "    <tr>\n",
              "      <th>smoothness_mean</th>\n",
              "      <td>0.358560</td>\n",
              "      <td>0.170581</td>\n",
              "      <td>-0.023389</td>\n",
              "      <td>0.207278</td>\n",
              "      <td>0.177028</td>\n",
              "      <td>1.000000</td>\n",
              "      <td>0.659123</td>\n",
              "      <td>0.521984</td>\n",
              "      <td>0.553695</td>\n",
              "      <td>0.557775</td>\n",
              "      <td>0.584792</td>\n",
              "    </tr>\n",
              "    <tr>\n",
              "      <th>compactness_mean</th>\n",
              "      <td>0.596534</td>\n",
              "      <td>0.506124</td>\n",
              "      <td>0.236702</td>\n",
              "      <td>0.556936</td>\n",
              "      <td>0.498502</td>\n",
              "      <td>0.659123</td>\n",
              "      <td>1.000000</td>\n",
              "      <td>0.883121</td>\n",
              "      <td>0.831135</td>\n",
              "      <td>0.602641</td>\n",
              "      <td>0.565369</td>\n",
              "    </tr>\n",
              "    <tr>\n",
              "      <th>concavity_mean</th>\n",
              "      <td>0.696360</td>\n",
              "      <td>0.676764</td>\n",
              "      <td>0.302418</td>\n",
              "      <td>0.716136</td>\n",
              "      <td>0.685983</td>\n",
              "      <td>0.521984</td>\n",
              "      <td>0.883121</td>\n",
              "      <td>1.000000</td>\n",
              "      <td>0.921391</td>\n",
              "      <td>0.500667</td>\n",
              "      <td>0.336783</td>\n",
              "    </tr>\n",
              "    <tr>\n",
              "      <th>concave points_mean</th>\n",
              "      <td>0.776614</td>\n",
              "      <td>0.822529</td>\n",
              "      <td>0.293464</td>\n",
              "      <td>0.850977</td>\n",
              "      <td>0.823269</td>\n",
              "      <td>0.553695</td>\n",
              "      <td>0.831135</td>\n",
              "      <td>0.921391</td>\n",
              "      <td>1.000000</td>\n",
              "      <td>0.462497</td>\n",
              "      <td>0.166917</td>\n",
              "    </tr>\n",
              "    <tr>\n",
              "      <th>symmetry_mean</th>\n",
              "      <td>0.330499</td>\n",
              "      <td>0.147741</td>\n",
              "      <td>0.071401</td>\n",
              "      <td>0.183027</td>\n",
              "      <td>0.151293</td>\n",
              "      <td>0.557775</td>\n",
              "      <td>0.602641</td>\n",
              "      <td>0.500667</td>\n",
              "      <td>0.462497</td>\n",
              "      <td>1.000000</td>\n",
              "      <td>0.479921</td>\n",
              "    </tr>\n",
              "    <tr>\n",
              "      <th>fractal_dimension_mean</th>\n",
              "      <td>-0.012838</td>\n",
              "      <td>-0.311631</td>\n",
              "      <td>-0.076437</td>\n",
              "      <td>-0.261477</td>\n",
              "      <td>-0.283110</td>\n",
              "      <td>0.584792</td>\n",
              "      <td>0.565369</td>\n",
              "      <td>0.336783</td>\n",
              "      <td>0.166917</td>\n",
              "      <td>0.479921</td>\n",
              "      <td>1.000000</td>\n",
              "    </tr>\n",
              "  </tbody>\n",
              "</table>\n",
              "</div>"
            ],
            "text/plain": [
              "                        diagnostics  radius_mean  texture_mean  \\\n",
              "diagnostics                1.000000     0.730029      0.415185   \n",
              "radius_mean                0.730029     1.000000      0.323782   \n",
              "texture_mean               0.415185     0.323782      1.000000   \n",
              "perimeter_mean             0.742636     0.997855      0.329533   \n",
              "area_mean                  0.708984     0.987357      0.321086   \n",
              "smoothness_mean            0.358560     0.170581     -0.023389   \n",
              "compactness_mean           0.596534     0.506124      0.236702   \n",
              "concavity_mean             0.696360     0.676764      0.302418   \n",
              "concave points_mean        0.776614     0.822529      0.293464   \n",
              "symmetry_mean              0.330499     0.147741      0.071401   \n",
              "fractal_dimension_mean    -0.012838    -0.311631     -0.076437   \n",
              "\n",
              "                        perimeter_mean  area_mean  smoothness_mean  \\\n",
              "diagnostics                   0.742636   0.708984         0.358560   \n",
              "radius_mean                   0.997855   0.987357         0.170581   \n",
              "texture_mean                  0.329533   0.321086        -0.023389   \n",
              "perimeter_mean                1.000000   0.986507         0.207278   \n",
              "area_mean                     0.986507   1.000000         0.177028   \n",
              "smoothness_mean               0.207278   0.177028         1.000000   \n",
              "compactness_mean              0.556936   0.498502         0.659123   \n",
              "concavity_mean                0.716136   0.685983         0.521984   \n",
              "concave points_mean           0.850977   0.823269         0.553695   \n",
              "symmetry_mean                 0.183027   0.151293         0.557775   \n",
              "fractal_dimension_mean       -0.261477  -0.283110         0.584792   \n",
              "\n",
              "                        compactness_mean  concavity_mean  concave points_mean  \\\n",
              "diagnostics                     0.596534        0.696360             0.776614   \n",
              "radius_mean                     0.506124        0.676764             0.822529   \n",
              "texture_mean                    0.236702        0.302418             0.293464   \n",
              "perimeter_mean                  0.556936        0.716136             0.850977   \n",
              "area_mean                       0.498502        0.685983             0.823269   \n",
              "smoothness_mean                 0.659123        0.521984             0.553695   \n",
              "compactness_mean                1.000000        0.883121             0.831135   \n",
              "concavity_mean                  0.883121        1.000000             0.921391   \n",
              "concave points_mean             0.831135        0.921391             1.000000   \n",
              "symmetry_mean                   0.602641        0.500667             0.462497   \n",
              "fractal_dimension_mean          0.565369        0.336783             0.166917   \n",
              "\n",
              "                        symmetry_mean  fractal_dimension_mean  \n",
              "diagnostics                  0.330499               -0.012838  \n",
              "radius_mean                  0.147741               -0.311631  \n",
              "texture_mean                 0.071401               -0.076437  \n",
              "perimeter_mean               0.183027               -0.261477  \n",
              "area_mean                    0.151293               -0.283110  \n",
              "smoothness_mean              0.557775                0.584792  \n",
              "compactness_mean             0.602641                0.565369  \n",
              "concavity_mean               0.500667                0.336783  \n",
              "concave points_mean          0.462497                0.166917  \n",
              "symmetry_mean                1.000000                0.479921  \n",
              "fractal_dimension_mean       0.479921                1.000000  "
            ]
          },
          "execution_count": 393,
          "metadata": {},
          "output_type": "execute_result"
        }
      ],
      "source": [
        "NucliData_df.iloc[:,1:12].corr()"
      ]
    },
    {
      "cell_type": "code",
      "execution_count": null,
      "id": "5c515d3d",
      "metadata": {
        "id": "5c515d3d",
        "outputId": "4727c362-cd19-40df-8789-c7f765598c8d"
      },
      "outputs": [
        {
          "data": {
            "text/plain": [
              "<AxesSubplot:>"
            ]
          },
          "execution_count": 394,
          "metadata": {},
          "output_type": "execute_result"
        },
        {
          "data": {
            "image/png": "[encoded data removed]",
            "text/plain": [
              "<Figure size 720x720 with 2 Axes>"
            ]
          },
          "metadata": {
            "needs_background": "light"
          },
          "output_type": "display_data"
        }
      ],
      "source": [
        "plt.figure(figsize=(10,10))\n",
        "sns.heatmap(NucliData_df.iloc[:,1:12].corr(), annot=True, fmt='.0%')"
      ]
    },
    {
      "cell_type": "code",
      "execution_count": null,
      "id": "5d47258a",
      "metadata": {
        "id": "5d47258a"
      },
      "outputs": [],
      "source": [
        "#spilt the data set into independent (X) andd dependent (Y) sata sets\n",
        "X = NucliData_df.iloc[:,2:31].values\n",
        "Y= NucliData_df.iloc[:,1].values"
      ]
    },
    {
      "cell_type": "code",
      "execution_count": null,
      "id": "25404924",
      "metadata": {
        "id": "25404924"
      },
      "outputs": [],
      "source": [
        "#splil the data set into 75% training and 25% testing\n",
        "from sklearn.model_selection import train_test_split \n",
        "X_train, X_test, Y_train, Y_test = train_test_split(X,Y, test_size = 0.25, random_state = 0)"
      ]
    },
    {
      "cell_type": "code",
      "execution_count": null,
      "id": "c968290c",
      "metadata": {
        "id": "c968290c"
      },
      "outputs": [],
      "source": [
        "#scale the data (feature scaling)\n",
        "# imp..........\n",
        "from sklearn.preprocessing import StandardScaler\n",
        "sc = StandardScaler()\n",
        "X_train = sc.fit_transform(X_train)\n",
        "X_test = sc.fit_transform(X_test)"
      ]
    },
    {
      "cell_type": "code",
      "execution_count": null,
      "id": "30c96b0a",
      "metadata": {
        "id": "30c96b0a"
      },
      "outputs": [],
      "source": [
        "# function to find the detail of all the matrix\n",
        "\n",
        "from sklearn.metrics import confusion_matrix\n",
        "\n",
        "def Matrix(Y_predict):\n",
        "    cm = confusion_matrix(Y_test, Y_predict)\n",
        "    \n",
        "    TP = cm[0][0]\n",
        "    TN = cm[1][1]\n",
        "    FP = cm[0][1]\n",
        "    FN = cm[1][0]\n",
        "\n",
        "    print(cm)\n",
        "    print()\n",
        "\n",
        "    Accuracy = (TP+TN)/(TP+TN+FP+FN)\n",
        "    Precision = TP/(TP+FP)\n",
        "    Recall = TP/(TP+FN)\n",
        "    F1 = (2*Precision*Recall)/(Precision+Recall)\n",
        "\n",
        "    print('Accuracy of the Classifier = ', Accuracy)\n",
        "    print('Precision = ', Precision)\n",
        "    print('F1 Score = ', F1)\n",
        "    \n",
        "    return Accuracy, Precision, Precision, F1"
      ]
    },
    {
      "cell_type": "code",
      "execution_count": null,
      "id": "55089a75",
      "metadata": {
        "id": "55089a75"
      },
      "outputs": [],
      "source": [
        ""
      ]
    },
    {
      "cell_type": "code",
      "execution_count": null,
      "id": "ef29339e",
      "metadata": {
        "id": "ef29339e"
      },
      "outputs": [],
      "source": [
        "# RANDOM FOREST CLASSIFIER"
      ]
    },
    {
      "cell_type": "markdown",
      "source": [
        "RANDOM FOREST CLASSIFIER\n"
      ],
      "metadata": {
        "id": "vTFWaNY6yn8F"
      },
      "id": "vTFWaNY6yn8F"
    },
    {
      "cell_type": "code",
      "execution_count": null,
      "id": "8c356da5",
      "metadata": {
        "id": "8c356da5"
      },
      "outputs": [],
      "source": [
        "# create a function for the models\n",
        "# n_estimator = number of the trees\n",
        "# max_depth = maximum depth of the tree\n",
        "# min_samples_Split =  the minimum number of samples required to split an internal node:\n",
        "# min_weight_fraction_leaf = \n",
        "from sklearn.ensemble import RandomForestClassifier\n",
        "\n",
        "rf = RandomForestClassifier()\n",
        "\n",
        "rf.fit(X_train, Y_train)\n",
        "\n",
        "RandomForestClassifier(bootstrap=True, class_weight=None, criterion='gini',\n",
        " max_depth=None, max_features='auto', max_leaf_nodes=None, min_samples_leaf=1,\n",
        " min_samples_split=2, min_weight_fraction_leaf=0.0,\n",
        " n_estimators=10, n_jobs=1, oob_score=False, random_state=None, verbose=0, warm_start=False)\n",
        "\n",
        "Y_pred  = rf.predict(X_test)"
      ]
    },
    {
      "cell_type": "code",
      "execution_count": null,
      "id": "6f5566f9",
      "metadata": {
        "id": "6f5566f9"
      },
      "outputs": [],
      "source": [
        "from sklearn.metrics import roc_curve, auc\n",
        "false_positive_rate, true_positive_rate, thresholds = roc_curve(Y_test, Y_pred)\n",
        "roc_auc = auc(false_positive_rate, true_positive_rate)"
      ]
    },
    {
      "cell_type": "code",
      "execution_count": null,
      "id": "b50c64d0",
      "metadata": {
        "id": "b50c64d0",
        "outputId": "08205059-2f9a-42c1-d94a-7be97f0614bd"
      },
      "outputs": [
        {
          "name": "stdout",
          "output_type": "stream",
          "text": [
            "0.9833333333333334 135\n"
          ]
        },
        {
          "data": {
            "image/png": "[encoded data removed]",
            "text/plain": [
              "<Figure size 432x288 with 1 Axes>"
            ]
          },
          "metadata": {
            "needs_background": "light"
          },
          "output_type": "display_data"
        }
      ],
      "source": [
        "n_estimators = np.arange(1,200,1)\n",
        "\n",
        "train_results = []\n",
        "test_results = []\n",
        "for estimator in n_estimators:\n",
        "    rf = RandomForestClassifier(n_estimators=estimator)\n",
        "    rf.fit(X_train, Y_train)\n",
        "\n",
        "    train_pred = rf.predict(X_train)\n",
        "\n",
        "    false_positive_rate, true_positive_rate, thresholds = roc_curve(Y_train, train_pred)\n",
        "    # print(false_positive_rate, true_positive_rate, thresholds, \"train\")\n",
        "    # print()\n",
        "    roc_auc = auc(false_positive_rate, true_positive_rate)\n",
        "    train_results.append(roc_auc)\n",
        "\n",
        "\n",
        "    Y_pred = rf.predict(X_test)\n",
        "\n",
        "    false_positive_rate, true_positive_rate, thresholds = roc_curve(Y_test, Y_pred)\n",
        "    # print(false_positive_rate, true_positive_rate, thresholds, \"test\")\n",
        "    # print()\n",
        "    roc_auc = auc(false_positive_rate, true_positive_rate)\n",
        "    test_results.append(roc_auc)\n",
        "\n",
        "max_y = max(test_results)\n",
        "max_x = n_estimators[test_results.index(max_y)]\n",
        "print(max_y, max_x)\n",
        "\n",
        "from matplotlib.legend_handler import HandlerLine2D\n",
        "\n",
        "line1, = plt.plot(n_estimators, train_results, 'b', label=\"train_AUC\")\n",
        "line2, = plt.plot(n_estimators, test_results, 'r', label = 'Test AUC')\n",
        "\n",
        "plt.legend(handler_map={line1: HandlerLine2D(numpoints=2)})\n",
        "\n",
        "plt.ylabel('AUC score')\n",
        "plt.xlabel('n_estimators')\n",
        "plt.show()"
      ]
    },
    {
      "cell_type": "code",
      "execution_count": null,
      "id": "44151438",
      "metadata": {
        "id": "44151438",
        "outputId": "1149267c-4dc6-48c6-958f-61f228b8ea5f"
      },
      "outputs": [
        {
          "name": "stdout",
          "output_type": "stream",
          "text": [
            "0.9777777777777779 22\n"
          ]
        },
        {
          "data": {
            "image/png": "[encoded data removed]",
            "text/plain": [
              "<Figure size 432x288 with 1 Axes>"
            ]
          },
          "metadata": {
            "needs_background": "light"
          },
          "output_type": "display_data"
        }
      ],
      "source": [
        "max_depths = np.linspace(1,32,32, endpoint=True)\n",
        "\n",
        "train_results = []\n",
        "test_results = []\n",
        "\n",
        "for max_depth in max_depths:\n",
        "  rf = RandomForestClassifier(max_depth=max_depth, n_jobs=-1)\n",
        "  rf.fit(X_train, Y_train)\n",
        "\n",
        "  train_pred = rf.predict(X_train)\n",
        "\n",
        "  false_positive_rate, true_positive_rate, thresholds = roc_curve(Y_train, train_pred)\n",
        "  roc_auc = auc(false_positive_rate, true_positive_rate)\n",
        "  train_results.append(roc_auc)\n",
        "\n",
        "  Y_pred = rf.predict(X_test)\n",
        "\n",
        "  false_positive_rate, true_positive_rate, thresholds = roc_curve(Y_test, Y_pred)\n",
        "  roc_auc = auc(false_positive_rate, true_positive_rate)\n",
        "  test_results.append(roc_auc)\n",
        "\n",
        "max_y = max(test_results)\n",
        "max_x = n_estimators[test_results.index(max_y)]\n",
        "print(max_y, max_x)\n",
        "\n",
        "from matplotlib.legend_handler import HandlerLine2D\n",
        "\n",
        "line1, = plt.plot(max_depths, train_results, 'b', label = \"Train AUC\")\n",
        "line2, = plt.plot(max_depths, test_results, 'r', label = \"Test AUC\")\n",
        "\n",
        "plt.legend(handler_map={line1: HandlerLine2D(numpoints=2)})\n",
        "\n",
        "plt.ylabel('AUC score')\n",
        "plt.xlabel('Tree depth')\n",
        "plt.show()\n",
        "  "
      ]
    },
    {
      "cell_type": "code",
      "execution_count": null,
      "id": "c9548849",
      "metadata": {
        "id": "c9548849",
        "outputId": "71daa866-73b2-4868-bb57-0a5a43e43a4c"
      },
      "outputs": [
        {
          "name": "stdout",
          "output_type": "stream",
          "text": [
            "0.9777777777777779 1\n"
          ]
        },
        {
          "data": {
            "image/png": "[encoded data removed]",
            "text/plain": [
              "<Figure size 432x288 with 1 Axes>"
            ]
          },
          "metadata": {
            "needs_background": "light"
          },
          "output_type": "display_data"
        }
      ],
      "source": [
        "min_samples_splits = np.linspace(0.1, 1.0,10, endpoint = True)\n",
        "\n",
        "train_results = []\n",
        "test_results = []\n",
        "\n",
        "for min_samples_split in min_samples_splits:\n",
        "  rf = RandomForestClassifier(max_depth=max_depth, n_jobs=-1)\n",
        "  rf.fit(X_train, Y_train)\n",
        "\n",
        "  train_pred = rf.predict(X_train)\n",
        "\n",
        "  false_positive_rate, true_positive_rate, thresholds = roc_curve(Y_train, train_pred)\n",
        "  roc_auc = auc(false_positive_rate, true_positive_rate)\n",
        "  train_results.append(roc_auc)\n",
        "\n",
        "  Y_pred = rf.predict(X_test)\n",
        "\n",
        "  false_positive_rate, true_positive_rate, thresholds = roc_curve(Y_test, Y_pred)\n",
        "  roc_auc = auc(false_positive_rate, true_positive_rate)\n",
        "  test_results.append(roc_auc)\n",
        "\n",
        "max_y = max(test_results)\n",
        "max_x = n_estimators[test_results.index(max_y)]\n",
        "print(max_y, max_x)\n",
        "\n",
        "from matplotlib.legend_handler import HandlerLine2D\n",
        "\n",
        "line1, = plt.plot(min_samples_splits, train_results, 'b', label = \"Train AUC\")\n",
        "line2, = plt.plot(min_samples_splits, test_results, 'r', label = \"Test AUC\")\n",
        "\n",
        "plt.legend(handler_map={line1: HandlerLine2D(numpoints=2)})\n",
        "\n",
        "plt.ylabel('AUC score')\n",
        "plt.xlabel('min samples split')\n",
        "plt.show()"
      ]
    },
    {
      "cell_type": "code",
      "execution_count": null,
      "id": "671e508e",
      "metadata": {
        "id": "671e508e",
        "outputId": "6153c3ae-1b40-459e-8076-e0035642e56d"
      },
      "outputs": [
        {
          "name": "stdout",
          "output_type": "stream",
          "text": [
            "0.9627882599580713 1\n"
          ]
        },
        {
          "data": {
            "image/png": "[encoded data removed]",
            "text/plain": [
              "<Figure size 432x288 with 1 Axes>"
            ]
          },
          "metadata": {
            "needs_background": "light"
          },
          "output_type": "display_data"
        }
      ],
      "source": [
        "min_samples_splits = np.linspace(0.1, 1.0, 10, endpoint=True)\n",
        "train_results = []\n",
        "test_results = []\n",
        "\n",
        "for min_samples_split in min_samples_splits:\n",
        "   rf = RandomForestClassifier(min_samples_split=min_samples_split)\n",
        "   rf.fit(X_train, Y_train)\n",
        "\n",
        "   train_pred = rf.predict(X_train)\n",
        "\n",
        "   false_positive_rate, true_positive_rate, thresholds = roc_curve(Y_train, train_pred)\n",
        "   roc_auc = auc(false_positive_rate, true_positive_rate)\n",
        "   train_results.append(roc_auc)\n",
        "\n",
        "   Y_pred = rf.predict(X_test)\n",
        "\n",
        "   false_positive_rate, true_positive_rate, thresholds = roc_curve(Y_test, Y_pred)\n",
        "   roc_auc = auc(false_positive_rate, true_positive_rate)\n",
        "   test_results.append(roc_auc)\n",
        "\n",
        "max_y = max(test_results)\n",
        "max_x = n_estimators[test_results.index(max_y)]\n",
        "print(max_y, max_x)\n",
        "\n",
        "from matplotlib.legend_handler import HandlerLine2D\n",
        "\n",
        "line1, = plt.plot(min_samples_splits, train_results, 'b', label='Train AUC')\n",
        "line2, = plt.plot(min_samples_splits, test_results, 'r', label='Test AUC')\n",
        "\n",
        "plt.legend(handler_map={line1: HandlerLine2D(numpoints=2)})\n",
        "\n",
        "plt.ylabel('AUC score')\n",
        "plt.xlabel('min samples split')\n",
        "plt.show()"
      ]
    },
    {
      "cell_type": "code",
      "execution_count": null,
      "id": "49aebf2a",
      "metadata": {
        "id": "49aebf2a",
        "outputId": "6bc877d3-6b61-41f4-ff29-b3eb5c63f612"
      },
      "outputs": [
        {
          "name": "stdout",
          "output_type": "stream",
          "text": [
            "0.9627882599580713 1\n"
          ]
        },
        {
          "data": {
            "image/png": "[encoded data removed]",
            "text/plain": [
              "<Figure size 432x288 with 1 Axes>"
            ]
          },
          "metadata": {
            "needs_background": "light"
          },
          "output_type": "display_data"
        }
      ],
      "source": [
        "min_samples_leafs = np.linspace(0.1, 0.5, 5, endpoint=True)\n",
        "\n",
        "train_results = []\n",
        "test_results = []\n",
        "\n",
        "for min_samples_leaf in min_samples_leafs:\n",
        "\n",
        "   rf = RandomForestClassifier(min_samples_leaf=min_samples_leaf)\n",
        "   rf.fit(X_train, Y_train)\n",
        "\n",
        "   train_pred = rf.predict(X_train)\n",
        "\n",
        "   false_positive_rate, true_positive_rate, thresholds = roc_curve(Y_train, train_pred)\n",
        "   roc_auc = auc(false_positive_rate, true_positive_rate)\n",
        "   train_results.append(roc_auc)\n",
        "\n",
        "   Y_pred = rf.predict(X_test)\n",
        "\n",
        "   false_positive_rate, true_positive_rate, thresholds = roc_curve(Y_test, Y_pred)\n",
        "   roc_auc = auc(false_positive_rate, true_positive_rate)\n",
        "   test_results.append(roc_auc)\n",
        "\n",
        "max_y = max(test_results)\n",
        "max_x = n_estimators[test_results.index(max_y)]\n",
        "print(max_y, max_x)\n",
        "\n",
        "from matplotlib.legend_handler import HandlerLine2D\n",
        "\n",
        "line1, = plt.plot(min_samples_leafs, train_results, 'b', label='Train AUC')\n",
        "line2, = plt.plot(min_samples_leafs, test_results, 'r', label='Test AUC')\n",
        "\n",
        "plt.legend(handler_map={line1: HandlerLine2D(numpoints=2)})\n",
        "\n",
        "plt.ylabel('AUC score')\n",
        "plt.xlabel('min samples leaf')\n",
        "plt.show()"
      ]
    },
    {
      "cell_type": "code",
      "execution_count": null,
      "id": "8855ab8e",
      "metadata": {
        "id": "8855ab8e"
      },
      "outputs": [],
      "source": [
        "n_estimators = [6, 8, 16, 21, 26, 30, 31, 39, 43, 49]\n",
        "\n",
        "max_features = ['auto', 'sqrt']\n",
        "\n",
        "max_depths = [6, 9, 11, 13]\n",
        "\n",
        "min_samples_splits = [1, 2, 3, 4, 5]\n",
        "\n",
        "min_samples_leafs = [1]\n",
        "\n",
        "bootstrap = [True, False]"
      ]
    },
    {
      "cell_type": "code",
      "execution_count": null,
      "id": "1f2f516b",
      "metadata": {
        "scrolled": true,
        "id": "1f2f516b",
        "outputId": "8e73f75b-63a9-43b0-daa5-af4db8529177"
      },
      "outputs": [
        {
          "name": "stdout",
          "output_type": "stream",
          "text": [
            "{'n_estimators': [6, 8, 16, 21, 26, 30, 31, 39, 43, 49], 'max_features': ['auto', 'sqrt'], 'max_depth': [6, 9, 11, 13], 'min_samples_split': [1, 2, 3, 4, 5], 'min_samples_leaf': [1], 'bootstrap': [True, False]}\n"
          ]
        }
      ],
      "source": [
        "param_grid = {\n",
        "    'n_estimators' : n_estimators,\n",
        "    'max_features' : max_features,\n",
        "    'max_depth' : max_depths,\n",
        "    'min_samples_split' : min_samples_splits,\n",
        "    'min_samples_leaf' : min_samples_leafs,\n",
        "    'bootstrap' : bootstrap\n",
        "}\n",
        "\n",
        "print(param_grid)"
      ]
    },
    {
      "cell_type": "code",
      "execution_count": null,
      "id": "a4e79215",
      "metadata": {
        "id": "a4e79215"
      },
      "outputs": [],
      "source": [
        "rf_Model = RandomForestClassifier()"
      ]
    },
    {
      "cell_type": "code",
      "execution_count": null,
      "id": "783cb502",
      "metadata": {
        "id": "783cb502"
      },
      "outputs": [],
      "source": [
        "from sklearn.model_selection import RandomizedSearchCV\n",
        "rf_RandomGrid = RandomizedSearchCV(estimator = rf_Model, param_distributions = param_grid, cv=3, verbose = 2, n_jobs=4)"
      ]
    },
    {
      "cell_type": "code",
      "execution_count": null,
      "id": "116a15e2",
      "metadata": {
        "id": "116a15e2",
        "outputId": "bd526a84-4aed-48af-fa63-4344b1efadc6"
      },
      "outputs": [
        {
          "name": "stdout",
          "output_type": "stream",
          "text": [
            "Fitting 3 folds for each of 10 candidates, totalling 30 fits\n"
          ]
        },
        {
          "name": "stderr",
          "output_type": "stream",
          "text": [
            "C:\\Users\\soura\\anaconda3\\lib\\site-packages\\sklearn\\model_selection\\_validation.py:372: FitFailedWarning: \n",
            "3 fits failed out of a total of 30.\n",
            "The score on these train-test partitions for these parameters will be set to nan.\n",
            "If these failures are not expected, you can try to debug them by setting error_score='raise'.\n",
            "\n",
            "Below are more details about the failures:\n",
            "--------------------------------------------------------------------------------\n",
            "3 fits failed with the following error:\n",
            "Traceback (most recent call last):\n",
            "  File \"C:\\Users\\soura\\anaconda3\\lib\\site-packages\\sklearn\\model_selection\\_validation.py\", line 681, in _fit_and_score\n",
            "    estimator.fit(X_train, y_train, **fit_params)\n",
            "  File \"C:\\Users\\soura\\anaconda3\\lib\\site-packages\\sklearn\\ensemble\\_forest.py\", line 442, in fit\n",
            "    trees = Parallel(\n",
            "  File \"C:\\Users\\soura\\anaconda3\\lib\\site-packages\\joblib\\parallel.py\", line 1043, in __call__\n",
            "    if self.dispatch_one_batch(iterator):\n",
            "  File \"C:\\Users\\soura\\anaconda3\\lib\\site-packages\\joblib\\parallel.py\", line 861, in dispatch_one_batch\n",
            "    self._dispatch(tasks)\n",
            "  File \"C:\\Users\\soura\\anaconda3\\lib\\site-packages\\joblib\\parallel.py\", line 779, in _dispatch\n",
            "    job = self._backend.apply_async(batch, callback=cb)\n",
            "  File \"C:\\Users\\soura\\anaconda3\\lib\\site-packages\\joblib\\_parallel_backends.py\", line 208, in apply_async\n",
            "    result = ImmediateResult(func)\n",
            "  File \"C:\\Users\\soura\\anaconda3\\lib\\site-packages\\joblib\\_parallel_backends.py\", line 572, in __init__\n",
            "    self.results = batch()\n",
            "  File \"C:\\Users\\soura\\anaconda3\\lib\\site-packages\\joblib\\parallel.py\", line 262, in __call__\n",
            "    return [func(*args, **kwargs)\n",
            "  File \"C:\\Users\\soura\\anaconda3\\lib\\site-packages\\joblib\\parallel.py\", line 262, in <listcomp>\n",
            "    return [func(*args, **kwargs)\n",
            "  File \"C:\\Users\\soura\\anaconda3\\lib\\site-packages\\sklearn\\utils\\fixes.py\", line 211, in __call__\n",
            "    return self.function(*args, **kwargs)\n",
            "  File \"C:\\Users\\soura\\anaconda3\\lib\\site-packages\\sklearn\\ensemble\\_forest.py\", line 185, in _parallel_build_trees\n",
            "    tree.fit(X, y, sample_weight=curr_sample_weight, check_input=False)\n",
            "  File \"C:\\Users\\soura\\anaconda3\\lib\\site-packages\\sklearn\\tree\\_classes.py\", line 937, in fit\n",
            "    super().fit(\n",
            "  File \"C:\\Users\\soura\\anaconda3\\lib\\site-packages\\sklearn\\tree\\_classes.py\", line 250, in fit\n",
            "    raise ValueError(\n",
            "ValueError: min_samples_split must be an integer greater than 1 or a float in (0.0, 1.0]; got the integer 1\n",
            "\n",
            "  warnings.warn(some_fits_failed_message, FitFailedWarning)\n",
            "C:\\Users\\soura\\anaconda3\\lib\\site-packages\\sklearn\\model_selection\\_search.py:969: UserWarning: One or more of the test scores are non-finite: [0.9600939  0.95305164        nan 0.95774648 0.95305164 0.93192488\n",
            " 0.95305164 0.95539906 0.95539906 0.93896714]\n",
            "  warnings.warn(\n"
          ]
        },
        {
          "data": {
            "text/plain": [
              "RandomizedSearchCV(cv=3, estimator=RandomForestClassifier(), n_jobs=4,\n",
              "                   param_distributions={'bootstrap': [True, False],\n",
              "                                        'max_depth': [6, 9, 11, 13],\n",
              "                                        'max_features': ['auto', 'sqrt'],\n",
              "                                        'min_samples_leaf': [1],\n",
              "                                        'min_samples_split': [1, 2, 3, 4, 5],\n",
              "                                        'n_estimators': [6, 8, 16, 21, 26, 30,\n",
              "                                                         31, 39, 43, 49]},\n",
              "                   verbose=2)"
            ]
          },
          "execution_count": 411,
          "metadata": {},
          "output_type": "execute_result"
        }
      ],
      "source": [
        "rf_RandomGrid.fit(X_train, Y_train)"
      ]
    },
    {
      "cell_type": "code",
      "execution_count": null,
      "id": "20b5afbe",
      "metadata": {
        "id": "20b5afbe",
        "outputId": "d50ba18c-4fb8-4dcc-db51-f84353ce5b63"
      },
      "outputs": [
        {
          "data": {
            "text/plain": [
              "{'n_estimators': 39,\n",
              " 'min_samples_split': 2,\n",
              " 'min_samples_leaf': 1,\n",
              " 'max_features': 'sqrt',\n",
              " 'max_depth': 9,\n",
              " 'bootstrap': True}"
            ]
          },
          "execution_count": 412,
          "metadata": {},
          "output_type": "execute_result"
        }
      ],
      "source": [
        "rf_RandomGrid.best_params_"
      ]
    },
    {
      "cell_type": "code",
      "execution_count": null,
      "id": "025d98d2",
      "metadata": {
        "id": "025d98d2",
        "outputId": "f2351d40-3a82-4f31-c6d9-8b010dc4c3e8"
      },
      "outputs": [
        {
          "name": "stdout",
          "output_type": "stream",
          "text": [
            "Train Accuracy - : 1.000\n",
            "Test Accuracy - : 0.972\n",
            "[1 0 0 0 0 0 0 0 0 0 1 0 0 1 1 1 0 1 1 1 1 1 0 0 1 0 0 1 0 1 0 1 0 1 0 1 0\n",
            " 1 0 1 0 0 1 0 0 1 0 0 0 1 1 1 1 0 0 0 0 0 0 1 1 1 0 0 1 0 1 1 1 0 0 1 0 1\n",
            " 1 0 0 0 0 0 1 1 1 0 1 0 0 0 1 1 0 1 0 1 0 0 1 0 0 0 0 0 0 0 1 0 1 0 1 1 0\n",
            " 1 1 0 0 0 0 0 0 0 0 0 1 0 1 0 0 0 0 0 1 0 0 0 0 0 0 1 1 0 0 0 1]\n"
          ]
        }
      ],
      "source": [
        "print(f'Train Accuracy - : {rf_RandomGrid.score(X_train, Y_train):.3f}')\n",
        "print(f'Test Accuracy - : {rf_RandomGrid.score(X_test, Y_test):.3f}')\n",
        "\n",
        "# Y_PREDICTTION\n",
        "y_predict_Random_Forest =  rf_RandomGrid.predict(X_test)\n",
        "print(y_predict_Random_Forest)"
      ]
    },
    {
      "cell_type": "code",
      "execution_count": null,
      "id": "59d072b6",
      "metadata": {
        "id": "59d072b6"
      },
      "outputs": [],
      "source": [
        ""
      ]
    },
    {
      "cell_type": "code",
      "execution_count": null,
      "id": "7edfd37c",
      "metadata": {
        "id": "7edfd37c"
      },
      "outputs": [],
      "source": [
        "# ADABOOST ENSEMBLE ALGORITHM (BAGGING)"
      ]
    },
    {
      "cell_type": "code",
      "execution_count": null,
      "id": "3afb59e2",
      "metadata": {
        "id": "3afb59e2"
      },
      "outputs": [],
      "source": [
        ""
      ]
    },
    {
      "cell_type": "code",
      "execution_count": null,
      "id": "fba31071",
      "metadata": {
        "id": "fba31071",
        "outputId": "e16485a9-867b-4785-d31a-93de2d6b95bd"
      },
      "outputs": [
        {
          "data": {
            "text/plain": [
              "AdaBoostClassifier(base_estimator=DecisionTreeClassifier(), n_estimators=100,\n",
              "                   random_state=0)"
            ]
          },
          "execution_count": 415,
          "metadata": {},
          "output_type": "execute_result"
        }
      ],
      "source": [
        "#classification through the Adaboost algorithm\n",
        "\n",
        "from sklearn.ensemble import AdaBoostClassifier\n",
        "from sklearn.tree import DecisionTreeClassifier\n",
        "\n",
        "ada = AdaBoostClassifier(DecisionTreeClassifier(), n_estimators = 100, random_state=0)\n",
        "ada.fit(X_train, Y_train)"
      ]
    },
    {
      "cell_type": "code",
      "execution_count": null,
      "id": "b4fbfa0f",
      "metadata": {
        "id": "b4fbfa0f"
      },
      "outputs": [],
      "source": [
        "n_estimators = [6, 8, 16, 21, 26, 30, 31, 39, 43, 49]\n",
        "\n",
        "max_features = ['auto', 'sqrt']\n",
        "\n",
        "max_depths = [6, 9, 11, 13]\n",
        "\n",
        "min_samples_splits = [1, 2, 3, 4, 5]\n",
        "\n",
        "min_samples_leafs = [1]\n",
        "\n",
        "bootstrap = [True, False]"
      ]
    },
    {
      "cell_type": "code",
      "execution_count": null,
      "id": "f455bea7",
      "metadata": {
        "id": "f455bea7"
      },
      "outputs": [],
      "source": [
        "param_grid = {\n",
        "    'n_estimators' : n_estimators,\n",
        "    'max_features' : max_features,\n",
        "    'max_depth' : max_depths,\n",
        "    'min_samples_split' : min_samples_splits,\n",
        "    'min_samples_leaf' : min_samples_leafs,\n",
        "    'bootstrap' : bootstrap\n",
        "}"
      ]
    },
    {
      "cell_type": "code",
      "execution_count": null,
      "id": "95e51543",
      "metadata": {
        "id": "95e51543",
        "outputId": "76e4706c-4dde-4a8b-ca4d-c5b4b38489ed"
      },
      "outputs": [
        {
          "name": "stdout",
          "output_type": "stream",
          "text": [
            "Test Accuracy - : 0.8881118881118881\n"
          ]
        }
      ],
      "source": [
        "predictions = ada.score(X_test, Y_test)\n",
        "print(\"Test Accuracy - :\", predictions)"
      ]
    },
    {
      "cell_type": "code",
      "execution_count": null,
      "id": "9bee43bf",
      "metadata": {
        "id": "9bee43bf",
        "outputId": "7415857e-daae-42f3-92e1-5d37707b83ea"
      },
      "outputs": [
        {
          "data": {
            "text/plain": [
              "AdaBoostClassifier(base_estimator=DecisionTreeClassifier(), n_estimators=100,\n",
              "                   random_state=0)"
            ]
          },
          "execution_count": 419,
          "metadata": {},
          "output_type": "execute_result"
        }
      ],
      "source": [
        "from sklearn.ensemble import AdaBoostClassifier\n",
        "from sklearn.tree import DecisionTreeClassifier\n",
        "\n",
        "ada = AdaBoostClassifier(DecisionTreeClassifier(), n_estimators = 100, random_state=0)\n",
        "ada.fit(X_train, Y_train)"
      ]
    },
    {
      "cell_type": "code",
      "execution_count": null,
      "id": "ed51591b",
      "metadata": {
        "id": "ed51591b"
      },
      "outputs": [],
      "source": [
        "adaboost_Model = AdaBoostClassifier()"
      ]
    },
    {
      "cell_type": "code",
      "execution_count": null,
      "id": "2e1b2f08",
      "metadata": {
        "id": "2e1b2f08"
      },
      "outputs": [],
      "source": [
        "param_grid = {\n",
        "    'n_estimators' : [10, 50, 100, 200, 500],\n",
        "    'learning_rate' : [0.0001, 0.001, 0.01, 0.1, 1.0],\n",
        "    'algorithm' : ['SAMME', 'SAMME.R']\n",
        "}"
      ]
    },
    {
      "cell_type": "code",
      "execution_count": null,
      "id": "9c3dd0cd",
      "metadata": {
        "id": "9c3dd0cd"
      },
      "outputs": [],
      "source": [
        "# random search for the Adaboost\n",
        "\n",
        "from sklearn.model_selection import RandomizedSearchCV\n",
        "AdaBoost_RandomGrid = RandomizedSearchCV(estimator = adaboost_Model, param_distributions = param_grid, cv=5, scoring = 'accuracy',  n_jobs=-1)"
      ]
    },
    {
      "cell_type": "code",
      "execution_count": null,
      "id": "3a959b28",
      "metadata": {
        "id": "3a959b28",
        "outputId": "ce00e16c-5888-473f-f6a9-19b60a62baf5"
      },
      "outputs": [
        {
          "data": {
            "text/plain": [
              "RandomizedSearchCV(cv=5, estimator=AdaBoostClassifier(), n_jobs=-1,\n",
              "                   param_distributions={'algorithm': ['SAMME', 'SAMME.R'],\n",
              "                                        'learning_rate': [0.0001, 0.001, 0.01,\n",
              "                                                          0.1, 1.0],\n",
              "                                        'n_estimators': [10, 50, 100, 200,\n",
              "                                                         500]},\n",
              "                   scoring='accuracy')"
            ]
          },
          "execution_count": 423,
          "metadata": {},
          "output_type": "execute_result"
        }
      ],
      "source": [
        "AdaBoost_RandomGrid.fit(X_train, Y_train)"
      ]
    },
    {
      "cell_type": "code",
      "execution_count": null,
      "id": "fffbdee6",
      "metadata": {
        "id": "fffbdee6",
        "outputId": "da704b00-3045-473c-a8da-949b4a6f922a"
      },
      "outputs": [
        {
          "data": {
            "text/plain": [
              "{'n_estimators': 200, 'learning_rate': 1.0, 'algorithm': 'SAMME'}"
            ]
          },
          "execution_count": 424,
          "metadata": {},
          "output_type": "execute_result"
        }
      ],
      "source": [
        "AdaBoost_RandomGrid.best_params_"
      ]
    },
    {
      "cell_type": "code",
      "execution_count": null,
      "id": "b9d863d8",
      "metadata": {
        "id": "b9d863d8",
        "outputId": "e2aef3a9-1a70-4c9b-e65c-313e0a8a8d7e"
      },
      "outputs": [
        {
          "name": "stdout",
          "output_type": "stream",
          "text": [
            "Train Accuracy - : 1.000\n",
            "Test Accuracy - : 0.951\n"
          ]
        }
      ],
      "source": [
        "print(f'Train Accuracy - : {AdaBoost_RandomGrid.score(X_train, Y_train):.3f}')\n",
        "print(f'Test Accuracy - : {AdaBoost_RandomGrid.score(X_test, Y_test):.3f}')"
      ]
    },
    {
      "cell_type": "code",
      "execution_count": null,
      "id": "bd83a0b3",
      "metadata": {
        "id": "bd83a0b3"
      },
      "outputs": [],
      "source": [
        "# predict from the Adaboost RandomSea4rch algorithm\n",
        "# Y_PREDICTION_ADABOOST\n",
        "Y_predict_RandomGrid_Adaboost  = AdaBoost_RandomGrid.predict(X_test)"
      ]
    },
    {
      "cell_type": "code",
      "execution_count": null,
      "id": "01acd493",
      "metadata": {
        "id": "01acd493",
        "outputId": "f930a82d-7fa6-405f-b1dc-5b40cf8a1170"
      },
      "outputs": [
        {
          "name": "stdout",
          "output_type": "stream",
          "text": [
            "Best: 1.000000 using train {'algorithm': 'SAMME', 'learning_rate': 1.0, 'n_estimators': 500}\n",
            "Best: 0.951049 using train {'algorithm': 'SAMME', 'learning_rate': 1.0, 'n_estimators': 500}\n"
          ]
        }
      ],
      "source": [
        "#  Adaboost GridSearch algorithm \n",
        "\n",
        "\n",
        "from sklearn.model_selection import GridSearchCV\n",
        "\n",
        "grid = dict()\n",
        "grid['n_estimators'] = [10, 50, 100, 500]\n",
        "grid['learning_rate'] = [0.0001, 0.001, 0.01, 0.1, 1.0]\n",
        "grid['algorithm'] = ['SAMME', 'SAMME.R']\n",
        "\n",
        "grid_search = GridSearchCV(estimator = AdaBoostClassifier(), param_grid = grid, n_jobs = -1, cv=10, scoring = 'accuracy')\n",
        "grid_result = grid_search.fit(X_train, Y_train)\n",
        "\n",
        "\n",
        "print(\"Best: %f using train %s\" % (grid_result.score(X_train, Y_train), grid_result.best_params_))\n",
        "print(\"Best: %f using train %s\" % (grid_result.score(X_test, Y_test), grid_result.best_params_))"
      ]
    },
    {
      "cell_type": "code",
      "execution_count": null,
      "id": "1c0baa8e",
      "metadata": {
        "id": "1c0baa8e"
      },
      "outputs": [],
      "source": [
        "# predict from the Adaboost GridSearch algorithm\n",
        "Y_predict_gridSearch_Adaboost  = grid_search.predict(X_test)"
      ]
    },
    {
      "cell_type": "code",
      "execution_count": null,
      "id": "7a3663cb",
      "metadata": {
        "id": "7a3663cb",
        "outputId": "8c053390-be23-45df-b1b8-a6c446c7f8d0"
      },
      "outputs": [
        {
          "name": "stdout",
          "output_type": "stream",
          "text": [
            "[[86  4]\n",
            " [ 3 50]]\n",
            "\n",
            "Accuracy of the Classifier =  0.951048951048951\n",
            "Precision =  0.9555555555555556\n",
            "F1 Score =  0.9608938547486034\n",
            "[[86  4]\n",
            " [ 3 50]]\n",
            "\n",
            "Accuracy of the Classifier =  0.951048951048951\n",
            "Precision =  0.9555555555555556\n",
            "F1 Score =  0.9608938547486034\n"
          ]
        },
        {
          "data": {
            "text/plain": [
              "(0.951048951048951, 0.9555555555555556, 0.9555555555555556, 0.9608938547486034)"
            ]
          },
          "execution_count": 429,
          "metadata": {},
          "output_type": "execute_result"
        }
      ],
      "source": [
        "Matrix(Y_predict_RandomGrid_Adaboost)\n",
        "Matrix(Y_predict_gridSearch_Adaboost)"
      ]
    },
    {
      "cell_type": "code",
      "execution_count": null,
      "id": "14ee6277",
      "metadata": {
        "id": "14ee6277"
      },
      "outputs": [],
      "source": [
        "\n"
      ]
    },
    {
      "cell_type": "code",
      "execution_count": null,
      "id": "42fb054b",
      "metadata": {
        "id": "42fb054b"
      },
      "outputs": [],
      "source": [
        "# XGBoost"
      ]
    },
    {
      "cell_type": "code",
      "execution_count": null,
      "id": "2d650be3",
      "metadata": {
        "id": "2d650be3"
      },
      "outputs": [],
      "source": [
        ""
      ]
    },
    {
      "cell_type": "code",
      "execution_count": null,
      "id": "fcfbbe58",
      "metadata": {
        "id": "fcfbbe58"
      },
      "outputs": [],
      "source": [
        "space_XGBoost = {\n",
        "    'max_depth' : hp.quniform(\"max_depth\",1, 20, 1 ),\n",
        "    'gamma' : hp.uniform ('gamma', 0, 9),\n",
        "    'reg_alpha' : hp.quniform('reg_alpha', 1, 180, 1),\n",
        "    'reg_lambda' : hp.uniform('reg_lambda', 0,1),\n",
        "    'colsample_bytree' : hp.uniform('colsample_bytree', 0, 1),\n",
        "    'min_child_weight' : hp.quniform('min_child_weight', 0, 10, 1),\n",
        "    'n_estimators' : 200\n",
        "}"
      ]
    },
    {
      "cell_type": "code",
      "execution_count": null,
      "id": "542c4741",
      "metadata": {
        "id": "542c4741"
      },
      "outputs": [],
      "source": [
        "def objective_XGBoost(space):\n",
        "    xgbclassify = xgb.XGBClassifier(n_estimators = space['n_estimators'], \n",
        "                            max_depth = int(space['max_depth']),\n",
        "                            gamma = space['gamma'], \n",
        "                            reg_alpha = int(space['reg_alpha']), \n",
        "                            min_child_weight = int(space['min_child_weight']),\n",
        "                            colsample_bytree = int(space['colsample_bytree']),\n",
        "                            use_label_encoder=False    \n",
        "                           )\n",
        "    evaluation = [(X_train, Y_train), (X_test, Y_test)]\n",
        "    xgbclassify.fit(X_train, Y_train, eval_set = evaluation, eval_metric='auc',\n",
        "                   early_stopping_rounds=10, verbose = False)\n",
        "    \n",
        "    pred = xgbclassify.predict(X_test)\n",
        "    accuracy = accuracy_score(Y_test, pred>0.3)\n",
        "    print('SCORE:', accuracy)\n",
        "    return {'loss' : -accuracy, 'status': STATUS_OK}\n"
      ]
    },
    {
      "cell_type": "code",
      "execution_count": null,
      "id": "aa3086d1",
      "metadata": {
        "id": "aa3086d1",
        "outputId": "991d38e4-58a0-459d-eabe-2a3a9be8793c"
      },
      "outputs": [
        {
          "name": "stdout",
          "output_type": "stream",
          "text": [
            "SCORE:                                                                                                                 \n",
            "0.9020979020979021                                                                                                     \n",
            "SCORE:                                                                                                                 \n",
            "0.9300699300699301                                                                                                     \n",
            "SCORE:                                                                                                                 \n",
            "0.6293706293706294                                                                                                     \n",
            "SCORE:                                                                                                                 \n",
            "0.951048951048951                                                                                                      \n",
            "SCORE:                                                                                                                 \n",
            "0.6293706293706294                                                                                                     \n",
            "SCORE:                                                                                                                 \n",
            "0.6293706293706294                                                                                                     \n",
            "SCORE:                                                                                                                 \n",
            "0.6293706293706294                                                                                                     \n",
            "SCORE:                                                                                                                 \n",
            "0.9300699300699301                                                                                                     \n",
            "SCORE:                                                                                                                 \n",
            "0.9230769230769231                                                                                                     \n",
            "SCORE:                                                                                                                 \n",
            "0.916083916083916                                                                                                      \n",
            "SCORE:                                                                                                                 \n",
            "0.6293706293706294                                                                                                     \n",
            "SCORE:                                                                                                                 \n",
            "0.9020979020979021                                                                                                     \n",
            "SCORE:                                                                                                                 \n",
            "0.6293706293706294                                                                                                     \n",
            "SCORE:                                                                                                                 \n",
            "0.6293706293706294                                                                                                     \n",
            "SCORE:                                                                                                                 \n",
            "0.9230769230769231                                                                                                     \n",
            "SCORE:                                                                                                                 \n",
            "0.9440559440559441                                                                                                     \n",
            "SCORE:                                                                                                                 \n",
            "0.6293706293706294                                                                                                     \n",
            "SCORE:                                                                                                                 \n",
            "0.6293706293706294                                                                                                     \n",
            "SCORE:                                                                                                                 \n",
            "0.9300699300699301                                                                                                     \n",
            "SCORE:                                                                                                                 \n",
            "0.9020979020979021                                                                                                     \n",
            "SCORE:                                                                                                                 \n",
            "0.9370629370629371                                                                                                     \n",
            "SCORE:                                                                                                                 \n",
            "0.951048951048951                                                                                                      \n",
            "SCORE:                                                                                                                 \n",
            "0.9370629370629371                                                                                                     \n",
            "SCORE:                                                                                                                 \n",
            "0.8251748251748252                                                                                                     \n",
            "SCORE:                                                                                                                 \n",
            "0.6293706293706294                                                                                                     \n",
            "SCORE:                                                                                                                 \n",
            "0.6293706293706294                                                                                                     \n",
            "SCORE:                                                                                                                 \n",
            "0.951048951048951                                                                                                      \n",
            "SCORE:                                                                                                                 \n",
            "0.9230769230769231                                                                                                     \n",
            "SCORE:                                                                                                                 \n",
            "0.6293706293706294                                                                                                     \n",
            "SCORE:                                                                                                                 \n",
            "0.6293706293706294                                                                                                     \n",
            "SCORE:                                                                                                                 \n",
            "0.9440559440559441                                                                                                     \n",
            "SCORE:                                                                                                                 \n",
            "0.8461538461538461                                                                                                     \n",
            "SCORE:                                                                                                                 \n",
            "0.6293706293706294                                                                                                     \n",
            "SCORE:                                                                                                                 \n",
            "0.9300699300699301                                                                                                     \n"
          ]
        },
        {
          "name": "stdout",
          "output_type": "stream",
          "text": [
            "SCORE:                                                                                                                 \n",
            "0.9230769230769231                                                                                                     \n",
            "SCORE:                                                                                                                 \n",
            "0.9230769230769231                                                                                                     \n",
            "SCORE:                                                                                                                 \n",
            "0.6293706293706294                                                                                                     \n",
            "SCORE:                                                                                                                 \n",
            "0.916083916083916                                                                                                      \n",
            "SCORE:                                                                                                                 \n",
            "0.6293706293706294                                                                                                     \n",
            "SCORE:                                                                                                                 \n",
            "0.9020979020979021                                                                                                     \n",
            "SCORE:                                                                                                                 \n",
            "0.6293706293706294                                                                                                     \n",
            "SCORE:                                                                                                                 \n",
            "0.951048951048951                                                                                                      \n",
            "SCORE:                                                                                                                 \n",
            "0.9300699300699301                                                                                                     \n",
            "SCORE:                                                                                                                 \n",
            "0.9230769230769231                                                                                                     \n",
            "SCORE:                                                                                                                 \n",
            "0.951048951048951                                                                                                      \n",
            "SCORE:                                                                                                                 \n",
            "0.6293706293706294                                                                                                     \n",
            "SCORE:                                                                                                                 \n",
            "0.6293706293706294                                                                                                     \n",
            "SCORE:                                                                                                                 \n",
            "0.6293706293706294                                                                                                     \n",
            "SCORE:                                                                                                                 \n",
            "0.9370629370629371                                                                                                     \n",
            "SCORE:                                                                                                                 \n",
            "0.9230769230769231                                                                                                     \n",
            "SCORE:                                                                                                                 \n",
            "0.6293706293706294                                                                                                     \n",
            "SCORE:                                                                                                                 \n",
            "0.9020979020979021                                                                                                     \n",
            "SCORE:                                                                                                                 \n",
            "0.6293706293706294                                                                                                     \n",
            "SCORE:                                                                                                                 \n",
            "0.9300699300699301                                                                                                     \n",
            "SCORE:                                                                                                                 \n",
            "0.9230769230769231                                                                                                     \n",
            "SCORE:                                                                                                                 \n",
            "0.6293706293706294                                                                                                     \n",
            "SCORE:                                                                                                                 \n",
            "0.9230769230769231                                                                                                     \n",
            "SCORE:                                                                                                                 \n",
            "0.6293706293706294                                                                                                     \n",
            "SCORE:                                                                                                                 \n",
            "0.6293706293706294                                                                                                     \n",
            "SCORE:                                                                                                                 \n",
            "0.9230769230769231                                                                                                     \n",
            "SCORE:                                                                                                                 \n",
            "0.8951048951048951                                                                                                     \n",
            "SCORE:                                                                                                                 \n",
            "0.6293706293706294                                                                                                     \n",
            "SCORE:                                                                                                                 \n",
            "0.9300699300699301                                                                                                     \n",
            "SCORE:                                                                                                                 \n",
            "0.6293706293706294                                                                                                     \n",
            "SCORE:                                                                                                                 \n",
            "0.9300699300699301                                                                                                     \n",
            "SCORE:                                                                                                                 \n",
            "0.9440559440559441                                                                                                     \n",
            "SCORE:                                                                                                                 \n",
            "0.9300699300699301                                                                                                     \n",
            "SCORE:                                                                                                                 \n",
            "0.9300699300699301                                                                                                     \n"
          ]
        },
        {
          "name": "stdout",
          "output_type": "stream",
          "text": [
            "SCORE:                                                                                                                 \n",
            "0.9370629370629371                                                                                                     \n",
            "SCORE:                                                                                                                 \n",
            "0.9300699300699301                                                                                                     \n",
            "SCORE:                                                                                                                 \n",
            "0.951048951048951                                                                                                      \n",
            "SCORE:                                                                                                                 \n",
            "0.9230769230769231                                                                                                     \n",
            "SCORE:                                                                                                                 \n",
            "0.9370629370629371                                                                                                     \n",
            "SCORE:                                                                                                                 \n",
            "0.9020979020979021                                                                                                     \n",
            "SCORE:                                                                                                                 \n",
            "0.916083916083916                                                                                                      \n",
            "SCORE:                                                                                                                 \n",
            "0.9230769230769231                                                                                                     \n",
            "SCORE:                                                                                                                 \n",
            "0.9300699300699301                                                                                                     \n",
            "SCORE:                                                                                                                 \n",
            "0.9370629370629371                                                                                                     \n",
            "SCORE:                                                                                                                 \n",
            "0.6293706293706294                                                                                                     \n",
            "SCORE:                                                                                                                 \n",
            "0.9300699300699301                                                                                                     \n",
            "SCORE:                                                                                                                 \n",
            "0.9230769230769231                                                                                                     \n",
            "SCORE:                                                                                                                 \n",
            "0.9230769230769231                                                                                                     \n",
            "SCORE:                                                                                                                 \n",
            "0.9300699300699301                                                                                                     \n",
            "SCORE:                                                                                                                 \n",
            "0.9300699300699301                                                                                                     \n",
            "SCORE:                                                                                                                 \n",
            "0.9020979020979021                                                                                                     \n",
            "SCORE:                                                                                                                 \n",
            "0.6293706293706294                                                                                                     \n",
            "SCORE:                                                                                                                 \n",
            "0.9370629370629371                                                                                                     \n",
            "SCORE:                                                                                                                 \n",
            "0.9370629370629371                                                                                                     \n",
            "SCORE:                                                                                                                 \n",
            "0.6293706293706294                                                                                                     \n",
            "SCORE:                                                                                                                 \n",
            "0.9300699300699301                                                                                                     \n",
            "SCORE:                                                                                                                 \n",
            "0.6293706293706294                                                                                                     \n",
            "SCORE:                                                                                                                 \n",
            "0.9440559440559441                                                                                                     \n",
            "SCORE:                                                                                                                 \n",
            "0.6293706293706294                                                                                                     \n",
            "SCORE:                                                                                                                 \n",
            "0.9230769230769231                                                                                                     \n",
            "SCORE:                                                                                                                 \n",
            "0.8951048951048951                                                                                                     \n",
            "SCORE:                                                                                                                 \n",
            "0.9230769230769231                                                                                                     \n",
            "SCORE:                                                                                                                 \n",
            "0.6293706293706294                                                                                                     \n",
            "SCORE:                                                                                                                 \n",
            "0.6293706293706294                                                                                                     \n",
            "SCORE:                                                                                                                 \n",
            "0.6293706293706294                                                                                                     \n",
            "SCORE:                                                                                                                 \n",
            "0.9230769230769231                                                                                                     \n",
            "SCORE:                                                                                                                 \n",
            "0.6293706293706294                                                                                                     \n",
            "SCORE:                                                                                                                 \n",
            "0.9230769230769231                                                                                                     \n"
          ]
        },
        {
          "name": "stdout",
          "output_type": "stream",
          "text": [
            "SCORE:                                                                                                                 \n",
            "0.6293706293706294                                                                                                     \n",
            "SCORE:                                                                                                                 \n",
            "0.9300699300699301                                                                                                     \n",
            "SCORE:                                                                                                                 \n",
            "0.9300699300699301                                                                                                     \n",
            "SCORE:                                                                                                                 \n",
            "0.9300699300699301                                                                                                     \n",
            "SCORE:                                                                                                                 \n",
            "0.9300699300699301                                                                                                     \n",
            "SCORE:                                                                                                                 \n",
            "0.9440559440559441                                                                                                     \n",
            "SCORE:                                                                                                                 \n",
            "0.9020979020979021                                                                                                     \n",
            "SCORE:                                                                                                                 \n",
            "0.9300699300699301                                                                                                     \n",
            "SCORE:                                                                                                                 \n",
            "0.6293706293706294                                                                                                     \n",
            "SCORE:                                                                                                                 \n",
            "0.6293706293706294                                                                                                     \n",
            "SCORE:                                                                                                                 \n",
            "0.8251748251748252                                                                                                     \n",
            "SCORE:                                                                                                                 \n",
            "0.8951048951048951                                                                                                     \n",
            "SCORE:                                                                                                                 \n",
            "0.9300699300699301                                                                                                     \n",
            "SCORE:                                                                                                                 \n",
            "0.9230769230769231                                                                                                     \n",
            "SCORE:                                                                                                                 \n",
            "0.6293706293706294                                                                                                     \n",
            "SCORE:                                                                                                                 \n",
            "0.6293706293706294                                                                                                     \n",
            "SCORE:                                                                                                                 \n",
            "0.958041958041958                                                                                                      \n",
            "SCORE:                                                                                                                 \n",
            "0.9020979020979021                                                                                                     \n",
            "SCORE:                                                                                                                 \n",
            "0.9370629370629371                                                                                                     \n",
            "SCORE:                                                                                                                 \n",
            "0.9230769230769231                                                                                                     \n",
            "SCORE:                                                                                                                 \n",
            "0.6293706293706294                                                                                                     \n",
            "SCORE:                                                                                                                 \n",
            "0.9300699300699301                                                                                                     \n",
            "SCORE:                                                                                                                 \n",
            "0.9440559440559441                                                                                                     \n",
            "SCORE:                                                                                                                 \n",
            "0.9230769230769231                                                                                                     \n",
            "SCORE:                                                                                                                 \n",
            "0.9300699300699301                                                                                                     \n",
            "SCORE:                                                                                                                 \n",
            "0.6293706293706294                                                                                                     \n",
            "SCORE:                                                                                                                 \n",
            "0.9230769230769231                                                                                                     \n",
            "SCORE:                                                                                                                 \n",
            "0.9440559440559441                                                                                                     \n",
            "SCORE:                                                                                                                 \n",
            "0.6293706293706294                                                                                                     \n",
            "SCORE:                                                                                                                 \n",
            "0.6293706293706294                                                                                                     \n",
            "SCORE:                                                                                                                 \n",
            "0.6293706293706294                                                                                                     \n",
            "SCORE:                                                                                                                 \n",
            "0.9300699300699301                                                                                                     \n",
            "SCORE:                                                                                                                 \n",
            "0.6293706293706294                                                                                                     \n",
            "SCORE:                                                                                                                 \n",
            "0.9300699300699301                                                                                                     \n"
          ]
        },
        {
          "name": "stdout",
          "output_type": "stream",
          "text": [
            "SCORE:                                                                                                                 \n",
            "0.9370629370629371                                                                                                     \n",
            "SCORE:                                                                                                                 \n",
            "0.916083916083916                                                                                                      \n",
            "SCORE:                                                                                                                 \n",
            "0.9230769230769231                                                                                                     \n",
            "SCORE:                                                                                                                 \n",
            "0.951048951048951                                                                                                      \n",
            "SCORE:                                                                                                                 \n",
            "0.9230769230769231                                                                                                     \n",
            "SCORE:                                                                                                                 \n",
            "0.9230769230769231                                                                                                     \n",
            "SCORE:                                                                                                                 \n",
            "0.6293706293706294                                                                                                     \n",
            "SCORE:                                                                                                                 \n",
            "0.6293706293706294                                                                                                     \n",
            "SCORE:                                                                                                                 \n",
            "0.958041958041958                                                                                                      \n",
            "SCORE:                                                                                                                 \n",
            "0.9440559440559441                                                                                                     \n",
            "SCORE:                                                                                                                 \n",
            "0.9440559440559441                                                                                                     \n",
            "SCORE:                                                                                                                 \n",
            "0.9300699300699301                                                                                                     \n",
            "SCORE:                                                                                                                 \n",
            "0.9300699300699301                                                                                                     \n",
            "SCORE:                                                                                                                 \n",
            "0.958041958041958                                                                                                      \n",
            "SCORE:                                                                                                                 \n",
            "0.951048951048951                                                                                                      \n",
            "SCORE:                                                                                                                 \n",
            "0.9230769230769231                                                                                                     \n",
            "SCORE:                                                                                                                 \n",
            "0.951048951048951                                                                                                      \n",
            "SCORE:                                                                                                                 \n",
            "0.951048951048951                                                                                                      \n",
            "SCORE:                                                                                                                 \n",
            "0.9370629370629371                                                                                                     \n",
            "SCORE:                                                                                                                 \n",
            "0.9230769230769231                                                                                                     \n",
            "SCORE:                                                                                                                 \n",
            "0.9300699300699301                                                                                                     \n",
            "SCORE:                                                                                                                 \n",
            "0.951048951048951                                                                                                      \n",
            "SCORE:                                                                                                                 \n",
            "0.916083916083916                                                                                                      \n",
            "SCORE:                                                                                                                 \n",
            "0.9300699300699301                                                                                                     \n",
            "SCORE:                                                                                                                 \n",
            "0.916083916083916                                                                                                      \n",
            "SCORE:                                                                                                                 \n",
            "0.9230769230769231                                                                                                     \n",
            "SCORE:                                                                                                                 \n",
            "0.9440559440559441                                                                                                     \n",
            "SCORE:                                                                                                                 \n",
            "0.9300699300699301                                                                                                     \n",
            "SCORE:                                                                                                                 \n",
            "0.9020979020979021                                                                                                     \n",
            "SCORE:                                                                                                                 \n",
            "0.9230769230769231                                                                                                     \n",
            "SCORE:                                                                                                                 \n",
            "0.9230769230769231                                                                                                     \n",
            "SCORE:                                                                                                                 \n",
            "0.6293706293706294                                                                                                     \n",
            "SCORE:                                                                                                                 \n",
            "0.6293706293706294                                                                                                     \n",
            "SCORE:                                                                                                                 \n",
            "0.9300699300699301                                                                                                     \n"
          ]
        },
        {
          "name": "stdout",
          "output_type": "stream",
          "text": [
            "SCORE:                                                                                                                 \n",
            "0.9230769230769231                                                                                                     \n",
            "SCORE:                                                                                                                 \n",
            "0.9300699300699301                                                                                                     \n",
            "SCORE:                                                                                                                 \n",
            "0.6293706293706294                                                                                                     \n",
            "SCORE:                                                                                                                 \n",
            "0.951048951048951                                                                                                      \n",
            "SCORE:                                                                                                                 \n",
            "0.9020979020979021                                                                                                     \n",
            "SCORE:                                                                                                                 \n",
            "0.9440559440559441                                                                                                     \n",
            "SCORE:                                                                                                                 \n",
            "0.6293706293706294                                                                                                     \n",
            "SCORE:                                                                                                                 \n",
            "0.6293706293706294                                                                                                     \n",
            "SCORE:                                                                                                                 \n",
            "0.9230769230769231                                                                                                     \n",
            "SCORE:                                                                                                                 \n",
            "0.9020979020979021                                                                                                     \n",
            "SCORE:                                                                                                                 \n",
            "0.951048951048951                                                                                                      \n",
            "SCORE:                                                                                                                 \n",
            "0.9300699300699301                                                                                                     \n",
            "SCORE:                                                                                                                 \n",
            "0.9300699300699301                                                                                                     \n",
            "SCORE:                                                                                                                 \n",
            "0.9300699300699301                                                                                                     \n",
            "SCORE:                                                                                                                 \n",
            "0.6293706293706294                                                                                                     \n",
            "SCORE:                                                                                                                 \n",
            "0.9300699300699301                                                                                                     \n",
            "SCORE:                                                                                                                 \n",
            "0.9230769230769231                                                                                                     \n",
            "SCORE:                                                                                                                 \n",
            "0.916083916083916                                                                                                      \n",
            "SCORE:                                                                                                                 \n",
            "0.951048951048951                                                                                                      \n",
            "SCORE:                                                                                                                 \n",
            "0.9300699300699301                                                                                                     \n",
            "SCORE:                                                                                                                 \n",
            "0.6293706293706294                                                                                                     \n",
            "SCORE:                                                                                                                 \n",
            "0.9440559440559441                                                                                                     \n",
            "SCORE:                                                                                                                 \n",
            "0.9020979020979021                                                                                                     \n",
            "SCORE:                                                                                                                 \n",
            "0.9370629370629371                                                                                                     \n",
            "SCORE:                                                                                                                 \n",
            "0.951048951048951                                                                                                      \n",
            "SCORE:                                                                                                                 \n",
            "0.6293706293706294                                                                                                     \n",
            "SCORE:                                                                                                                 \n",
            "0.6293706293706294                                                                                                     \n",
            "SCORE:                                                                                                                 \n",
            "0.9300699300699301                                                                                                     \n",
            "SCORE:                                                                                                                 \n",
            "0.951048951048951                                                                                                      \n",
            "SCORE:                                                                                                                 \n",
            "0.6293706293706294                                                                                                     \n",
            "SCORE:                                                                                                                 \n",
            "0.9230769230769231                                                                                                     \n",
            "SCORE:                                                                                                                 \n",
            "0.9230769230769231                                                                                                     \n",
            "SCORE:                                                                                                                 \n",
            "0.9300699300699301                                                                                                     \n",
            "SCORE:                                                                                                                 \n",
            "0.6293706293706294                                                                                                     \n"
          ]
        },
        {
          "name": "stdout",
          "output_type": "stream",
          "text": [
            "SCORE:                                                                                                                 \n",
            "0.951048951048951                                                                                                      \n",
            "SCORE:                                                                                                                 \n",
            "0.9300699300699301                                                                                                     \n",
            "SCORE:                                                                                                                 \n",
            "0.9300699300699301                                                                                                     \n",
            "SCORE:                                                                                                                 \n",
            "0.9230769230769231                                                                                                     \n",
            "SCORE:                                                                                                                 \n",
            "0.6293706293706294                                                                                                     \n",
            "SCORE:                                                                                                                 \n",
            "0.9230769230769231                                                                                                     \n",
            "SCORE:                                                                                                                 \n",
            "0.9300699300699301                                                                                                     \n",
            "SCORE:                                                                                                                 \n",
            "0.916083916083916                                                                                                      \n",
            "SCORE:                                                                                                                 \n",
            "0.9020979020979021                                                                                                     \n",
            "SCORE:                                                                                                                 \n",
            "0.6293706293706294                                                                                                     \n",
            "SCORE:                                                                                                                 \n",
            "0.9440559440559441                                                                                                     \n",
            "SCORE:                                                                                                                 \n",
            "0.9440559440559441                                                                                                     \n",
            "SCORE:                                                                                                                 \n",
            "0.8951048951048951                                                                                                     \n",
            "SCORE:                                                                                                                 \n",
            "0.9300699300699301                                                                                                     \n",
            "SCORE:                                                                                                                 \n",
            "0.6293706293706294                                                                                                     \n",
            "SCORE:                                                                                                                 \n",
            "0.951048951048951                                                                                                      \n",
            "SCORE:                                                                                                                 \n",
            "0.9230769230769231                                                                                                     \n",
            "SCORE:                                                                                                                 \n",
            "0.9300699300699301                                                                                                     \n",
            "SCORE:                                                                                                                 \n",
            "0.6293706293706294                                                                                                     \n",
            "SCORE:                                                                                                                 \n",
            "0.9230769230769231                                                                                                     \n",
            "SCORE:                                                                                                                 \n",
            "0.6293706293706294                                                                                                     \n",
            "SCORE:                                                                                                                 \n",
            "0.9300699300699301                                                                                                     \n",
            "SCORE:                                                                                                                 \n",
            "0.9230769230769231                                                                                                     \n",
            "SCORE:                                                                                                                 \n",
            "0.6293706293706294                                                                                                     \n",
            "SCORE:                                                                                                                 \n",
            "0.9300699300699301                                                                                                     \n",
            "SCORE:                                                                                                                 \n",
            "0.9230769230769231                                                                                                     \n",
            "SCORE:                                                                                                                 \n",
            "0.9300699300699301                                                                                                     \n",
            "SCORE:                                                                                                                 \n",
            "0.951048951048951                                                                                                      \n",
            "SCORE:                                                                                                                 \n",
            "0.9230769230769231                                                                                                     \n",
            "SCORE:                                                                                                                 \n",
            "0.8461538461538461                                                                                                     \n",
            "SCORE:                                                                                                                 \n",
            "0.951048951048951                                                                                                      \n",
            "SCORE:                                                                                                                 \n",
            "0.6293706293706294                                                                                                     \n",
            "SCORE:                                                                                                                 \n",
            "0.951048951048951                                                                                                      \n",
            "SCORE:                                                                                                                 \n",
            "0.9230769230769231                                                                                                     \n"
          ]
        },
        {
          "name": "stdout",
          "output_type": "stream",
          "text": [
            "SCORE:                                                                                                                 \n",
            "0.9020979020979021                                                                                                     \n",
            "SCORE:                                                                                                                 \n",
            "0.6293706293706294                                                                                                     \n",
            "SCORE:                                                                                                                 \n",
            "0.9300699300699301                                                                                                     \n",
            "SCORE:                                                                                                                 \n",
            "0.6293706293706294                                                                                                     \n",
            "SCORE:                                                                                                                 \n",
            "0.6293706293706294                                                                                                     \n",
            "SCORE:                                                                                                                 \n",
            "0.9300699300699301                                                                                                     \n",
            "SCORE:                                                                                                                 \n",
            "0.9230769230769231                                                                                                     \n",
            "SCORE:                                                                                                                 \n",
            "0.9300699300699301                                                                                                     \n",
            "SCORE:                                                                                                                 \n",
            "0.9370629370629371                                                                                                     \n",
            "SCORE:                                                                                                                 \n",
            "0.951048951048951                                                                                                      \n",
            "SCORE:                                                                                                                 \n",
            "0.9230769230769231                                                                                                     \n",
            "SCORE:                                                                                                                 \n",
            "0.8951048951048951                                                                                                     \n",
            "SCORE:                                                                                                                 \n",
            "0.9300699300699301                                                                                                     \n",
            "SCORE:                                                                                                                 \n",
            "0.6293706293706294                                                                                                     \n",
            "SCORE:                                                                                                                 \n",
            "0.958041958041958                                                                                                      \n",
            "SCORE:                                                                                                                 \n",
            "0.6293706293706294                                                                                                     \n",
            "SCORE:                                                                                                                 \n",
            "0.916083916083916                                                                                                      \n",
            "SCORE:                                                                                                                 \n",
            "0.9230769230769231                                                                                                     \n",
            "SCORE:                                                                                                                 \n",
            "0.6293706293706294                                                                                                     \n",
            "SCORE:                                                                                                                 \n",
            "0.9300699300699301                                                                                                     \n",
            "SCORE:                                                                                                                 \n",
            "0.9440559440559441                                                                                                     \n",
            "SCORE:                                                                                                                 \n",
            "0.9440559440559441                                                                                                     \n",
            "SCORE:                                                                                                                 \n",
            "0.9300699300699301                                                                                                     \n",
            "SCORE:                                                                                                                 \n",
            "0.951048951048951                                                                                                      \n",
            "SCORE:                                                                                                                 \n",
            "0.9230769230769231                                                                                                     \n",
            "SCORE:                                                                                                                 \n",
            "0.958041958041958                                                                                                      \n",
            "SCORE:                                                                                                                 \n",
            "0.9300699300699301                                                                                                     \n",
            "SCORE:                                                                                                                 \n",
            "0.9300699300699301                                                                                                     \n",
            "SCORE:                                                                                                                 \n",
            "0.958041958041958                                                                                                      \n",
            "SCORE:                                                                                                                 \n",
            "0.9440559440559441                                                                                                     \n",
            "SCORE:                                                                                                                 \n",
            "0.916083916083916                                                                                                      \n",
            "SCORE:                                                                                                                 \n",
            "0.9300699300699301                                                                                                     \n",
            "SCORE:                                                                                                                 \n",
            "0.9440559440559441                                                                                                     \n",
            "SCORE:                                                                                                                 \n",
            "0.9300699300699301                                                                                                     \n"
          ]
        },
        {
          "name": "stdout",
          "output_type": "stream",
          "text": [
            "SCORE:                                                                                                                 \n",
            "0.9370629370629371                                                                                                     \n",
            "SCORE:                                                                                                                 \n",
            "0.9300699300699301                                                                                                     \n",
            "SCORE:                                                                                                                 \n",
            "0.9370629370629371                                                                                                     \n",
            "SCORE:                                                                                                                 \n",
            "0.9300699300699301                                                                                                     \n",
            "SCORE:                                                                                                                 \n",
            "0.9300699300699301                                                                                                     \n",
            "SCORE:                                                                                                                 \n",
            "0.9230769230769231                                                                                                     \n",
            "SCORE:                                                                                                                 \n",
            "0.9370629370629371                                                                                                     \n",
            "SCORE:                                                                                                                 \n",
            "0.9300699300699301                                                                                                     \n",
            "SCORE:                                                                                                                 \n",
            "0.951048951048951                                                                                                      \n",
            "SCORE:                                                                                                                 \n",
            "0.9300699300699301                                                                                                     \n",
            "SCORE:                                                                                                                 \n",
            "0.6293706293706294                                                                                                     \n",
            "SCORE:                                                                                                                 \n",
            "0.9300699300699301                                                                                                     \n",
            "SCORE:                                                                                                                 \n",
            "0.916083916083916                                                                                                      \n",
            "SCORE:                                                                                                                 \n",
            "0.9300699300699301                                                                                                     \n",
            "SCORE:                                                                                                                 \n",
            "0.9300699300699301                                                                                                     \n",
            "SCORE:                                                                                                                 \n",
            "0.951048951048951                                                                                                      \n",
            "SCORE:                                                                                                                 \n",
            "0.958041958041958                                                                                                      \n",
            "SCORE:                                                                                                                 \n",
            "0.6293706293706294                                                                                                     \n",
            "SCORE:                                                                                                                 \n",
            "0.9300699300699301                                                                                                     \n",
            "SCORE:                                                                                                                 \n",
            "0.951048951048951                                                                                                      \n",
            "SCORE:                                                                                                                 \n",
            "0.9230769230769231                                                                                                     \n",
            "SCORE:                                                                                                                 \n",
            "0.6293706293706294                                                                                                     \n",
            "SCORE:                                                                                                                 \n",
            "0.6293706293706294                                                                                                     \n",
            "SCORE:                                                                                                                 \n",
            "0.958041958041958                                                                                                      \n",
            "SCORE:                                                                                                                 \n",
            "0.9370629370629371                                                                                                     \n",
            "SCORE:                                                                                                                 \n",
            "0.9300699300699301                                                                                                     \n",
            "SCORE:                                                                                                                 \n",
            "0.9230769230769231                                                                                                     \n",
            "SCORE:                                                                                                                 \n",
            "0.9230769230769231                                                                                                     \n",
            "SCORE:                                                                                                                 \n",
            "0.916083916083916                                                                                                      \n",
            "SCORE:                                                                                                                 \n",
            "0.9300699300699301                                                                                                     \n",
            "SCORE:                                                                                                                 \n",
            "0.951048951048951                                                                                                      \n",
            "SCORE:                                                                                                                 \n",
            "0.9370629370629371                                                                                                     \n",
            "SCORE:                                                                                                                 \n",
            "0.9230769230769231                                                                                                     \n",
            "SCORE:                                                                                                                 \n",
            "0.9300699300699301                                                                                                     \n"
          ]
        },
        {
          "name": "stdout",
          "output_type": "stream",
          "text": [
            "SCORE:                                                                                                                 \n",
            "0.9300699300699301                                                                                                     \n",
            "SCORE:                                                                                                                 \n",
            "0.9440559440559441                                                                                                     \n",
            "SCORE:                                                                                                                 \n",
            "0.9300699300699301                                                                                                     \n",
            "SCORE:                                                                                                                 \n",
            "0.9300699300699301                                                                                                     \n",
            "SCORE:                                                                                                                 \n",
            "0.9300699300699301                                                                                                     \n",
            "SCORE:                                                                                                                 \n",
            "0.9300699300699301                                                                                                     \n",
            "SCORE:                                                                                                                 \n",
            "0.958041958041958                                                                                                      \n",
            "SCORE:                                                                                                                 \n",
            "0.9020979020979021                                                                                                     \n",
            "SCORE:                                                                                                                 \n",
            "0.9230769230769231                                                                                                     \n",
            "SCORE:                                                                                                                 \n",
            "0.6293706293706294                                                                                                     \n",
            "SCORE:                                                                                                                 \n",
            "0.9300699300699301                                                                                                     \n",
            "SCORE:                                                                                                                 \n",
            "0.951048951048951                                                                                                      \n",
            "SCORE:                                                                                                                 \n",
            "0.916083916083916                                                                                                      \n",
            "SCORE:                                                                                                                 \n",
            "0.9300699300699301                                                                                                     \n",
            "SCORE:                                                                                                                 \n",
            "0.9020979020979021                                                                                                     \n",
            "SCORE:                                                                                                                 \n",
            "0.9230769230769231                                                                                                     \n",
            "SCORE:                                                                                                                 \n",
            "0.6293706293706294                                                                                                     \n",
            "SCORE:                                                                                                                 \n",
            "0.958041958041958                                                                                                      \n",
            "SCORE:                                                                                                                 \n",
            "0.9300699300699301                                                                                                     \n",
            "SCORE:                                                                                                                 \n",
            "0.9230769230769231                                                                                                     \n",
            "SCORE:                                                                                                                 \n",
            "0.9300699300699301                                                                                                     \n",
            "SCORE:                                                                                                                 \n",
            "0.9300699300699301                                                                                                     \n",
            "SCORE:                                                                                                                 \n",
            "0.951048951048951                                                                                                      \n",
            "SCORE:                                                                                                                 \n",
            "0.916083916083916                                                                                                      \n",
            "SCORE:                                                                                                                 \n",
            "0.9440559440559441                                                                                                     \n",
            "SCORE:                                                                                                                 \n",
            "0.9230769230769231                                                                                                     \n",
            "SCORE:                                                                                                                 \n",
            "0.958041958041958                                                                                                      \n",
            "SCORE:                                                                                                                 \n",
            "0.6293706293706294                                                                                                     \n",
            "SCORE:                                                                                                                 \n",
            "0.9300699300699301                                                                                                     \n",
            "SCORE:                                                                                                                 \n",
            "0.6293706293706294                                                                                                     \n",
            "SCORE:                                                                                                                 \n",
            "0.9300699300699301                                                                                                     \n",
            "SCORE:                                                                                                                 \n",
            "0.6293706293706294                                                                                                     \n",
            "SCORE:                                                                                                                 \n",
            "0.9020979020979021                                                                                                     \n",
            "SCORE:                                                                                                                 \n",
            "0.9440559440559441                                                                                                     \n"
          ]
        },
        {
          "name": "stdout",
          "output_type": "stream",
          "text": [
            "SCORE:                                                                                                                 \n",
            "0.6293706293706294                                                                                                     \n",
            "SCORE:                                                                                                                 \n",
            "0.9020979020979021                                                                                                     \n",
            "SCORE:                                                                                                                 \n",
            "0.9300699300699301                                                                                                     \n",
            "SCORE:                                                                                                                 \n",
            "0.9230769230769231                                                                                                     \n",
            "SCORE:                                                                                                                 \n",
            "0.6293706293706294                                                                                                     \n",
            "SCORE:                                                                                                                 \n",
            "0.9300699300699301                                                                                                     \n",
            "SCORE:                                                                                                                 \n",
            "0.9020979020979021                                                                                                     \n",
            "SCORE:                                                                                                                 \n",
            "0.9230769230769231                                                                                                     \n",
            "SCORE:                                                                                                                 \n",
            "0.9230769230769231                                                                                                     \n",
            "SCORE:                                                                                                                 \n",
            "0.9370629370629371                                                                                                     \n",
            "SCORE:                                                                                                                 \n",
            "0.6293706293706294                                                                                                     \n",
            "SCORE:                                                                                                                 \n",
            "0.6293706293706294                                                                                                     \n",
            "SCORE:                                                                                                                 \n",
            "0.916083916083916                                                                                                      \n",
            "SCORE:                                                                                                                 \n",
            "0.9300699300699301                                                                                                     \n",
            "SCORE:                                                                                                                 \n",
            "0.9300699300699301                                                                                                     \n",
            "SCORE:                                                                                                                 \n",
            "0.951048951048951                                                                                                      \n",
            "SCORE:                                                                                                                 \n",
            "0.6293706293706294                                                                                                     \n",
            "SCORE:                                                                                                                 \n",
            "0.9300699300699301                                                                                                     \n",
            "SCORE:                                                                                                                 \n",
            "0.951048951048951                                                                                                      \n",
            "SCORE:                                                                                                                 \n",
            "0.9020979020979021                                                                                                     \n",
            "SCORE:                                                                                                                 \n",
            "0.9440559440559441                                                                                                     \n",
            "SCORE:                                                                                                                 \n",
            "0.9300699300699301                                                                                                     \n",
            "SCORE:                                                                                                                 \n",
            "0.9370629370629371                                                                                                     \n",
            "SCORE:                                                                                                                 \n",
            "0.9300699300699301                                                                                                     \n",
            "SCORE:                                                                                                                 \n",
            "0.951048951048951                                                                                                      \n",
            "SCORE:                                                                                                                 \n",
            "0.9300699300699301                                                                                                     \n",
            "SCORE:                                                                                                                 \n",
            "0.9230769230769231                                                                                                     \n",
            "SCORE:                                                                                                                 \n",
            "0.9370629370629371                                                                                                     \n",
            "SCORE:                                                                                                                 \n",
            "0.9300699300699301                                                                                                     \n",
            "SCORE:                                                                                                                 \n",
            "0.9370629370629371                                                                                                     \n",
            "SCORE:                                                                                                                 \n",
            "0.916083916083916                                                                                                      \n",
            "SCORE:                                                                                                                 \n",
            "0.9370629370629371                                                                                                     \n",
            "SCORE:                                                                                                                 \n",
            "0.9230769230769231                                                                                                     \n",
            "SCORE:                                                                                                                 \n",
            "0.9300699300699301                                                                                                     \n"
          ]
        },
        {
          "name": "stdout",
          "output_type": "stream",
          "text": [
            "SCORE:                                                                                                                 \n",
            "0.6293706293706294                                                                                                     \n",
            "SCORE:                                                                                                                 \n",
            "0.6293706293706294                                                                                                     \n",
            "SCORE:                                                                                                                 \n",
            "0.9300699300699301                                                                                                     \n",
            "SCORE:                                                                                                                 \n",
            "0.9440559440559441                                                                                                     \n",
            "SCORE:                                                                                                                 \n",
            "0.9230769230769231                                                                                                     \n",
            "SCORE:                                                                                                                 \n",
            "0.916083916083916                                                                                                      \n",
            "SCORE:                                                                                                                 \n",
            "0.6293706293706294                                                                                                     \n",
            "SCORE:                                                                                                                 \n",
            "0.6293706293706294                                                                                                     \n",
            "SCORE:                                                                                                                 \n",
            "0.6293706293706294                                                                                                     \n",
            "SCORE:                                                                                                                 \n",
            "0.9300699300699301                                                                                                     \n",
            "SCORE:                                                                                                                 \n",
            "0.9300699300699301                                                                                                     \n",
            "SCORE:                                                                                                                 \n",
            "0.9230769230769231                                                                                                     \n",
            "SCORE:                                                                                                                 \n",
            "0.951048951048951                                                                                                      \n",
            "SCORE:                                                                                                                 \n",
            "0.9230769230769231                                                                                                     \n",
            "SCORE:                                                                                                                 \n",
            "0.6293706293706294                                                                                                     \n",
            "SCORE:                                                                                                                 \n",
            "0.6293706293706294                                                                                                     \n",
            "SCORE:                                                                                                                 \n",
            "0.9020979020979021                                                                                                     \n",
            "SCORE:                                                                                                                 \n",
            "0.9300699300699301                                                                                                     \n",
            "SCORE:                                                                                                                 \n",
            "0.9300699300699301                                                                                                     \n",
            "SCORE:                                                                                                                 \n",
            "0.9370629370629371                                                                                                     \n",
            "SCORE:                                                                                                                 \n",
            "0.6293706293706294                                                                                                     \n",
            "SCORE:                                                                                                                 \n",
            "0.6293706293706294                                                                                                     \n",
            "SCORE:                                                                                                                 \n",
            "0.916083916083916                                                                                                      \n",
            "SCORE:                                                                                                                 \n",
            "0.9370629370629371                                                                                                     \n",
            "SCORE:                                                                                                                 \n",
            "0.9300699300699301                                                                                                     \n",
            "SCORE:                                                                                                                 \n",
            "0.9300699300699301                                                                                                     \n",
            "100%|██████████████████████████████████████████████| 400/400 [00:32<00:00, 12.38trial/s, best loss: -0.958041958041958]\n"
          ]
        }
      ],
      "source": [
        "trials = Trials()\n",
        "\n",
        "best_hyperparams = fmin(fn = objective_XGBoost,\n",
        "                       space = space_XGBoost,\n",
        "                       algo = tpe.suggest,\n",
        "                       max_evals = 400,\n",
        "                       trials = trials)\n"
      ]
    },
    {
      "cell_type": "code",
      "execution_count": null,
      "id": "3f5cc885",
      "metadata": {
        "id": "3f5cc885",
        "outputId": "66ea8e21-ce2a-4422-85e0-263952215e8f"
      },
      "outputs": [
        {
          "name": "stdout",
          "output_type": "stream",
          "text": [
            "The best hyperparameters: \n",
            "\n",
            "{'colsample_bytree': 0.25658587169336833, 'gamma': 8.781858695498114, 'max_depth': 3.0, 'min_child_weight': 4.0, 'reg_alpha': 1.0, 'reg_lambda': 0.916709791183198}\n",
            "0.25658587169336833\n"
          ]
        }
      ],
      "source": [
        "print(\"The best hyperparameters:\", \"\\n\")\n",
        "print(best_hyperparams)\n",
        "print(best_hyperparams['colsample_bytree'])"
      ]
    },
    {
      "cell_type": "code",
      "execution_count": null,
      "id": "00eb3b2a",
      "metadata": {
        "id": "00eb3b2a"
      },
      "outputs": [],
      "source": [
        "# final prediction from the XGBoost \n",
        "\n",
        "xgbclassify = xgb.XGBClassifier(n_estimators = 180, \n",
        "                            max_depth = int(best_hyperparams['max_depth']),\n",
        "                            gamma = best_hyperparams['gamma'], \n",
        "                            reg_alpha = best_hyperparams['reg_alpha'], \n",
        "                            min_child_weight = best_hyperparams['min_child_weight'],\n",
        "                            colsample_bytree = best_hyperparams['colsample_bytree'],\n",
        "                            use_label_encoder=False    \n",
        "                           )"
      ]
    },
    {
      "cell_type": "code",
      "execution_count": null,
      "id": "d5af0311",
      "metadata": {
        "id": "d5af0311",
        "outputId": "95362799-c465-4698-fd91-f26fbf17b1aa"
      },
      "outputs": [
        {
          "data": {
            "text/plain": [
              "XGBClassifier(base_score=0.5, booster='gbtree', colsample_bylevel=1,\n",
              "              colsample_bynode=1, colsample_bytree=0.25658587169336833,\n",
              "              enable_categorical=False, gamma=8.781858695498114, gpu_id=-1,\n",
              "              importance_type=None, interaction_constraints='',\n",
              "              learning_rate=0.300000012, max_delta_step=0, max_depth=3,\n",
              "              min_child_weight=4.0, missing=nan, monotone_constraints='()',\n",
              "              n_estimators=180, n_jobs=8, num_parallel_tree=1, predictor='auto',\n",
              "              random_state=0, reg_alpha=1.0, reg_lambda=1, scale_pos_weight=1,\n",
              "              subsample=1, tree_method='exact', use_label_encoder=False,\n",
              "              validate_parameters=1, verbosity=None)"
            ]
          },
          "execution_count": 436,
          "metadata": {},
          "output_type": "execute_result"
        }
      ],
      "source": [
        "evaluation = [(X_train, Y_train), (X_test, Y_test)]\n",
        "xgbclassify.fit(X_train, Y_train, eval_set = evaluation, eval_metric='auc',\n",
        "                   early_stopping_rounds=10, verbose = False)"
      ]
    },
    {
      "cell_type": "code",
      "execution_count": null,
      "id": "fc97415a",
      "metadata": {
        "id": "fc97415a",
        "outputId": "03bf58b4-a371-47a3-cca2-7b39be78f4ae"
      },
      "outputs": [
        {
          "data": {
            "text/plain": [
              "0.958041958041958"
            ]
          },
          "execution_count": 437,
          "metadata": {},
          "output_type": "execute_result"
        }
      ],
      "source": [
        "# Accuracy of the XGBoost\n",
        "xgbclassify.score(X_test, Y_test)"
      ]
    },
    {
      "cell_type": "code",
      "execution_count": null,
      "id": "39e72384",
      "metadata": {
        "id": "39e72384"
      },
      "outputs": [],
      "source": [
        "# Y_PREDICTION_XGBOOST\n",
        "\n",
        "y_predict_XGBoost = xgbclassify.predict(X_test)"
      ]
    },
    {
      "cell_type": "code",
      "execution_count": null,
      "id": "53fb559d",
      "metadata": {
        "id": "53fb559d",
        "outputId": "72e8bdf8-00c3-441b-f8e5-a58850c30e48"
      },
      "outputs": [
        {
          "name": "stdout",
          "output_type": "stream",
          "text": [
            "[[85  5]\n",
            " [ 1 52]]\n",
            "\n",
            "Accuracy of the Classifier =  0.958041958041958\n",
            "Precision =  0.9444444444444444\n",
            "F1 Score =  0.9659090909090908\n"
          ]
        },
        {
          "data": {
            "text/plain": [
              "(0.958041958041958, 0.9444444444444444, 0.9444444444444444, 0.9659090909090908)"
            ]
          },
          "execution_count": 439,
          "metadata": {},
          "output_type": "execute_result"
        }
      ],
      "source": [
        "Matrix(y_predict_XGBoost)"
      ]
    },
    {
      "cell_type": "code",
      "execution_count": null,
      "id": "d713e07d",
      "metadata": {
        "id": "d713e07d"
      },
      "outputs": [],
      "source": [
        "\n"
      ]
    },
    {
      "cell_type": "code",
      "execution_count": null,
      "id": "05121f28",
      "metadata": {
        "id": "05121f28"
      },
      "outputs": [],
      "source": [
        "#SVM"
      ]
    },
    {
      "cell_type": "code",
      "execution_count": null,
      "id": "7b0ff4e2",
      "metadata": {
        "id": "7b0ff4e2"
      },
      "outputs": [],
      "source": [
        ""
      ]
    },
    {
      "cell_type": "code",
      "execution_count": null,
      "id": "7e7ce447",
      "metadata": {
        "id": "7e7ce447",
        "outputId": "0b4b4879-2689-4a84-8126-5d831709fa8e"
      },
      "outputs": [
        {
          "name": "stdout",
          "output_type": "stream",
          "text": [
            "Support Vector Machine (Linear Classifier) Training Accuracy: 0.9882629107981221\n",
            "Support Vector Machine (RBF Classifier) Training Accuracy: 0.9835680751173709\n"
          ]
        }
      ],
      "source": [
        "#def svm_model(X_train, Y_train):\n",
        "from sklearn.svm import SVC\n",
        "svc_lin = SVC(kernel = 'linear', random_state = 0)\n",
        "svc_lin.fit(X_train, Y_train)\n",
        "\n",
        "#Using SVC rbf\n",
        "from sklearn.svm import SVC\n",
        "svc_rbf = SVC(kernel = 'rbf', random_state = 0)\n",
        "svc_rbf.fit(X_train, Y_train)\n",
        "\n",
        "print('Support Vector Machine (Linear Classifier) Training Accuracy:', svc_lin.score(X_train, Y_train))\n",
        "print('Support Vector Machine (RBF Classifier) Training Accuracy:', svc_rbf.score(X_train, Y_train))\n",
        "  #return svc_rbf"
      ]
    },
    {
      "cell_type": "code",
      "execution_count": null,
      "id": "b54b2f28",
      "metadata": {
        "id": "b54b2f28"
      },
      "outputs": [],
      "source": [
        "y_predict_SVM_linear =  svc_lin.predict(X_test)\n",
        "y_predict_SVM_rbf = svc_rbf.predict(X_test)"
      ]
    },
    {
      "cell_type": "code",
      "execution_count": null,
      "id": "4ea42e80",
      "metadata": {
        "id": "4ea42e80",
        "outputId": "01ec7b97-1100-4c3c-917b-d2ef698cbc99"
      },
      "outputs": [
        {
          "name": "stdout",
          "output_type": "stream",
          "text": [
            "[[86  4]\n",
            " [ 2 51]]\n",
            "\n",
            "Accuracy of the Classifier =  0.958041958041958\n",
            "Precision =  0.9555555555555556\n",
            "F1 Score =  0.9662921348314608\n",
            "\n",
            "[[88  2]\n",
            " [ 3 50]]\n",
            "\n",
            "Accuracy of the Classifier =  0.965034965034965\n",
            "Precision =  0.9777777777777777\n",
            "F1 Score =  0.9723756906077348\n"
          ]
        },
        {
          "data": {
            "text/plain": [
              "(0.965034965034965, 0.9777777777777777, 0.9777777777777777, 0.9723756906077348)"
            ]
          },
          "execution_count": 443,
          "metadata": {},
          "output_type": "execute_result"
        }
      ],
      "source": [
        "Matrix(y_predict_SVM_linear)\n",
        "print()\n",
        "Matrix(y_predict_SVM_rbf)"
      ]
    },
    {
      "cell_type": "code",
      "execution_count": null,
      "id": "a5b8fa5c",
      "metadata": {
        "id": "a5b8fa5c",
        "outputId": "0bf04287-57fb-4686-ce80-950afbfae8e4"
      },
      "outputs": [
        {
          "name": "stdout",
          "output_type": "stream",
          "text": [
            "Fitting 5 folds for each of 64 candidates, totalling 320 fits\n",
            "[CV 1/5] END ........C=0.1, gamma=1, kernel=rbf;, score=0.628 total time=   0.0s\n",
            "[CV 2/5] END ........C=0.1, gamma=1, kernel=rbf;, score=0.635 total time=   0.0s\n",
            "[CV 3/5] END ........C=0.1, gamma=1, kernel=rbf;, score=0.624 total time=   0.0s\n",
            "[CV 4/5] END ........C=0.1, gamma=1, kernel=rbf;, score=0.624 total time=   0.0s\n",
            "[CV 5/5] END ........C=0.1, gamma=1, kernel=rbf;, score=0.624 total time=   0.0s\n",
            "[CV 1/5] END .......C=0.1, gamma=1, kernel=poly;, score=0.988 total time=   0.0s\n",
            "[CV 2/5] END .......C=0.1, gamma=1, kernel=poly;, score=0.906 total time=   0.0s\n",
            "[CV 3/5] END .......C=0.1, gamma=1, kernel=poly;, score=0.918 total time=   0.0s\n",
            "[CV 4/5] END .......C=0.1, gamma=1, kernel=poly;, score=0.953 total time=   0.0s\n",
            "[CV 5/5] END .......C=0.1, gamma=1, kernel=poly;, score=0.965 total time=   0.0s\n",
            "[CV 1/5] END .....C=0.1, gamma=1, kernel=linear;, score=0.977 total time=   0.0s\n",
            "[CV 2/5] END .....C=0.1, gamma=1, kernel=linear;, score=0.976 total time=   0.0s\n",
            "[CV 3/5] END .....C=0.1, gamma=1, kernel=linear;, score=0.953 total time=   0.0s\n",
            "[CV 4/5] END .....C=0.1, gamma=1, kernel=linear;, score=1.000 total time=   0.0s\n",
            "[CV 5/5] END .....C=0.1, gamma=1, kernel=linear;, score=1.000 total time=   0.0s\n",
            "[CV 1/5] END ....C=0.1, gamma=1, kernel=sigmoid;, score=0.884 total time=   0.0s\n",
            "[CV 2/5] END ....C=0.1, gamma=1, kernel=sigmoid;, score=0.918 total time=   0.0s\n",
            "[CV 3/5] END ....C=0.1, gamma=1, kernel=sigmoid;, score=0.918 total time=   0.0s\n",
            "[CV 4/5] END ....C=0.1, gamma=1, kernel=sigmoid;, score=0.929 total time=   0.0s\n",
            "[CV 5/5] END ....C=0.1, gamma=1, kernel=sigmoid;, score=0.941 total time=   0.0s\n",
            "[CV 1/5] END ......C=0.1, gamma=0.1, kernel=rbf;, score=0.919 total time=   0.0s\n",
            "[CV 2/5] END ......C=0.1, gamma=0.1, kernel=rbf;, score=0.965 total time=   0.0s\n",
            "[CV 3/5] END ......C=0.1, gamma=0.1, kernel=rbf;, score=0.918 total time=   0.0s\n",
            "[CV 4/5] END ......C=0.1, gamma=0.1, kernel=rbf;, score=0.929 total time=   0.0s\n",
            "[CV 5/5] END ......C=0.1, gamma=0.1, kernel=rbf;, score=0.976 total time=   0.0s\n",
            "[CV 1/5] END .....C=0.1, gamma=0.1, kernel=poly;, score=0.884 total time=   0.0s\n",
            "[CV 2/5] END .....C=0.1, gamma=0.1, kernel=poly;, score=0.906 total time=   0.0s\n",
            "[CV 3/5] END .....C=0.1, gamma=0.1, kernel=poly;, score=0.906 total time=   0.0s\n",
            "[CV 4/5] END .....C=0.1, gamma=0.1, kernel=poly;, score=0.918 total time=   0.0s\n",
            "[CV 5/5] END .....C=0.1, gamma=0.1, kernel=poly;, score=0.918 total time=   0.0s\n",
            "[CV 1/5] END ...C=0.1, gamma=0.1, kernel=linear;, score=0.977 total time=   0.0s\n",
            "[CV 2/5] END ...C=0.1, gamma=0.1, kernel=linear;, score=0.976 total time=   0.0s\n",
            "[CV 3/5] END ...C=0.1, gamma=0.1, kernel=linear;, score=0.953 total time=   0.0s\n",
            "[CV 4/5] END ...C=0.1, gamma=0.1, kernel=linear;, score=1.000 total time=   0.0s\n",
            "[CV 5/5] END ...C=0.1, gamma=0.1, kernel=linear;, score=1.000 total time=   0.0s\n",
            "[CV 1/5] END ..C=0.1, gamma=0.1, kernel=sigmoid;, score=0.907 total time=   0.0s\n",
            "[CV 2/5] END ..C=0.1, gamma=0.1, kernel=sigmoid;, score=0.976 total time=   0.0s\n",
            "[CV 3/5] END ..C=0.1, gamma=0.1, kernel=sigmoid;, score=0.929 total time=   0.0s\n",
            "[CV 4/5] END ..C=0.1, gamma=0.1, kernel=sigmoid;, score=0.941 total time=   0.0s\n",
            "[CV 5/5] END ..C=0.1, gamma=0.1, kernel=sigmoid;, score=0.965 total time=   0.0s\n",
            "[CV 1/5] END .....C=0.1, gamma=0.01, kernel=rbf;, score=0.895 total time=   0.0s\n",
            "[CV 2/5] END .....C=0.1, gamma=0.01, kernel=rbf;, score=0.965 total time=   0.0s\n",
            "[CV 3/5] END .....C=0.1, gamma=0.01, kernel=rbf;, score=0.929 total time=   0.0s\n",
            "[CV 4/5] END .....C=0.1, gamma=0.01, kernel=rbf;, score=0.965 total time=   0.0s\n",
            "[CV 5/5] END .....C=0.1, gamma=0.01, kernel=rbf;, score=0.953 total time=   0.0s\n",
            "[CV 1/5] END ....C=0.1, gamma=0.01, kernel=poly;, score=0.640 total time=   0.0s\n",
            "[CV 2/5] END ....C=0.1, gamma=0.01, kernel=poly;, score=0.659 total time=   0.0s\n",
            "[CV 3/5] END ....C=0.1, gamma=0.01, kernel=poly;, score=0.635 total time=   0.0s\n",
            "[CV 4/5] END ....C=0.1, gamma=0.01, kernel=poly;, score=0.682 total time=   0.0s\n",
            "[CV 5/5] END ....C=0.1, gamma=0.01, kernel=poly;, score=0.659 total time=   0.0s\n",
            "[CV 1/5] END ..C=0.1, gamma=0.01, kernel=linear;, score=0.977 total time=   0.0s\n",
            "[CV 2/5] END ..C=0.1, gamma=0.01, kernel=linear;, score=0.976 total time=   0.0s\n",
            "[CV 3/5] END ..C=0.1, gamma=0.01, kernel=linear;, score=0.953 total time=   0.0s\n",
            "[CV 4/5] END ..C=0.1, gamma=0.01, kernel=linear;, score=1.000 total time=   0.0s\n",
            "[CV 5/5] END ..C=0.1, gamma=0.01, kernel=linear;, score=1.000 total time=   0.0s\n",
            "[CV 1/5] END .C=0.1, gamma=0.01, kernel=sigmoid;, score=0.895 total time=   0.0s\n",
            "[CV 2/5] END .C=0.1, gamma=0.01, kernel=sigmoid;, score=0.941 total time=   0.0s\n",
            "[CV 3/5] END .C=0.1, gamma=0.01, kernel=sigmoid;, score=0.906 total time=   0.0s\n",
            "[CV 4/5] END .C=0.1, gamma=0.01, kernel=sigmoid;, score=0.929 total time=   0.0s\n",
            "[CV 5/5] END .C=0.1, gamma=0.01, kernel=sigmoid;, score=0.929 total time=   0.0s\n",
            "[CV 1/5] END ....C=0.1, gamma=0.001, kernel=rbf;, score=0.698 total time=   0.0s\n",
            "[CV 2/5] END ....C=0.1, gamma=0.001, kernel=rbf;, score=0.682 total time=   0.0s\n",
            "[CV 3/5] END ....C=0.1, gamma=0.001, kernel=rbf;, score=0.671 total time=   0.0s\n",
            "[CV 4/5] END ....C=0.1, gamma=0.001, kernel=rbf;, score=0.706 total time=   0.0s\n",
            "[CV 5/5] END ....C=0.1, gamma=0.001, kernel=rbf;, score=0.694 total time=   0.0s\n",
            "[CV 1/5] END ...C=0.1, gamma=0.001, kernel=poly;, score=0.628 total time=   0.0s\n",
            "[CV 2/5] END ...C=0.1, gamma=0.001, kernel=poly;, score=0.635 total time=   0.0s\n",
            "[CV 3/5] END ...C=0.1, gamma=0.001, kernel=poly;, score=0.624 total time=   0.0s\n",
            "[CV 4/5] END ...C=0.1, gamma=0.001, kernel=poly;, score=0.624 total time=   0.0s\n",
            "[CV 5/5] END ...C=0.1, gamma=0.001, kernel=poly;, score=0.624 total time=   0.0s\n",
            "[CV 1/5] END .C=0.1, gamma=0.001, kernel=linear;, score=0.977 total time=   0.0s\n",
            "[CV 2/5] END .C=0.1, gamma=0.001, kernel=linear;, score=0.976 total time=   0.0s\n",
            "[CV 3/5] END .C=0.1, gamma=0.001, kernel=linear;, score=0.953 total time=   0.0s\n",
            "[CV 4/5] END .C=0.1, gamma=0.001, kernel=linear;, score=1.000 total time=   0.0s\n",
            "[CV 5/5] END .C=0.1, gamma=0.001, kernel=linear;, score=1.000 total time=   0.0s\n",
            "[CV 1/5] END C=0.1, gamma=0.001, kernel=sigmoid;, score=0.628 total time=   0.0s\n",
            "[CV 2/5] END C=0.1, gamma=0.001, kernel=sigmoid;, score=0.635 total time=   0.0s\n",
            "[CV 3/5] END C=0.1, gamma=0.001, kernel=sigmoid;, score=0.624 total time=   0.0s\n",
            "[CV 4/5] END C=0.1, gamma=0.001, kernel=sigmoid;, score=0.635 total time=   0.0s\n",
            "[CV 5/5] END C=0.1, gamma=0.001, kernel=sigmoid;, score=0.624 total time=   0.0s\n",
            "[CV 1/5] END ..........C=1, gamma=1, kernel=rbf;, score=0.640 total time=   0.0s\n",
            "[CV 2/5] END ..........C=1, gamma=1, kernel=rbf;, score=0.635 total time=   0.0s\n",
            "[CV 3/5] END ..........C=1, gamma=1, kernel=rbf;, score=0.624 total time=   0.0s\n",
            "[CV 4/5] END ..........C=1, gamma=1, kernel=rbf;, score=0.635 total time=   0.0s\n",
            "[CV 5/5] END ..........C=1, gamma=1, kernel=rbf;, score=0.624 total time=   0.0s\n",
            "[CV 1/5] END .........C=1, gamma=1, kernel=poly;, score=0.988 total time=   0.0s\n",
            "[CV 2/5] END .........C=1, gamma=1, kernel=poly;, score=0.906 total time=   0.0s\n",
            "[CV 3/5] END .........C=1, gamma=1, kernel=poly;, score=0.918 total time=   0.0s\n",
            "[CV 4/5] END .........C=1, gamma=1, kernel=poly;, score=0.953 total time=   0.0s\n",
            "[CV 5/5] END .........C=1, gamma=1, kernel=poly;, score=0.965 total time=   0.0s\n",
            "[CV 1/5] END .......C=1, gamma=1, kernel=linear;, score=0.988 total time=   0.0s\n",
            "[CV 2/5] END .......C=1, gamma=1, kernel=linear;, score=0.988 total time=   0.0s\n",
            "[CV 3/5] END .......C=1, gamma=1, kernel=linear;, score=0.953 total time=   0.0s\n",
            "[CV 4/5] END .......C=1, gamma=1, kernel=linear;, score=0.976 total time=   0.0s\n",
            "[CV 5/5] END .......C=1, gamma=1, kernel=linear;, score=1.000 total time=   0.0s\n",
            "[CV 1/5] END ......C=1, gamma=1, kernel=sigmoid;, score=0.930 total time=   0.0s\n",
            "[CV 2/5] END ......C=1, gamma=1, kernel=sigmoid;, score=0.882 total time=   0.0s\n",
            "[CV 3/5] END ......C=1, gamma=1, kernel=sigmoid;, score=0.824 total time=   0.0s\n",
            "[CV 4/5] END ......C=1, gamma=1, kernel=sigmoid;, score=0.882 total time=   0.0s\n",
            "[CV 5/5] END ......C=1, gamma=1, kernel=sigmoid;, score=0.906 total time=   0.0s\n",
            "[CV 1/5] END ........C=1, gamma=0.1, kernel=rbf;, score=0.965 total time=   0.0s\n",
            "[CV 2/5] END ........C=1, gamma=0.1, kernel=rbf;, score=0.965 total time=   0.0s\n",
            "[CV 3/5] END ........C=1, gamma=0.1, kernel=rbf;, score=0.941 total time=   0.0s\n",
            "[CV 4/5] END ........C=1, gamma=0.1, kernel=rbf;, score=0.965 total time=   0.0s\n",
            "[CV 5/5] END ........C=1, gamma=0.1, kernel=rbf;, score=0.941 total time=   0.0s\n",
            "[CV 1/5] END .......C=1, gamma=0.1, kernel=poly;, score=0.953 total time=   0.0s\n",
            "[CV 2/5] END .......C=1, gamma=0.1, kernel=poly;, score=0.929 total time=   0.0s\n",
            "[CV 3/5] END .......C=1, gamma=0.1, kernel=poly;, score=0.953 total time=   0.0s\n",
            "[CV 4/5] END .......C=1, gamma=0.1, kernel=poly;, score=0.965 total time=   0.0s\n",
            "[CV 5/5] END .......C=1, gamma=0.1, kernel=poly;, score=0.965 total time=   0.0s\n",
            "[CV 1/5] END .....C=1, gamma=0.1, kernel=linear;, score=0.988 total time=   0.0s\n",
            "[CV 2/5] END .....C=1, gamma=0.1, kernel=linear;, score=0.988 total time=   0.0s\n",
            "[CV 3/5] END .....C=1, gamma=0.1, kernel=linear;, score=0.953 total time=   0.0s\n",
            "[CV 4/5] END .....C=1, gamma=0.1, kernel=linear;, score=0.976 total time=   0.0s\n",
            "[CV 5/5] END .....C=1, gamma=0.1, kernel=linear;, score=1.000 total time=   0.0s\n",
            "[CV 1/5] END ....C=1, gamma=0.1, kernel=sigmoid;, score=0.907 total time=   0.0s\n",
            "[CV 2/5] END ....C=1, gamma=0.1, kernel=sigmoid;, score=0.918 total time=   0.0s\n",
            "[CV 3/5] END ....C=1, gamma=0.1, kernel=sigmoid;, score=0.871 total time=   0.0s\n",
            "[CV 4/5] END ....C=1, gamma=0.1, kernel=sigmoid;, score=0.965 total time=   0.0s\n",
            "[CV 5/5] END ....C=1, gamma=0.1, kernel=sigmoid;, score=0.929 total time=   0.0s\n",
            "[CV 1/5] END .......C=1, gamma=0.01, kernel=rbf;, score=0.977 total time=   0.0s\n",
            "[CV 2/5] END .......C=1, gamma=0.01, kernel=rbf;, score=0.976 total time=   0.0s\n",
            "[CV 3/5] END .......C=1, gamma=0.01, kernel=rbf;, score=0.953 total time=   0.0s\n",
            "[CV 4/5] END .......C=1, gamma=0.01, kernel=rbf;, score=0.976 total time=   0.0s\n",
            "[CV 5/5] END .......C=1, gamma=0.01, kernel=rbf;, score=0.988 total time=   0.0s\n",
            "[CV 1/5] END ......C=1, gamma=0.01, kernel=poly;, score=0.744 total time=   0.0s\n",
            "[CV 2/5] END ......C=1, gamma=0.01, kernel=poly;, score=0.741 total time=   0.0s\n",
            "[CV 3/5] END ......C=1, gamma=0.01, kernel=poly;, score=0.706 total time=   0.0s\n",
            "[CV 4/5] END ......C=1, gamma=0.01, kernel=poly;, score=0.765 total time=   0.0s\n",
            "[CV 5/5] END ......C=1, gamma=0.01, kernel=poly;, score=0.741 total time=   0.0s\n",
            "[CV 1/5] END ....C=1, gamma=0.01, kernel=linear;, score=0.988 total time=   0.0s\n",
            "[CV 2/5] END ....C=1, gamma=0.01, kernel=linear;, score=0.988 total time=   0.0s\n",
            "[CV 3/5] END ....C=1, gamma=0.01, kernel=linear;, score=0.953 total time=   0.0s\n",
            "[CV 4/5] END ....C=1, gamma=0.01, kernel=linear;, score=0.976 total time=   0.0s\n",
            "[CV 5/5] END ....C=1, gamma=0.01, kernel=linear;, score=1.000 total time=   0.0s\n",
            "[CV 1/5] END ...C=1, gamma=0.01, kernel=sigmoid;, score=0.942 total time=   0.0s\n",
            "[CV 2/5] END ...C=1, gamma=0.01, kernel=sigmoid;, score=0.976 total time=   0.0s\n",
            "[CV 3/5] END ...C=1, gamma=0.01, kernel=sigmoid;, score=0.941 total time=   0.0s\n",
            "[CV 4/5] END ...C=1, gamma=0.01, kernel=sigmoid;, score=0.976 total time=   0.0s\n"
          ]
        },
        {
          "name": "stdout",
          "output_type": "stream",
          "text": [
            "[CV 5/5] END ...C=1, gamma=0.01, kernel=sigmoid;, score=0.976 total time=   0.0s\n",
            "[CV 1/5] END ......C=1, gamma=0.001, kernel=rbf;, score=0.919 total time=   0.0s\n",
            "[CV 2/5] END ......C=1, gamma=0.001, kernel=rbf;, score=0.965 total time=   0.0s\n",
            "[CV 3/5] END ......C=1, gamma=0.001, kernel=rbf;, score=0.918 total time=   0.0s\n",
            "[CV 4/5] END ......C=1, gamma=0.001, kernel=rbf;, score=0.965 total time=   0.0s\n",
            "[CV 5/5] END ......C=1, gamma=0.001, kernel=rbf;, score=0.941 total time=   0.0s\n",
            "[CV 1/5] END .....C=1, gamma=0.001, kernel=poly;, score=0.628 total time=   0.0s\n",
            "[CV 2/5] END .....C=1, gamma=0.001, kernel=poly;, score=0.635 total time=   0.0s\n",
            "[CV 3/5] END .....C=1, gamma=0.001, kernel=poly;, score=0.624 total time=   0.0s\n",
            "[CV 4/5] END .....C=1, gamma=0.001, kernel=poly;, score=0.624 total time=   0.0s\n",
            "[CV 5/5] END .....C=1, gamma=0.001, kernel=poly;, score=0.624 total time=   0.0s\n",
            "[CV 1/5] END ...C=1, gamma=0.001, kernel=linear;, score=0.988 total time=   0.0s\n",
            "[CV 2/5] END ...C=1, gamma=0.001, kernel=linear;, score=0.988 total time=   0.0s\n",
            "[CV 3/5] END ...C=1, gamma=0.001, kernel=linear;, score=0.953 total time=   0.0s\n",
            "[CV 4/5] END ...C=1, gamma=0.001, kernel=linear;, score=0.976 total time=   0.0s\n",
            "[CV 5/5] END ...C=1, gamma=0.001, kernel=linear;, score=1.000 total time=   0.0s\n",
            "[CV 1/5] END ..C=1, gamma=0.001, kernel=sigmoid;, score=0.919 total time=   0.0s\n",
            "[CV 2/5] END ..C=1, gamma=0.001, kernel=sigmoid;, score=0.941 total time=   0.0s\n",
            "[CV 3/5] END ..C=1, gamma=0.001, kernel=sigmoid;, score=0.906 total time=   0.0s\n",
            "[CV 4/5] END ..C=1, gamma=0.001, kernel=sigmoid;, score=0.941 total time=   0.0s\n",
            "[CV 5/5] END ..C=1, gamma=0.001, kernel=sigmoid;, score=0.929 total time=   0.0s\n",
            "[CV 1/5] END .........C=10, gamma=1, kernel=rbf;, score=0.640 total time=   0.0s\n",
            "[CV 2/5] END .........C=10, gamma=1, kernel=rbf;, score=0.635 total time=   0.0s\n",
            "[CV 3/5] END .........C=10, gamma=1, kernel=rbf;, score=0.635 total time=   0.0s\n",
            "[CV 4/5] END .........C=10, gamma=1, kernel=rbf;, score=0.635 total time=   0.0s\n",
            "[CV 5/5] END .........C=10, gamma=1, kernel=rbf;, score=0.624 total time=   0.0s\n",
            "[CV 1/5] END ........C=10, gamma=1, kernel=poly;, score=0.988 total time=   0.0s\n",
            "[CV 2/5] END ........C=10, gamma=1, kernel=poly;, score=0.906 total time=   0.0s\n",
            "[CV 3/5] END ........C=10, gamma=1, kernel=poly;, score=0.918 total time=   0.0s\n",
            "[CV 4/5] END ........C=10, gamma=1, kernel=poly;, score=0.953 total time=   0.0s\n",
            "[CV 5/5] END ........C=10, gamma=1, kernel=poly;, score=0.965 total time=   0.0s\n",
            "[CV 1/5] END ......C=10, gamma=1, kernel=linear;, score=0.977 total time=   0.0s\n",
            "[CV 2/5] END ......C=10, gamma=1, kernel=linear;, score=0.976 total time=   0.0s\n",
            "[CV 3/5] END ......C=10, gamma=1, kernel=linear;, score=0.941 total time=   0.0s\n",
            "[CV 4/5] END ......C=10, gamma=1, kernel=linear;, score=0.988 total time=   0.0s\n",
            "[CV 5/5] END ......C=10, gamma=1, kernel=linear;, score=0.976 total time=   0.0s\n",
            "[CV 1/5] END .....C=10, gamma=1, kernel=sigmoid;, score=0.930 total time=   0.0s\n",
            "[CV 2/5] END .....C=10, gamma=1, kernel=sigmoid;, score=0.894 total time=   0.0s\n",
            "[CV 3/5] END .....C=10, gamma=1, kernel=sigmoid;, score=0.812 total time=   0.0s\n",
            "[CV 4/5] END .....C=10, gamma=1, kernel=sigmoid;, score=0.918 total time=   0.0s\n",
            "[CV 5/5] END .....C=10, gamma=1, kernel=sigmoid;, score=0.906 total time=   0.0s\n",
            "[CV 1/5] END .......C=10, gamma=0.1, kernel=rbf;, score=0.953 total time=   0.0s\n",
            "[CV 2/5] END .......C=10, gamma=0.1, kernel=rbf;, score=0.941 total time=   0.0s\n",
            "[CV 3/5] END .......C=10, gamma=0.1, kernel=rbf;, score=0.929 total time=   0.0s\n",
            "[CV 4/5] END .......C=10, gamma=0.1, kernel=rbf;, score=0.941 total time=   0.0s\n",
            "[CV 5/5] END .......C=10, gamma=0.1, kernel=rbf;, score=0.941 total time=   0.0s\n",
            "[CV 1/5] END ......C=10, gamma=0.1, kernel=poly;, score=0.988 total time=   0.0s\n",
            "[CV 2/5] END ......C=10, gamma=0.1, kernel=poly;, score=0.906 total time=   0.0s\n",
            "[CV 3/5] END ......C=10, gamma=0.1, kernel=poly;, score=0.918 total time=   0.0s\n",
            "[CV 4/5] END ......C=10, gamma=0.1, kernel=poly;, score=0.929 total time=   0.0s\n",
            "[CV 5/5] END ......C=10, gamma=0.1, kernel=poly;, score=0.988 total time=   0.0s\n",
            "[CV 1/5] END ....C=10, gamma=0.1, kernel=linear;, score=0.977 total time=   0.0s\n",
            "[CV 2/5] END ....C=10, gamma=0.1, kernel=linear;, score=0.976 total time=   0.0s\n",
            "[CV 3/5] END ....C=10, gamma=0.1, kernel=linear;, score=0.941 total time=   0.0s\n",
            "[CV 4/5] END ....C=10, gamma=0.1, kernel=linear;, score=0.988 total time=   0.0s\n",
            "[CV 5/5] END ....C=10, gamma=0.1, kernel=linear;, score=0.976 total time=   0.0s\n",
            "[CV 1/5] END ...C=10, gamma=0.1, kernel=sigmoid;, score=0.884 total time=   0.0s\n",
            "[CV 2/5] END ...C=10, gamma=0.1, kernel=sigmoid;, score=0.906 total time=   0.0s\n",
            "[CV 3/5] END ...C=10, gamma=0.1, kernel=sigmoid;, score=0.871 total time=   0.0s\n",
            "[CV 4/5] END ...C=10, gamma=0.1, kernel=sigmoid;, score=0.953 total time=   0.0s\n",
            "[CV 5/5] END ...C=10, gamma=0.1, kernel=sigmoid;, score=0.918 total time=   0.0s\n",
            "[CV 1/5] END ......C=10, gamma=0.01, kernel=rbf;, score=0.988 total time=   0.0s\n",
            "[CV 2/5] END ......C=10, gamma=0.01, kernel=rbf;, score=0.976 total time=   0.0s\n",
            "[CV 3/5] END ......C=10, gamma=0.01, kernel=rbf;, score=0.953 total time=   0.0s\n",
            "[CV 4/5] END ......C=10, gamma=0.01, kernel=rbf;, score=1.000 total time=   0.0s\n",
            "[CV 5/5] END ......C=10, gamma=0.01, kernel=rbf;, score=1.000 total time=   0.0s\n",
            "[CV 1/5] END .....C=10, gamma=0.01, kernel=poly;, score=0.837 total time=   0.0s\n",
            "[CV 2/5] END .....C=10, gamma=0.01, kernel=poly;, score=0.882 total time=   0.0s\n",
            "[CV 3/5] END .....C=10, gamma=0.01, kernel=poly;, score=0.847 total time=   0.0s\n",
            "[CV 4/5] END .....C=10, gamma=0.01, kernel=poly;, score=0.859 total time=   0.0s\n",
            "[CV 5/5] END .....C=10, gamma=0.01, kernel=poly;, score=0.847 total time=   0.0s\n",
            "[CV 1/5] END ...C=10, gamma=0.01, kernel=linear;, score=0.977 total time=   0.0s\n",
            "[CV 2/5] END ...C=10, gamma=0.01, kernel=linear;, score=0.976 total time=   0.0s\n",
            "[CV 3/5] END ...C=10, gamma=0.01, kernel=linear;, score=0.941 total time=   0.0s\n",
            "[CV 4/5] END ...C=10, gamma=0.01, kernel=linear;, score=0.988 total time=   0.0s\n",
            "[CV 5/5] END ...C=10, gamma=0.01, kernel=linear;, score=0.976 total time=   0.0s\n",
            "[CV 1/5] END ..C=10, gamma=0.01, kernel=sigmoid;, score=0.965 total time=   0.0s\n",
            "[CV 2/5] END ..C=10, gamma=0.01, kernel=sigmoid;, score=0.965 total time=   0.0s\n",
            "[CV 3/5] END ..C=10, gamma=0.01, kernel=sigmoid;, score=0.929 total time=   0.0s\n",
            "[CV 4/5] END ..C=10, gamma=0.01, kernel=sigmoid;, score=0.988 total time=   0.0s\n",
            "[CV 5/5] END ..C=10, gamma=0.01, kernel=sigmoid;, score=0.941 total time=   0.0s\n",
            "[CV 1/5] END .....C=10, gamma=0.001, kernel=rbf;, score=0.977 total time=   0.0s\n",
            "[CV 2/5] END .....C=10, gamma=0.001, kernel=rbf;, score=0.976 total time=   0.0s\n",
            "[CV 3/5] END .....C=10, gamma=0.001, kernel=rbf;, score=0.953 total time=   0.0s\n",
            "[CV 4/5] END .....C=10, gamma=0.001, kernel=rbf;, score=0.976 total time=   0.0s\n",
            "[CV 5/5] END .....C=10, gamma=0.001, kernel=rbf;, score=0.988 total time=   0.0s\n",
            "[CV 1/5] END ....C=10, gamma=0.001, kernel=poly;, score=0.628 total time=   0.0s\n",
            "[CV 2/5] END ....C=10, gamma=0.001, kernel=poly;, score=0.635 total time=   0.0s\n",
            "[CV 3/5] END ....C=10, gamma=0.001, kernel=poly;, score=0.635 total time=   0.0s\n",
            "[CV 4/5] END ....C=10, gamma=0.001, kernel=poly;, score=0.635 total time=   0.0s\n",
            "[CV 5/5] END ....C=10, gamma=0.001, kernel=poly;, score=0.624 total time=   0.0s\n",
            "[CV 1/5] END ..C=10, gamma=0.001, kernel=linear;, score=0.977 total time=   0.0s\n",
            "[CV 2/5] END ..C=10, gamma=0.001, kernel=linear;, score=0.976 total time=   0.0s\n",
            "[CV 3/5] END ..C=10, gamma=0.001, kernel=linear;, score=0.941 total time=   0.0s\n",
            "[CV 4/5] END ..C=10, gamma=0.001, kernel=linear;, score=0.988 total time=   0.0s\n",
            "[CV 5/5] END ..C=10, gamma=0.001, kernel=linear;, score=0.976 total time=   0.0s\n",
            "[CV 1/5] END .C=10, gamma=0.001, kernel=sigmoid;, score=0.953 total time=   0.0s\n",
            "[CV 2/5] END .C=10, gamma=0.001, kernel=sigmoid;, score=0.976 total time=   0.0s\n",
            "[CV 3/5] END .C=10, gamma=0.001, kernel=sigmoid;, score=0.941 total time=   0.0s\n",
            "[CV 4/5] END .C=10, gamma=0.001, kernel=sigmoid;, score=0.976 total time=   0.0s\n",
            "[CV 5/5] END .C=10, gamma=0.001, kernel=sigmoid;, score=0.976 total time=   0.0s\n",
            "[CV 1/5] END ........C=100, gamma=1, kernel=rbf;, score=0.640 total time=   0.0s\n"
          ]
        },
        {
          "name": "stdout",
          "output_type": "stream",
          "text": [
            "[CV 2/5] END ........C=100, gamma=1, kernel=rbf;, score=0.635 total time=   0.0s\n",
            "[CV 3/5] END ........C=100, gamma=1, kernel=rbf;, score=0.635 total time=   0.0s\n",
            "[CV 4/5] END ........C=100, gamma=1, kernel=rbf;, score=0.635 total time=   0.0s\n",
            "[CV 5/5] END ........C=100, gamma=1, kernel=rbf;, score=0.624 total time=   0.0s\n",
            "[CV 1/5] END .......C=100, gamma=1, kernel=poly;, score=0.988 total time=   0.0s\n",
            "[CV 2/5] END .......C=100, gamma=1, kernel=poly;, score=0.906 total time=   0.0s\n",
            "[CV 3/5] END .......C=100, gamma=1, kernel=poly;, score=0.918 total time=   0.0s\n",
            "[CV 4/5] END .......C=100, gamma=1, kernel=poly;, score=0.953 total time=   0.0s\n",
            "[CV 5/5] END .......C=100, gamma=1, kernel=poly;, score=0.965 total time=   0.0s\n",
            "[CV 1/5] END .....C=100, gamma=1, kernel=linear;, score=0.977 total time=   0.0s\n",
            "[CV 2/5] END .....C=100, gamma=1, kernel=linear;, score=0.965 total time=   0.0s\n",
            "[CV 3/5] END .....C=100, gamma=1, kernel=linear;, score=0.929 total time=   0.0s\n",
            "[CV 4/5] END .....C=100, gamma=1, kernel=linear;, score=0.988 total time=   0.0s\n",
            "[CV 5/5] END .....C=100, gamma=1, kernel=linear;, score=0.953 total time=   0.0s\n",
            "[CV 1/5] END ....C=100, gamma=1, kernel=sigmoid;, score=0.930 total time=   0.0s\n",
            "[CV 2/5] END ....C=100, gamma=1, kernel=sigmoid;, score=0.894 total time=   0.0s\n",
            "[CV 3/5] END ....C=100, gamma=1, kernel=sigmoid;, score=0.800 total time=   0.0s\n",
            "[CV 4/5] END ....C=100, gamma=1, kernel=sigmoid;, score=0.894 total time=   0.0s\n",
            "[CV 5/5] END ....C=100, gamma=1, kernel=sigmoid;, score=0.906 total time=   0.0s\n",
            "[CV 1/5] END ......C=100, gamma=0.1, kernel=rbf;, score=0.953 total time=   0.0s\n",
            "[CV 2/5] END ......C=100, gamma=0.1, kernel=rbf;, score=0.941 total time=   0.0s\n",
            "[CV 3/5] END ......C=100, gamma=0.1, kernel=rbf;, score=0.929 total time=   0.0s\n",
            "[CV 4/5] END ......C=100, gamma=0.1, kernel=rbf;, score=0.941 total time=   0.0s\n",
            "[CV 5/5] END ......C=100, gamma=0.1, kernel=rbf;, score=0.976 total time=   0.0s\n",
            "[CV 1/5] END .....C=100, gamma=0.1, kernel=poly;, score=0.988 total time=   0.0s\n",
            "[CV 2/5] END .....C=100, gamma=0.1, kernel=poly;, score=0.906 total time=   0.0s\n",
            "[CV 3/5] END .....C=100, gamma=0.1, kernel=poly;, score=0.918 total time=   0.0s\n",
            "[CV 4/5] END .....C=100, gamma=0.1, kernel=poly;, score=0.953 total time=   0.0s\n",
            "[CV 5/5] END .....C=100, gamma=0.1, kernel=poly;, score=0.965 total time=   0.0s\n",
            "[CV 1/5] END ...C=100, gamma=0.1, kernel=linear;, score=0.977 total time=   0.0s\n",
            "[CV 2/5] END ...C=100, gamma=0.1, kernel=linear;, score=0.965 total time=   0.0s\n",
            "[CV 3/5] END ...C=100, gamma=0.1, kernel=linear;, score=0.929 total time=   0.0s\n",
            "[CV 4/5] END ...C=100, gamma=0.1, kernel=linear;, score=0.988 total time=   0.0s\n",
            "[CV 5/5] END ...C=100, gamma=0.1, kernel=linear;, score=0.953 total time=   0.0s\n",
            "[CV 1/5] END ..C=100, gamma=0.1, kernel=sigmoid;, score=0.860 total time=   0.0s\n",
            "[CV 2/5] END ..C=100, gamma=0.1, kernel=sigmoid;, score=0.906 total time=   0.0s\n",
            "[CV 3/5] END ..C=100, gamma=0.1, kernel=sigmoid;, score=0.882 total time=   0.0s\n",
            "[CV 4/5] END ..C=100, gamma=0.1, kernel=sigmoid;, score=0.941 total time=   0.0s\n",
            "[CV 5/5] END ..C=100, gamma=0.1, kernel=sigmoid;, score=0.918 total time=   0.0s\n",
            "[CV 1/5] END .....C=100, gamma=0.01, kernel=rbf;, score=0.988 total time=   0.0s\n",
            "[CV 2/5] END .....C=100, gamma=0.01, kernel=rbf;, score=0.953 total time=   0.0s\n",
            "[CV 3/5] END .....C=100, gamma=0.01, kernel=rbf;, score=0.953 total time=   0.0s\n",
            "[CV 4/5] END .....C=100, gamma=0.01, kernel=rbf;, score=0.988 total time=   0.0s\n",
            "[CV 5/5] END .....C=100, gamma=0.01, kernel=rbf;, score=0.976 total time=   0.0s\n",
            "[CV 1/5] END ....C=100, gamma=0.01, kernel=poly;, score=0.884 total time=   0.0s\n",
            "[CV 2/5] END ....C=100, gamma=0.01, kernel=poly;, score=0.906 total time=   0.0s\n",
            "[CV 3/5] END ....C=100, gamma=0.01, kernel=poly;, score=0.906 total time=   0.0s\n",
            "[CV 4/5] END ....C=100, gamma=0.01, kernel=poly;, score=0.918 total time=   0.0s\n",
            "[CV 5/5] END ....C=100, gamma=0.01, kernel=poly;, score=0.918 total time=   0.0s\n",
            "[CV 1/5] END ..C=100, gamma=0.01, kernel=linear;, score=0.977 total time=   0.0s\n",
            "[CV 2/5] END ..C=100, gamma=0.01, kernel=linear;, score=0.965 total time=   0.0s\n",
            "[CV 3/5] END ..C=100, gamma=0.01, kernel=linear;, score=0.929 total time=   0.0s\n",
            "[CV 4/5] END ..C=100, gamma=0.01, kernel=linear;, score=0.988 total time=   0.0s\n",
            "[CV 5/5] END ..C=100, gamma=0.01, kernel=linear;, score=0.953 total time=   0.0s\n",
            "[CV 1/5] END .C=100, gamma=0.01, kernel=sigmoid;, score=0.965 total time=   0.0s\n",
            "[CV 2/5] END .C=100, gamma=0.01, kernel=sigmoid;, score=0.918 total time=   0.0s\n",
            "[CV 3/5] END .C=100, gamma=0.01, kernel=sigmoid;, score=0.906 total time=   0.0s\n",
            "[CV 4/5] END .C=100, gamma=0.01, kernel=sigmoid;, score=0.953 total time=   0.0s\n",
            "[CV 5/5] END .C=100, gamma=0.01, kernel=sigmoid;, score=0.918 total time=   0.0s\n",
            "[CV 1/5] END ....C=100, gamma=0.001, kernel=rbf;, score=0.977 total time=   0.0s\n",
            "[CV 2/5] END ....C=100, gamma=0.001, kernel=rbf;, score=0.988 total time=   0.0s\n",
            "[CV 3/5] END ....C=100, gamma=0.001, kernel=rbf;, score=0.953 total time=   0.0s\n",
            "[CV 4/5] END ....C=100, gamma=0.001, kernel=rbf;, score=1.000 total time=   0.0s\n",
            "[CV 5/5] END ....C=100, gamma=0.001, kernel=rbf;, score=1.000 total time=   0.0s\n",
            "[CV 1/5] END ...C=100, gamma=0.001, kernel=poly;, score=0.640 total time=   0.0s\n",
            "[CV 2/5] END ...C=100, gamma=0.001, kernel=poly;, score=0.659 total time=   0.0s\n",
            "[CV 3/5] END ...C=100, gamma=0.001, kernel=poly;, score=0.635 total time=   0.0s\n",
            "[CV 4/5] END ...C=100, gamma=0.001, kernel=poly;, score=0.682 total time=   0.0s\n",
            "[CV 5/5] END ...C=100, gamma=0.001, kernel=poly;, score=0.659 total time=   0.0s\n",
            "[CV 1/5] END .C=100, gamma=0.001, kernel=linear;, score=0.977 total time=   0.0s\n",
            "[CV 2/5] END .C=100, gamma=0.001, kernel=linear;, score=0.965 total time=   0.0s\n",
            "[CV 3/5] END .C=100, gamma=0.001, kernel=linear;, score=0.929 total time=   0.0s\n",
            "[CV 4/5] END .C=100, gamma=0.001, kernel=linear;, score=0.988 total time=   0.0s\n",
            "[CV 5/5] END .C=100, gamma=0.001, kernel=linear;, score=0.953 total time=   0.0s\n",
            "[CV 1/5] END C=100, gamma=0.001, kernel=sigmoid;, score=0.977 total time=   0.0s\n",
            "[CV 2/5] END C=100, gamma=0.001, kernel=sigmoid;, score=0.976 total time=   0.0s\n",
            "[CV 3/5] END C=100, gamma=0.001, kernel=sigmoid;, score=0.953 total time=   0.0s\n",
            "[CV 4/5] END C=100, gamma=0.001, kernel=sigmoid;, score=1.000 total time=   0.0s\n",
            "[CV 5/5] END C=100, gamma=0.001, kernel=sigmoid;, score=1.000 total time=   0.0s\n"
          ]
        },
        {
          "data": {
            "text/plain": [
              "GridSearchCV(estimator=SVC(),\n",
              "             param_grid={'C': [0.1, 1, 10, 100], 'gamma': [1, 0.1, 0.01, 0.001],\n",
              "                         'kernel': ['rbf', 'poly', 'linear', 'sigmoid']},\n",
              "             verbose=4)"
            ]
          },
          "execution_count": 444,
          "metadata": {},
          "output_type": "execute_result"
        }
      ],
      "source": [
        "#GridSearch_CV for SVM \n",
        "from sklearn.model_selection import GridSearchCV\n",
        "param_grid = {'C': [0.1,1, 10, 100], 'gamma': [1,0.1,0.01,0.001],'kernel': ['rbf', 'poly', 'linear', 'sigmoid']}\n",
        "grid = GridSearchCV(SVC(),param_grid,refit=True,verbose=4)\n",
        "grid.fit(X_train,Y_train)"
      ]
    },
    {
      "cell_type": "code",
      "execution_count": null,
      "id": "d3471f0f",
      "metadata": {
        "id": "d3471f0f",
        "outputId": "85ee4931-4223-43f5-97ce-a920952ef073"
      },
      "outputs": [
        {
          "name": "stdout",
          "output_type": "stream",
          "text": [
            "SVC(C=100, gamma=0.001)\n"
          ]
        }
      ],
      "source": [
        "print(grid.best_estimator_)"
      ]
    },
    {
      "cell_type": "code",
      "execution_count": null,
      "id": "94e2c327",
      "metadata": {
        "id": "94e2c327",
        "outputId": "d25b6511-2ddc-47a3-9842-b2e9e0a6912b"
      },
      "outputs": [
        {
          "name": "stdout",
          "output_type": "stream",
          "text": [
            "Support Vector Machine (Linear Classifier) Training Accuracy: 0.9882629107981221\n",
            "Support Vector Machine (polynomial Classifier) Training Accuracy: 0.6643192488262911\n",
            "Support Vector Machine (sigmoid Classifier) Training Accuracy: 0.9882629107981221\n",
            "Support Vector Machine (rbf Classifier) Training Accuracy: 0.9882629107981221\n"
          ]
        }
      ],
      "source": [
        "#final model of the SVM through linear kernel \n",
        "\n",
        "from sklearn.svm import SVC\n",
        "svc_lin_grid = SVC(kernel=\"linear\", C=100, gamma=0.001, probability = True)\n",
        "svc_lin_grid.fit(X_train, Y_train)\n",
        "svc_poly_grid = SVC(kernel=\"poly\", C=100, gamma=0.001, probability = True)\n",
        "svc_poly_grid.fit(X_train, Y_train)\n",
        "svc_sigmoid_grid = SVC(kernel=\"sigmoid\", C=100, gamma=0.001, probability = True)\n",
        "svc_sigmoid_grid.fit(X_train, Y_train)\n",
        "svc_rbf_grid = SVC(kernel=\"rbf\", C=100, gamma=0.001, probability= True)\n",
        "svc_rbf_grid.fit(X_train, Y_train)\n",
        "\n",
        "print('Support Vector Machine (Linear Classifier) Training Accuracy:', svc_lin.score(X_train, Y_train))\n",
        "print('Support Vector Machine (polynomial Classifier) Training Accuracy:', svc_poly_grid.score(X_train, Y_train))\n",
        "print('Support Vector Machine (sigmoid Classifier) Training Accuracy:', svc_sigmoid_grid.score(X_train, Y_train))\n",
        "print('Support Vector Machine (rbf Classifier) Training Accuracy:', svc_rbf_grid.score(X_train, Y_train))"
      ]
    },
    {
      "cell_type": "code",
      "execution_count": null,
      "id": "7772b192",
      "metadata": {
        "id": "7772b192"
      },
      "outputs": [],
      "source": [
        "grid_predict_linear_search = svc_lin_grid.predict(X_test)\n",
        "grid_predict_poly_search = svc_poly_grid.predict(X_test)\n",
        "grid_predict_sigmoid_search = svc_sigmoid_grid.predict(X_test)\n",
        "\n",
        "# Y_PREDICTION_GRID_SEARCH\n",
        "grid_predict_rbf_search = svc_rbf_grid.predict(X_test)"
      ]
    },
    {
      "cell_type": "code",
      "execution_count": null,
      "id": "dfb026d1",
      "metadata": {
        "id": "dfb026d1",
        "outputId": "de1b90ff-d429-4d5f-a8dd-ec3504901336"
      },
      "outputs": [
        {
          "name": "stdout",
          "output_type": "stream",
          "text": [
            "[[85  5]\n",
            " [ 4 49]]\n",
            "\n",
            "Accuracy of the Classifier =  0.9370629370629371\n",
            "Precision =  0.9444444444444444\n",
            "F1 Score =  0.9497206703910613\n",
            "[[90  0]\n",
            " [48  5]]\n",
            "\n",
            "Accuracy of the Classifier =  0.6643356643356644\n",
            "Precision =  1.0\n",
            "F1 Score =  0.7894736842105263\n",
            "[[86  4]\n",
            " [ 3 50]]\n",
            "\n",
            "Accuracy of the Classifier =  0.951048951048951\n",
            "Precision =  0.9555555555555556\n",
            "F1 Score =  0.9608938547486034\n",
            "[[87  3]\n",
            " [ 1 52]]\n",
            "\n",
            "Accuracy of the Classifier =  0.972027972027972\n",
            "Precision =  0.9666666666666667\n",
            "F1 Score =  0.9775280898876404\n"
          ]
        },
        {
          "data": {
            "text/plain": [
              "(0.972027972027972, 0.9666666666666667, 0.9666666666666667, 0.9775280898876404)"
            ]
          },
          "execution_count": 448,
          "metadata": {},
          "output_type": "execute_result"
        }
      ],
      "source": [
        "Matrix(grid_predict_linear_search)\n",
        "Matrix(grid_predict_poly_search)\n",
        "Matrix(grid_predict_sigmoid_search)\n",
        "Matrix(grid_predict_rbf_search)"
      ]
    },
    {
      "cell_type": "code",
      "execution_count": null,
      "id": "85e6692c",
      "metadata": {
        "id": "85e6692c"
      },
      "outputs": [],
      "source": [
        "# sourabh asharma content\n",
        "\n",
        "space = {\n",
        "    'C' : hp.uniform(\"C\", 0.001, 100),\n",
        "    'gamma': hp.uniform(\"gamma\", 0.001, 1),\n",
        "    'kernel':hp.choice('kernel', ['poly','rbf','linear', 'sigmoid'])\n",
        "    }\n",
        "\n",
        "kernels = ['poly','rbf','linear','sigmoid']"
      ]
    },
    {
      "cell_type": "code",
      "execution_count": null,
      "id": "318db8d9",
      "metadata": {
        "id": "318db8d9"
      },
      "outputs": [],
      "source": [
        "from sklearn.metrics import accuracy_score\n",
        "\n",
        "def objective(space):\n",
        "    \n",
        "    SVC_classifier = SVC(\n",
        "            C = space['C'],\n",
        "            gamma = space['gamma'],\n",
        "            kernel = space['kernel']\n",
        "        )\n",
        "    \n",
        "    SVC_classifier.fit(X_train, Y_train)\n",
        "    \n",
        "    y_pred = SVC_classifier.predict(X_test)\n",
        "    \n",
        "    accuracy = accuracy_score(Y_test, y_pred)\n",
        "    \n",
        "    print(accuracy)\n",
        "    \n",
        "#     pred = SVC_classifier.predict(X_test)\n",
        "    print('SCORE:', accuracy)\n",
        "    return {'loss' : -accuracy, 'status': STATUS_OK}\n"
      ]
    },
    {
      "cell_type": "code",
      "execution_count": null,
      "id": "9001a173",
      "metadata": {
        "id": "9001a173",
        "outputId": "b0ca7d00-620d-4ab2-a274-2d449e52b6ae"
      },
      "outputs": [
        {
          "name": "stdout",
          "output_type": "stream",
          "text": [
            "0.958041958041958                                                                                                      \n",
            "SCORE:                                                                                                                 \n",
            "0.958041958041958                                                                                                      \n",
            "0.951048951048951                                                                                                      \n",
            "SCORE:                                                                                                                 \n",
            "0.951048951048951                                                                                                      \n",
            "0.958041958041958                                                                                                      \n",
            "SCORE:                                                                                                                 \n",
            "0.958041958041958                                                                                                      \n",
            "0.958041958041958                                                                                                      \n",
            "SCORE:                                                                                                                 \n",
            "0.958041958041958                                                                                                      \n",
            "0.951048951048951                                                                                                      \n",
            "SCORE:                                                                                                                 \n",
            "0.951048951048951                                                                                                      \n",
            "0.9440559440559441                                                                                                     \n",
            "SCORE:                                                                                                                 \n",
            "0.9440559440559441                                                                                                     \n",
            "0.9370629370629371                                                                                                     \n",
            "SCORE:                                                                                                                 \n",
            "0.9370629370629371                                                                                                     \n",
            "0.8951048951048951                                                                                                     \n",
            "SCORE:                                                                                                                 \n",
            "0.8951048951048951                                                                                                     \n",
            "0.9440559440559441                                                                                                     \n",
            "SCORE:                                                                                                                 \n",
            "0.9440559440559441                                                                                                     \n",
            "0.9440559440559441                                                                                                     \n",
            "SCORE:                                                                                                                 \n",
            "0.9440559440559441                                                                                                     \n",
            "0.9440559440559441                                                                                                     \n",
            "SCORE:                                                                                                                 \n",
            "0.9440559440559441                                                                                                     \n",
            "0.9020979020979021                                                                                                     \n",
            "SCORE:                                                                                                                 \n",
            "0.9020979020979021                                                                                                     \n",
            "0.7412587412587412                                                                                                     \n",
            "SCORE:                                                                                                                 \n",
            "0.7412587412587412                                                                                                     \n",
            "0.8951048951048951                                                                                                     \n",
            "SCORE:                                                                                                                 \n",
            "0.8951048951048951                                                                                                     \n",
            "0.9020979020979021                                                                                                     \n",
            "SCORE:                                                                                                                 \n",
            "0.9020979020979021                                                                                                     \n",
            "0.9090909090909091                                                                                                     \n",
            "SCORE:                                                                                                                 \n",
            "0.9090909090909091                                                                                                     \n",
            "0.958041958041958                                                                                                      \n",
            "SCORE:                                                                                                                 \n",
            "0.958041958041958                                                                                                      \n",
            "0.9440559440559441                                                                                                     \n",
            "SCORE:                                                                                                                 \n",
            "0.9440559440559441                                                                                                     \n",
            "0.6783216783216783                                                                                                     \n",
            "SCORE:                                                                                                                 \n",
            "0.6783216783216783                                                                                                     \n",
            "0.958041958041958                                                                                                      \n",
            "SCORE:                                                                                                                 \n",
            "0.958041958041958                                                                                                      \n",
            "0.958041958041958                                                                                                      \n",
            "SCORE:                                                                                                                 \n",
            "0.958041958041958                                                                                                      \n",
            "0.958041958041958                                                                                                      \n",
            "SCORE:                                                                                                                 \n",
            "0.958041958041958                                                                                                      \n",
            "0.958041958041958                                                                                                      \n",
            "SCORE:                                                                                                                 \n"
          ]
        },
        {
          "name": "stdout",
          "output_type": "stream",
          "text": [
            "0.958041958041958                                                                                                      \n",
            "0.6993006993006993                                                                                                     \n",
            "SCORE:                                                                                                                 \n",
            "0.6993006993006993                                                                                                     \n",
            "0.958041958041958                                                                                                      \n",
            "SCORE:                                                                                                                 \n",
            "0.958041958041958                                                                                                      \n",
            "0.958041958041958                                                                                                      \n",
            "SCORE:                                                                                                                 \n",
            "0.958041958041958                                                                                                      \n",
            "0.6853146853146853                                                                                                     \n",
            "SCORE:                                                                                                                 \n",
            "0.6853146853146853                                                                                                     \n",
            "0.958041958041958                                                                                                      \n",
            "SCORE:                                                                                                                 \n",
            "0.958041958041958                                                                                                      \n",
            "0.958041958041958                                                                                                      \n",
            "SCORE:                                                                                                                 \n",
            "0.958041958041958                                                                                                      \n",
            "0.958041958041958                                                                                                      \n",
            "SCORE:                                                                                                                 \n",
            "0.958041958041958                                                                                                      \n",
            "0.958041958041958                                                                                                      \n",
            "SCORE:                                                                                                                 \n",
            "0.958041958041958                                                                                                      \n",
            "0.958041958041958                                                                                                      \n",
            "SCORE:                                                                                                                 \n",
            "0.958041958041958                                                                                                      \n",
            "0.958041958041958                                                                                                      \n",
            "SCORE:                                                                                                                 \n",
            "0.958041958041958                                                                                                      \n",
            "0.986013986013986                                                                                                      \n",
            "SCORE:                                                                                                                 \n",
            "0.986013986013986                                                                                                      \n",
            "0.965034965034965                                                                                                      \n",
            "SCORE:                                                                                                                 \n",
            "0.965034965034965                                                                                                      \n",
            "0.972027972027972                                                                                                      \n",
            "SCORE:                                                                                                                 \n",
            "0.972027972027972                                                                                                      \n",
            "0.958041958041958                                                                                                      \n",
            "SCORE:                                                                                                                 \n",
            "0.958041958041958                                                                                                      \n",
            "0.9370629370629371                                                                                                     \n",
            "SCORE:                                                                                                                 \n",
            "0.9370629370629371                                                                                                     \n",
            "0.9370629370629371                                                                                                     \n",
            "SCORE:                                                                                                                 \n",
            "0.9370629370629371                                                                                                     \n",
            "0.9440559440559441                                                                                                     \n",
            "SCORE:                                                                                                                 \n",
            "0.9440559440559441                                                                                                     \n",
            "0.9440559440559441                                                                                                     \n",
            "SCORE:                                                                                                                 \n",
            "0.9440559440559441                                                                                                     \n",
            "0.9300699300699301                                                                                                     \n",
            "SCORE:                                                                                                                 \n",
            "0.9300699300699301                                                                                                     \n",
            "0.951048951048951                                                                                                      \n",
            "SCORE:                                                                                                                 \n",
            "0.951048951048951                                                                                                      \n",
            "0.6433566433566433                                                                                                     \n",
            "SCORE:                                                                                                                 \n",
            "0.6433566433566433                                                                                                     \n",
            "0.8671328671328671                                                                                                     \n",
            "SCORE:                                                                                                                 \n",
            "0.8671328671328671                                                                                                     \n",
            "0.8741258741258742                                                                                                     \n"
          ]
        },
        {
          "name": "stdout",
          "output_type": "stream",
          "text": [
            "SCORE:                                                                                                                 \n",
            "0.8741258741258742                                                                                                     \n",
            "0.9090909090909091                                                                                                     \n",
            "SCORE:                                                                                                                 \n",
            "0.9090909090909091                                                                                                     \n",
            "0.9440559440559441                                                                                                     \n",
            "SCORE:                                                                                                                 \n",
            "0.9440559440559441                                                                                                     \n",
            "0.7902097902097902                                                                                                     \n",
            "SCORE:                                                                                                                 \n",
            "0.7902097902097902                                                                                                     \n",
            "0.9020979020979021                                                                                                     \n",
            "SCORE:                                                                                                                 \n",
            "0.9020979020979021                                                                                                     \n",
            "0.9440559440559441                                                                                                     \n",
            "SCORE:                                                                                                                 \n",
            "0.9440559440559441                                                                                                     \n",
            "0.9370629370629371                                                                                                     \n",
            "SCORE:                                                                                                                 \n",
            "0.9370629370629371                                                                                                     \n",
            "0.7272727272727273                                                                                                     \n",
            "SCORE:                                                                                                                 \n",
            "0.7272727272727273                                                                                                     \n",
            "0.8881118881118881                                                                                                     \n",
            "SCORE:                                                                                                                 \n",
            "0.8881118881118881                                                                                                     \n",
            "0.9370629370629371                                                                                                     \n",
            "SCORE:                                                                                                                 \n",
            "0.9370629370629371                                                                                                     \n",
            "0.965034965034965                                                                                                      \n",
            "SCORE:                                                                                                                 \n",
            "0.965034965034965                                                                                                      \n",
            "0.958041958041958                                                                                                      \n",
            "SCORE:                                                                                                                 \n",
            "0.958041958041958                                                                                                      \n",
            "0.9090909090909091                                                                                                     \n",
            "SCORE:                                                                                                                 \n",
            "0.9090909090909091                                                                                                     \n",
            "0.9440559440559441                                                                                                     \n",
            "SCORE:                                                                                                                 \n",
            "0.9440559440559441                                                                                                     \n",
            "0.958041958041958                                                                                                      \n",
            "SCORE:                                                                                                                 \n",
            "0.958041958041958                                                                                                      \n",
            "0.951048951048951                                                                                                      \n",
            "SCORE:                                                                                                                 \n",
            "0.951048951048951                                                                                                      \n",
            "0.958041958041958                                                                                                      \n",
            "SCORE:                                                                                                                 \n",
            "0.958041958041958                                                                                                      \n",
            "0.958041958041958                                                                                                      \n",
            "SCORE:                                                                                                                 \n",
            "0.958041958041958                                                                                                      \n",
            "0.951048951048951                                                                                                      \n",
            "SCORE:                                                                                                                 \n",
            "0.951048951048951                                                                                                      \n",
            "0.9020979020979021                                                                                                     \n",
            "SCORE:                                                                                                                 \n",
            "0.9020979020979021                                                                                                     \n",
            "0.8811188811188811                                                                                                     \n",
            "SCORE:                                                                                                                 \n",
            "0.8811188811188811                                                                                                     \n",
            "0.7972027972027972                                                                                                     \n",
            "SCORE:                                                                                                                 \n",
            "0.7972027972027972                                                                                                     \n",
            "0.7552447552447552                                                                                                     \n",
            "SCORE:                                                                                                                 \n",
            "0.7552447552447552                                                                                                     \n"
          ]
        },
        {
          "name": "stdout",
          "output_type": "stream",
          "text": [
            "0.7132867132867133                                                                                                     \n",
            "SCORE:                                                                                                                 \n",
            "0.7132867132867133                                                                                                     \n",
            "0.972027972027972                                                                                                      \n",
            "SCORE:                                                                                                                 \n",
            "0.972027972027972                                                                                                      \n",
            "0.958041958041958                                                                                                      \n",
            "SCORE:                                                                                                                 \n",
            "0.958041958041958                                                                                                      \n",
            "0.958041958041958                                                                                                      \n",
            "SCORE:                                                                                                                 \n",
            "0.958041958041958                                                                                                      \n",
            "0.958041958041958                                                                                                      \n",
            "SCORE:                                                                                                                 \n",
            "0.958041958041958                                                                                                      \n",
            "0.958041958041958                                                                                                      \n",
            "SCORE:                                                                                                                 \n",
            "0.958041958041958                                                                                                      \n",
            "0.7482517482517482                                                                                                     \n",
            "SCORE:                                                                                                                 \n",
            "0.7482517482517482                                                                                                     \n",
            "0.958041958041958                                                                                                      \n",
            "SCORE:                                                                                                                 \n",
            "0.958041958041958                                                                                                      \n",
            "0.958041958041958                                                                                                      \n",
            "SCORE:                                                                                                                 \n",
            "0.958041958041958                                                                                                      \n",
            "0.958041958041958                                                                                                      \n",
            "SCORE:                                                                                                                 \n",
            "0.958041958041958                                                                                                      \n",
            "0.9440559440559441                                                                                                     \n",
            "SCORE:                                                                                                                 \n",
            "0.9440559440559441                                                                                                     \n",
            "0.958041958041958                                                                                                      \n",
            "SCORE:                                                                                                                 \n",
            "0.958041958041958                                                                                                      \n",
            "0.6853146853146853                                                                                                     \n",
            "SCORE:                                                                                                                 \n",
            "0.6853146853146853                                                                                                     \n",
            "0.8951048951048951                                                                                                     \n",
            "SCORE:                                                                                                                 \n",
            "0.8951048951048951                                                                                                     \n",
            "0.9440559440559441                                                                                                     \n",
            "SCORE:                                                                                                                 \n",
            "0.9440559440559441                                                                                                     \n",
            "0.9440559440559441                                                                                                     \n",
            "SCORE:                                                                                                                 \n",
            "0.9440559440559441                                                                                                     \n",
            "0.951048951048951                                                                                                      \n",
            "SCORE:                                                                                                                 \n",
            "0.951048951048951                                                                                                      \n",
            "0.9790209790209791                                                                                                     \n",
            "SCORE:                                                                                                                 \n",
            "0.9790209790209791                                                                                                     \n",
            "0.958041958041958                                                                                                      \n",
            "SCORE:                                                                                                                 \n",
            "0.958041958041958                                                                                                      \n",
            "0.958041958041958                                                                                                      \n",
            "SCORE:                                                                                                                 \n",
            "0.958041958041958                                                                                                      \n",
            "0.958041958041958                                                                                                      \n",
            "SCORE:                                                                                                                 \n",
            "0.958041958041958                                                                                                      \n",
            "0.958041958041958                                                                                                      \n",
            "SCORE:                                                                                                                 \n",
            "0.958041958041958                                                                                                      \n",
            "0.958041958041958                                                                                                      \n",
            "SCORE:                                                                                                                 \n"
          ]
        },
        {
          "name": "stdout",
          "output_type": "stream",
          "text": [
            "0.958041958041958                                                                                                      \n",
            "0.958041958041958                                                                                                      \n",
            "SCORE:                                                                                                                 \n",
            "0.958041958041958                                                                                                      \n",
            "0.958041958041958                                                                                                      \n",
            "SCORE:                                                                                                                 \n",
            "0.958041958041958                                                                                                      \n",
            "0.958041958041958                                                                                                      \n",
            "SCORE:                                                                                                                 \n",
            "0.958041958041958                                                                                                      \n",
            "0.958041958041958                                                                                                      \n",
            "SCORE:                                                                                                                 \n",
            "0.958041958041958                                                                                                      \n",
            "0.8951048951048951                                                                                                     \n",
            "SCORE:                                                                                                                 \n",
            "0.8951048951048951                                                                                                     \n",
            "0.958041958041958                                                                                                      \n",
            "SCORE:                                                                                                                 \n",
            "0.958041958041958                                                                                                      \n",
            "0.9440559440559441                                                                                                     \n",
            "SCORE:                                                                                                                 \n",
            "0.9440559440559441                                                                                                     \n",
            "0.958041958041958                                                                                                      \n",
            "SCORE:                                                                                                                 \n",
            "0.958041958041958                                                                                                      \n",
            "0.916083916083916                                                                                                      \n",
            "SCORE:                                                                                                                 \n",
            "0.916083916083916                                                                                                      \n",
            "0.9790209790209791                                                                                                     \n",
            "SCORE:                                                                                                                 \n",
            "0.9790209790209791                                                                                                     \n",
            "0.958041958041958                                                                                                      \n",
            "SCORE:                                                                                                                 \n",
            "0.958041958041958                                                                                                      \n",
            "0.958041958041958                                                                                                      \n",
            "SCORE:                                                                                                                 \n",
            "0.958041958041958                                                                                                      \n",
            "0.6993006993006993                                                                                                     \n",
            "SCORE:                                                                                                                 \n",
            "0.6993006993006993                                                                                                     \n",
            "0.958041958041958                                                                                                      \n",
            "SCORE:                                                                                                                 \n",
            "0.958041958041958                                                                                                      \n",
            "0.958041958041958                                                                                                      \n",
            "SCORE:                                                                                                                 \n",
            "0.958041958041958                                                                                                      \n",
            "0.958041958041958                                                                                                      \n",
            "SCORE:                                                                                                                 \n",
            "0.958041958041958                                                                                                      \n",
            "0.958041958041958                                                                                                      \n",
            "SCORE:                                                                                                                 \n",
            "0.958041958041958                                                                                                      \n",
            "0.9790209790209791                                                                                                     \n",
            "SCORE:                                                                                                                 \n",
            "0.9790209790209791                                                                                                     \n",
            "0.958041958041958                                                                                                      \n",
            "SCORE:                                                                                                                 \n",
            "0.958041958041958                                                                                                      \n",
            "0.958041958041958                                                                                                      \n",
            "SCORE:                                                                                                                 \n",
            "0.958041958041958                                                                                                      \n",
            "0.9440559440559441                                                                                                     \n",
            "SCORE:                                                                                                                 \n",
            "0.9440559440559441                                                                                                     \n",
            "0.958041958041958                                                                                                      \n",
            "SCORE:                                                                                                                 \n",
            "0.958041958041958                                                                                                      \n",
            "0.9020979020979021                                                                                                     \n"
          ]
        },
        {
          "name": "stdout",
          "output_type": "stream",
          "text": [
            "SCORE:                                                                                                                 \n",
            "0.9020979020979021                                                                                                     \n",
            "0.958041958041958                                                                                                      \n",
            "SCORE:                                                                                                                 \n",
            "0.958041958041958                                                                                                      \n",
            "0.958041958041958                                                                                                      \n",
            "SCORE:                                                                                                                 \n",
            "0.958041958041958                                                                                                      \n",
            "0.9370629370629371                                                                                                     \n",
            "SCORE:                                                                                                                 \n",
            "0.9370629370629371                                                                                                     \n",
            "0.958041958041958                                                                                                      \n",
            "SCORE:                                                                                                                 \n",
            "0.958041958041958                                                                                                      \n",
            "0.965034965034965                                                                                                      \n",
            "SCORE:                                                                                                                 \n",
            "0.965034965034965                                                                                                      \n",
            "0.8881118881118881                                                                                                     \n",
            "SCORE:                                                                                                                 \n",
            "0.8881118881118881                                                                                                     \n",
            "0.958041958041958                                                                                                      \n",
            "SCORE:                                                                                                                 \n",
            "0.958041958041958                                                                                                      \n",
            "0.9440559440559441                                                                                                     \n",
            "SCORE:                                                                                                                 \n",
            "0.9440559440559441                                                                                                     \n",
            "0.958041958041958                                                                                                      \n",
            "SCORE:                                                                                                                 \n",
            "0.958041958041958                                                                                                      \n",
            "0.958041958041958                                                                                                      \n",
            "SCORE:                                                                                                                 \n",
            "0.958041958041958                                                                                                      \n",
            "0.9090909090909091                                                                                                     \n",
            "SCORE:                                                                                                                 \n",
            "0.9090909090909091                                                                                                     \n",
            "0.958041958041958                                                                                                      \n",
            "SCORE:                                                                                                                 \n",
            "0.958041958041958                                                                                                      \n",
            "0.9790209790209791                                                                                                     \n",
            "SCORE:                                                                                                                 \n",
            "0.9790209790209791                                                                                                     \n",
            "0.9370629370629371                                                                                                     \n",
            "SCORE:                                                                                                                 \n",
            "0.9370629370629371                                                                                                     \n",
            "0.958041958041958                                                                                                      \n",
            "SCORE:                                                                                                                 \n",
            "0.958041958041958                                                                                                      \n",
            "0.958041958041958                                                                                                      \n",
            "SCORE:                                                                                                                 \n",
            "0.958041958041958                                                                                                      \n",
            "0.9020979020979021                                                                                                     \n",
            "SCORE:                                                                                                                 \n",
            "0.9020979020979021                                                                                                     \n",
            "0.958041958041958                                                                                                      \n",
            "SCORE:                                                                                                                 \n",
            "0.958041958041958                                                                                                      \n",
            "0.958041958041958                                                                                                      \n",
            "SCORE:                                                                                                                 \n",
            "0.958041958041958                                                                                                      \n",
            "0.9440559440559441                                                                                                     \n",
            "SCORE:                                                                                                                 \n",
            "0.9440559440559441                                                                                                     \n",
            "0.958041958041958                                                                                                      \n",
            "SCORE:                                                                                                                 \n",
            "0.958041958041958                                                                                                      \n",
            "0.958041958041958                                                                                                      \n",
            "SCORE:                                                                                                                 \n",
            "0.958041958041958                                                                                                      \n"
          ]
        },
        {
          "name": "stdout",
          "output_type": "stream",
          "text": [
            "0.9020979020979021                                                                                                     \n",
            "SCORE:                                                                                                                 \n",
            "0.9020979020979021                                                                                                     \n",
            "0.958041958041958                                                                                                      \n",
            "SCORE:                                                                                                                 \n",
            "0.958041958041958                                                                                                      \n",
            "0.958041958041958                                                                                                      \n",
            "SCORE:                                                                                                                 \n",
            "0.958041958041958                                                                                                      \n",
            "0.958041958041958                                                                                                      \n",
            "SCORE:                                                                                                                 \n",
            "0.958041958041958                                                                                                      \n",
            "0.958041958041958                                                                                                      \n",
            "SCORE:                                                                                                                 \n",
            "0.958041958041958                                                                                                      \n",
            "0.958041958041958                                                                                                      \n",
            "SCORE:                                                                                                                 \n",
            "0.958041958041958                                                                                                      \n",
            "0.8951048951048951                                                                                                     \n",
            "SCORE:                                                                                                                 \n",
            "0.8951048951048951                                                                                                     \n",
            "0.958041958041958                                                                                                      \n",
            "SCORE:                                                                                                                 \n",
            "0.958041958041958                                                                                                      \n",
            "0.9790209790209791                                                                                                     \n",
            "SCORE:                                                                                                                 \n",
            "0.9790209790209791                                                                                                     \n",
            "0.9790209790209791                                                                                                     \n",
            "SCORE:                                                                                                                 \n",
            "0.9790209790209791                                                                                                     \n",
            "0.972027972027972                                                                                                      \n",
            "SCORE:                                                                                                                 \n",
            "0.972027972027972                                                                                                      \n",
            "0.958041958041958                                                                                                      \n",
            "SCORE:                                                                                                                 \n",
            "0.958041958041958                                                                                                      \n",
            "0.8461538461538461                                                                                                     \n",
            "SCORE:                                                                                                                 \n",
            "0.8461538461538461                                                                                                     \n",
            "0.958041958041958                                                                                                      \n",
            "SCORE:                                                                                                                 \n",
            "0.958041958041958                                                                                                      \n",
            "0.958041958041958                                                                                                      \n",
            "SCORE:                                                                                                                 \n",
            "0.958041958041958                                                                                                      \n",
            "0.958041958041958                                                                                                      \n",
            "SCORE:                                                                                                                 \n",
            "0.958041958041958                                                                                                      \n",
            "0.958041958041958                                                                                                      \n",
            "SCORE:                                                                                                                 \n",
            "0.958041958041958                                                                                                      \n",
            "0.958041958041958                                                                                                      \n",
            "SCORE:                                                                                                                 \n",
            "0.958041958041958                                                                                                      \n",
            "0.958041958041958                                                                                                      \n",
            "SCORE:                                                                                                                 \n",
            "0.958041958041958                                                                                                      \n",
            "0.6853146853146853                                                                                                     \n",
            "SCORE:                                                                                                                 \n",
            "0.6853146853146853                                                                                                     \n",
            "0.965034965034965                                                                                                      \n",
            "SCORE:                                                                                                                 \n",
            "0.965034965034965                                                                                                      \n",
            "0.958041958041958                                                                                                      \n",
            "SCORE:                                                                                                                 \n",
            "0.958041958041958                                                                                                      \n",
            "0.951048951048951                                                                                                      \n",
            "SCORE:                                                                                                                 \n"
          ]
        },
        {
          "name": "stdout",
          "output_type": "stream",
          "text": [
            "0.951048951048951                                                                                                      \n",
            "0.958041958041958                                                                                                      \n",
            "SCORE:                                                                                                                 \n",
            "0.958041958041958                                                                                                      \n",
            "0.965034965034965                                                                                                      \n",
            "SCORE:                                                                                                                 \n",
            "0.965034965034965                                                                                                      \n",
            "0.8881118881118881                                                                                                     \n",
            "SCORE:                                                                                                                 \n",
            "0.8881118881118881                                                                                                     \n",
            "0.965034965034965                                                                                                      \n",
            "SCORE:                                                                                                                 \n",
            "0.965034965034965                                                                                                      \n",
            "0.972027972027972                                                                                                      \n",
            "SCORE:                                                                                                                 \n",
            "0.972027972027972                                                                                                      \n",
            "0.9370629370629371                                                                                                     \n",
            "SCORE:                                                                                                                 \n",
            "0.9370629370629371                                                                                                     \n",
            "0.9790209790209791                                                                                                     \n",
            "SCORE:                                                                                                                 \n",
            "0.9790209790209791                                                                                                     \n",
            "0.958041958041958                                                                                                      \n",
            "SCORE:                                                                                                                 \n",
            "0.958041958041958                                                                                                      \n",
            "0.972027972027972                                                                                                      \n",
            "SCORE:                                                                                                                 \n",
            "0.972027972027972                                                                                                      \n",
            "0.9090909090909091                                                                                                     \n",
            "SCORE:                                                                                                                 \n",
            "0.9090909090909091                                                                                                     \n",
            "0.965034965034965                                                                                                      \n",
            "SCORE:                                                                                                                 \n",
            "0.965034965034965                                                                                                      \n",
            "0.958041958041958                                                                                                      \n",
            "SCORE:                                                                                                                 \n",
            "0.958041958041958                                                                                                      \n",
            "0.9370629370629371                                                                                                     \n",
            "SCORE:                                                                                                                 \n",
            "0.9370629370629371                                                                                                     \n",
            "0.965034965034965                                                                                                      \n",
            "SCORE:                                                                                                                 \n",
            "0.965034965034965                                                                                                      \n",
            "0.7902097902097902                                                                                                     \n",
            "SCORE:                                                                                                                 \n",
            "0.7902097902097902                                                                                                     \n",
            "0.951048951048951                                                                                                      \n",
            "SCORE:                                                                                                                 \n",
            "0.951048951048951                                                                                                      \n",
            "0.958041958041958                                                                                                      \n",
            "SCORE:                                                                                                                 \n",
            "0.958041958041958                                                                                                      \n",
            "0.9440559440559441                                                                                                     \n",
            "SCORE:                                                                                                                 \n",
            "0.9440559440559441                                                                                                     \n",
            "0.958041958041958                                                                                                      \n",
            "SCORE:                                                                                                                 \n",
            "0.958041958041958                                                                                                      \n",
            "0.958041958041958                                                                                                      \n",
            "SCORE:                                                                                                                 \n",
            "0.958041958041958                                                                                                      \n",
            "0.9440559440559441                                                                                                     \n",
            "SCORE:                                                                                                                 \n",
            "0.9440559440559441                                                                                                     \n",
            "0.958041958041958                                                                                                      \n",
            "SCORE:                                                                                                                 \n",
            "0.958041958041958                                                                                                      \n",
            "0.951048951048951                                                                                                      \n"
          ]
        },
        {
          "name": "stdout",
          "output_type": "stream",
          "text": [
            "SCORE:                                                                                                                 \n",
            "0.951048951048951                                                                                                      \n",
            "0.958041958041958                                                                                                      \n",
            "SCORE:                                                                                                                 \n",
            "0.958041958041958                                                                                                      \n",
            "0.958041958041958                                                                                                      \n",
            "SCORE:                                                                                                                 \n",
            "0.958041958041958                                                                                                      \n",
            "0.9090909090909091                                                                                                     \n",
            "SCORE:                                                                                                                 \n",
            "0.9090909090909091                                                                                                     \n",
            "0.958041958041958                                                                                                      \n",
            "SCORE:                                                                                                                 \n",
            "0.958041958041958                                                                                                      \n",
            "0.958041958041958                                                                                                      \n",
            "SCORE:                                                                                                                 \n",
            "0.958041958041958                                                                                                      \n",
            "0.9440559440559441                                                                                                     \n",
            "SCORE:                                                                                                                 \n",
            "0.9440559440559441                                                                                                     \n",
            "0.972027972027972                                                                                                      \n",
            "SCORE:                                                                                                                 \n",
            "0.972027972027972                                                                                                      \n",
            "0.8461538461538461                                                                                                     \n",
            "SCORE:                                                                                                                 \n",
            "0.8461538461538461                                                                                                     \n",
            "0.958041958041958                                                                                                      \n",
            "SCORE:                                                                                                                 \n",
            "0.958041958041958                                                                                                      \n",
            "0.9090909090909091                                                                                                     \n",
            "SCORE:                                                                                                                 \n",
            "0.9090909090909091                                                                                                     \n",
            "0.8951048951048951                                                                                                     \n",
            "SCORE:                                                                                                                 \n",
            "0.8951048951048951                                                                                                     \n",
            "0.958041958041958                                                                                                      \n",
            "SCORE:                                                                                                                 \n",
            "0.958041958041958                                                                                                      \n",
            "0.958041958041958                                                                                                      \n",
            "SCORE:                                                                                                                 \n",
            "0.958041958041958                                                                                                      \n",
            "0.958041958041958                                                                                                      \n",
            "SCORE:                                                                                                                 \n",
            "0.958041958041958                                                                                                      \n",
            "0.958041958041958                                                                                                      \n",
            "SCORE:                                                                                                                 \n",
            "0.958041958041958                                                                                                      \n",
            "0.6573426573426573                                                                                                     \n",
            "SCORE:                                                                                                                 \n",
            "0.6573426573426573                                                                                                     \n",
            "0.7552447552447552                                                                                                     \n",
            "SCORE:                                                                                                                 \n",
            "0.7552447552447552                                                                                                     \n",
            "0.9020979020979021                                                                                                     \n",
            "SCORE:                                                                                                                 \n",
            "0.9020979020979021                                                                                                     \n",
            "0.958041958041958                                                                                                      \n",
            "SCORE:                                                                                                                 \n",
            "0.958041958041958                                                                                                      \n",
            "0.9790209790209791                                                                                                     \n",
            "SCORE:                                                                                                                 \n",
            "0.9790209790209791                                                                                                     \n",
            "0.958041958041958                                                                                                      \n",
            "SCORE:                                                                                                                 \n",
            "0.958041958041958                                                                                                      \n",
            "0.9370629370629371                                                                                                     \n",
            "SCORE:                                                                                                                 \n",
            "0.9370629370629371                                                                                                     \n"
          ]
        },
        {
          "name": "stdout",
          "output_type": "stream",
          "text": [
            "0.958041958041958                                                                                                      \n",
            "SCORE:                                                                                                                 \n",
            "0.958041958041958                                                                                                      \n",
            "0.972027972027972                                                                                                      \n",
            "SCORE:                                                                                                                 \n",
            "0.972027972027972                                                                                                      \n",
            "0.972027972027972                                                                                                      \n",
            "SCORE:                                                                                                                 \n",
            "0.972027972027972                                                                                                      \n",
            "0.9790209790209791                                                                                                     \n",
            "SCORE:                                                                                                                 \n",
            "0.9790209790209791                                                                                                     \n",
            "0.9090909090909091                                                                                                     \n",
            "SCORE:                                                                                                                 \n",
            "0.9090909090909091                                                                                                     \n",
            "0.958041958041958                                                                                                      \n",
            "SCORE:                                                                                                                 \n",
            "0.958041958041958                                                                                                      \n",
            "0.958041958041958                                                                                                      \n",
            "SCORE:                                                                                                                 \n",
            "0.958041958041958                                                                                                      \n",
            "0.958041958041958                                                                                                      \n",
            "SCORE:                                                                                                                 \n",
            "0.958041958041958                                                                                                      \n",
            "0.9440559440559441                                                                                                     \n",
            "SCORE:                                                                                                                 \n",
            "0.9440559440559441                                                                                                     \n",
            "0.9440559440559441                                                                                                     \n",
            "SCORE:                                                                                                                 \n",
            "0.9440559440559441                                                                                                     \n",
            "0.958041958041958                                                                                                      \n",
            "SCORE:                                                                                                                 \n",
            "0.958041958041958                                                                                                      \n",
            "0.958041958041958                                                                                                      \n",
            "SCORE:                                                                                                                 \n",
            "0.958041958041958                                                                                                      \n",
            "0.9090909090909091                                                                                                     \n",
            "SCORE:                                                                                                                 \n",
            "0.9090909090909091                                                                                                     \n",
            "0.972027972027972                                                                                                      \n",
            "SCORE:                                                                                                                 \n",
            "0.972027972027972                                                                                                      \n",
            "0.958041958041958                                                                                                      \n",
            "SCORE:                                                                                                                 \n",
            "0.958041958041958                                                                                                      \n",
            "0.958041958041958                                                                                                      \n",
            "SCORE:                                                                                                                 \n",
            "0.958041958041958                                                                                                      \n",
            "0.9440559440559441                                                                                                     \n",
            "SCORE:                                                                                                                 \n",
            "0.9440559440559441                                                                                                     \n",
            "0.951048951048951                                                                                                      \n",
            "SCORE:                                                                                                                 \n",
            "0.951048951048951                                                                                                      \n",
            "0.958041958041958                                                                                                      \n",
            "SCORE:                                                                                                                 \n",
            "0.958041958041958                                                                                                      \n",
            "0.958041958041958                                                                                                      \n",
            "SCORE:                                                                                                                 \n",
            "0.958041958041958                                                                                                      \n",
            "0.958041958041958                                                                                                      \n",
            "SCORE:                                                                                                                 \n",
            "0.958041958041958                                                                                                      \n",
            "0.8741258741258742                                                                                                     \n",
            "SCORE:                                                                                                                 \n",
            "0.8741258741258742                                                                                                     \n",
            "0.958041958041958                                                                                                      \n",
            "SCORE:                                                                                                                 \n"
          ]
        },
        {
          "name": "stdout",
          "output_type": "stream",
          "text": [
            "0.958041958041958                                                                                                      \n",
            "0.958041958041958                                                                                                      \n",
            "SCORE:                                                                                                                 \n",
            "0.958041958041958                                                                                                      \n",
            "0.951048951048951                                                                                                      \n",
            "SCORE:                                                                                                                 \n",
            "0.951048951048951                                                                                                      \n",
            "0.7482517482517482                                                                                                     \n",
            "SCORE:                                                                                                                 \n",
            "0.7482517482517482                                                                                                     \n",
            "0.958041958041958                                                                                                      \n",
            "SCORE:                                                                                                                 \n",
            "0.958041958041958                                                                                                      \n",
            "0.7132867132867133                                                                                                     \n",
            "SCORE:                                                                                                                 \n",
            "0.7132867132867133                                                                                                     \n",
            "0.9230769230769231                                                                                                     \n",
            "SCORE:                                                                                                                 \n",
            "0.9230769230769231                                                                                                     \n",
            "0.958041958041958                                                                                                      \n",
            "SCORE:                                                                                                                 \n",
            "0.958041958041958                                                                                                      \n",
            "0.958041958041958                                                                                                      \n",
            "SCORE:                                                                                                                 \n",
            "0.958041958041958                                                                                                      \n",
            "0.958041958041958                                                                                                      \n",
            "SCORE:                                                                                                                 \n",
            "0.958041958041958                                                                                                      \n",
            "0.9370629370629371                                                                                                     \n",
            "SCORE:                                                                                                                 \n",
            "0.9370629370629371                                                                                                     \n",
            "0.951048951048951                                                                                                      \n",
            "SCORE:                                                                                                                 \n",
            "0.951048951048951                                                                                                      \n",
            "0.958041958041958                                                                                                      \n",
            "SCORE:                                                                                                                 \n",
            "0.958041958041958                                                                                                      \n",
            "0.958041958041958                                                                                                      \n",
            "SCORE:                                                                                                                 \n",
            "0.958041958041958                                                                                                      \n",
            "0.9020979020979021                                                                                                     \n",
            "SCORE:                                                                                                                 \n",
            "0.9020979020979021                                                                                                     \n",
            "0.958041958041958                                                                                                      \n",
            "SCORE:                                                                                                                 \n",
            "0.958041958041958                                                                                                      \n",
            "0.972027972027972                                                                                                      \n",
            "SCORE:                                                                                                                 \n",
            "0.972027972027972                                                                                                      \n",
            "0.958041958041958                                                                                                      \n",
            "SCORE:                                                                                                                 \n",
            "0.958041958041958                                                                                                      \n",
            "0.9440559440559441                                                                                                     \n",
            "SCORE:                                                                                                                 \n",
            "0.9440559440559441                                                                                                     \n",
            "0.9370629370629371                                                                                                     \n",
            "SCORE:                                                                                                                 \n",
            "0.9370629370629371                                                                                                     \n",
            "0.958041958041958                                                                                                      \n",
            "SCORE:                                                                                                                 \n",
            "0.958041958041958                                                                                                      \n",
            "0.958041958041958                                                                                                      \n",
            "SCORE:                                                                                                                 \n",
            "0.958041958041958                                                                                                      \n",
            "0.958041958041958                                                                                                      \n",
            "SCORE:                                                                                                                 \n",
            "0.958041958041958                                                                                                      \n",
            "0.9020979020979021                                                                                                     \n"
          ]
        },
        {
          "name": "stdout",
          "output_type": "stream",
          "text": [
            "SCORE:                                                                                                                 \n",
            "0.9020979020979021                                                                                                     \n",
            "0.8181818181818182                                                                                                     \n",
            "SCORE:                                                                                                                 \n",
            "0.8181818181818182                                                                                                     \n",
            "0.965034965034965                                                                                                      \n",
            "SCORE:                                                                                                                 \n",
            "0.965034965034965                                                                                                      \n",
            "0.9440559440559441                                                                                                     \n",
            "SCORE:                                                                                                                 \n",
            "0.9440559440559441                                                                                                     \n",
            "0.958041958041958                                                                                                      \n",
            "SCORE:                                                                                                                 \n",
            "0.958041958041958                                                                                                      \n",
            "0.951048951048951                                                                                                      \n",
            "SCORE:                                                                                                                 \n",
            "0.951048951048951                                                                                                      \n",
            "0.958041958041958                                                                                                      \n",
            "SCORE:                                                                                                                 \n",
            "0.958041958041958                                                                                                      \n",
            "0.958041958041958                                                                                                      \n",
            "SCORE:                                                                                                                 \n",
            "0.958041958041958                                                                                                      \n",
            "0.958041958041958                                                                                                      \n",
            "SCORE:                                                                                                                 \n",
            "0.958041958041958                                                                                                      \n",
            "0.965034965034965                                                                                                      \n",
            "SCORE:                                                                                                                 \n",
            "0.965034965034965                                                                                                      \n",
            "0.965034965034965                                                                                                      \n",
            "SCORE:                                                                                                                 \n",
            "0.965034965034965                                                                                                      \n",
            "0.9790209790209791                                                                                                     \n",
            "SCORE:                                                                                                                 \n",
            "0.9790209790209791                                                                                                     \n",
            "0.958041958041958                                                                                                      \n",
            "SCORE:                                                                                                                 \n",
            "0.958041958041958                                                                                                      \n",
            "0.8181818181818182                                                                                                     \n",
            "SCORE:                                                                                                                 \n",
            "0.8181818181818182                                                                                                     \n",
            "0.958041958041958                                                                                                      \n",
            "SCORE:                                                                                                                 \n",
            "0.958041958041958                                                                                                      \n",
            "0.958041958041958                                                                                                      \n",
            "SCORE:                                                                                                                 \n",
            "0.958041958041958                                                                                                      \n",
            "0.958041958041958                                                                                                      \n",
            "SCORE:                                                                                                                 \n",
            "0.958041958041958                                                                                                      \n",
            "0.958041958041958                                                                                                      \n",
            "SCORE:                                                                                                                 \n",
            "0.958041958041958                                                                                                      \n",
            "0.958041958041958                                                                                                      \n",
            "SCORE:                                                                                                                 \n",
            "0.958041958041958                                                                                                      \n",
            "0.965034965034965                                                                                                      \n",
            "SCORE:                                                                                                                 \n",
            "0.965034965034965                                                                                                      \n",
            "0.958041958041958                                                                                                      \n",
            "SCORE:                                                                                                                 \n",
            "0.958041958041958                                                                                                      \n",
            "0.972027972027972                                                                                                      \n",
            "SCORE:                                                                                                                 \n",
            "0.972027972027972                                                                                                      \n",
            "0.9790209790209791                                                                                                     \n",
            "SCORE:                                                                                                                 \n",
            "0.9790209790209791                                                                                                     \n"
          ]
        },
        {
          "name": "stdout",
          "output_type": "stream",
          "text": [
            "0.972027972027972                                                                                                      \n",
            "SCORE:                                                                                                                 \n",
            "0.972027972027972                                                                                                      \n",
            "0.6853146853146853                                                                                                     \n",
            "SCORE:                                                                                                                 \n",
            "0.6853146853146853                                                                                                     \n",
            "0.9020979020979021                                                                                                     \n",
            "SCORE:                                                                                                                 \n",
            "0.9020979020979021                                                                                                     \n",
            "0.958041958041958                                                                                                      \n",
            "SCORE:                                                                                                                 \n",
            "0.958041958041958                                                                                                      \n",
            "0.958041958041958                                                                                                      \n",
            "SCORE:                                                                                                                 \n",
            "0.958041958041958                                                                                                      \n",
            "0.972027972027972                                                                                                      \n",
            "SCORE:                                                                                                                 \n",
            "0.972027972027972                                                                                                      \n",
            "0.951048951048951                                                                                                      \n",
            "SCORE:                                                                                                                 \n",
            "0.951048951048951                                                                                                      \n",
            "0.958041958041958                                                                                                      \n",
            "SCORE:                                                                                                                 \n",
            "0.958041958041958                                                                                                      \n",
            "0.958041958041958                                                                                                      \n",
            "SCORE:                                                                                                                 \n",
            "0.958041958041958                                                                                                      \n",
            "0.958041958041958                                                                                                      \n",
            "SCORE:                                                                                                                 \n",
            "0.958041958041958                                                                                                      \n",
            "0.965034965034965                                                                                                      \n",
            "SCORE:                                                                                                                 \n",
            "0.965034965034965                                                                                                      \n",
            "0.8811188811188811                                                                                                     \n",
            "SCORE:                                                                                                                 \n",
            "0.8811188811188811                                                                                                     \n",
            "0.9790209790209791                                                                                                     \n",
            "SCORE:                                                                                                                 \n",
            "0.9790209790209791                                                                                                     \n",
            "0.958041958041958                                                                                                      \n",
            "SCORE:                                                                                                                 \n",
            "0.958041958041958                                                                                                      \n",
            "0.9440559440559441                                                                                                     \n",
            "SCORE:                                                                                                                 \n",
            "0.9440559440559441                                                                                                     \n",
            "0.9790209790209791                                                                                                     \n",
            "SCORE:                                                                                                                 \n",
            "0.9790209790209791                                                                                                     \n",
            "0.9440559440559441                                                                                                     \n",
            "SCORE:                                                                                                                 \n",
            "0.9440559440559441                                                                                                     \n",
            "0.958041958041958                                                                                                      \n",
            "SCORE:                                                                                                                 \n",
            "0.958041958041958                                                                                                      \n",
            "0.958041958041958                                                                                                      \n",
            "SCORE:                                                                                                                 \n",
            "0.958041958041958                                                                                                      \n",
            "0.972027972027972                                                                                                      \n",
            "SCORE:                                                                                                                 \n",
            "0.972027972027972                                                                                                      \n",
            "0.9090909090909091                                                                                                     \n",
            "SCORE:                                                                                                                 \n",
            "0.9090909090909091                                                                                                     \n",
            "0.8181818181818182                                                                                                     \n",
            "SCORE:                                                                                                                 \n",
            "0.8181818181818182                                                                                                     \n",
            "0.9790209790209791                                                                                                     \n",
            "SCORE:                                                                                                                 \n"
          ]
        },
        {
          "name": "stdout",
          "output_type": "stream",
          "text": [
            "0.9790209790209791                                                                                                     \n",
            "0.951048951048951                                                                                                      \n",
            "SCORE:                                                                                                                 \n",
            "0.951048951048951                                                                                                      \n",
            "0.958041958041958                                                                                                      \n",
            "SCORE:                                                                                                                 \n",
            "0.958041958041958                                                                                                      \n",
            "0.9370629370629371                                                                                                     \n",
            "SCORE:                                                                                                                 \n",
            "0.9370629370629371                                                                                                     \n",
            "0.9790209790209791                                                                                                     \n",
            "SCORE:                                                                                                                 \n",
            "0.9790209790209791                                                                                                     \n",
            "0.958041958041958                                                                                                      \n",
            "SCORE:                                                                                                                 \n",
            "0.958041958041958                                                                                                      \n",
            "0.8881118881118881                                                                                                     \n",
            "SCORE:                                                                                                                 \n",
            "0.8881118881118881                                                                                                     \n",
            "0.958041958041958                                                                                                      \n",
            "SCORE:                                                                                                                 \n",
            "0.958041958041958                                                                                                      \n",
            "0.8251748251748252                                                                                                     \n",
            "SCORE:                                                                                                                 \n",
            "0.8251748251748252                                                                                                     \n",
            "0.958041958041958                                                                                                      \n",
            "SCORE:                                                                                                                 \n",
            "0.958041958041958                                                                                                      \n",
            "0.9440559440559441                                                                                                     \n",
            "SCORE:                                                                                                                 \n",
            "0.9440559440559441                                                                                                     \n",
            "0.958041958041958                                                                                                      \n",
            "SCORE:                                                                                                                 \n",
            "0.958041958041958                                                                                                      \n",
            "0.958041958041958                                                                                                      \n",
            "SCORE:                                                                                                                 \n",
            "0.958041958041958                                                                                                      \n",
            "0.958041958041958                                                                                                      \n",
            "SCORE:                                                                                                                 \n",
            "0.958041958041958                                                                                                      \n",
            "0.958041958041958                                                                                                      \n",
            "SCORE:                                                                                                                 \n",
            "0.958041958041958                                                                                                      \n",
            "0.6573426573426573                                                                                                     \n",
            "SCORE:                                                                                                                 \n",
            "0.6573426573426573                                                                                                     \n",
            "0.958041958041958                                                                                                      \n",
            "SCORE:                                                                                                                 \n",
            "0.958041958041958                                                                                                      \n",
            "0.9020979020979021                                                                                                     \n",
            "SCORE:                                                                                                                 \n",
            "0.9020979020979021                                                                                                     \n",
            "0.958041958041958                                                                                                      \n",
            "SCORE:                                                                                                                 \n",
            "0.958041958041958                                                                                                      \n",
            "0.9370629370629371                                                                                                     \n",
            "SCORE:                                                                                                                 \n",
            "0.9370629370629371                                                                                                     \n",
            "0.972027972027972                                                                                                      \n",
            "SCORE:                                                                                                                 \n",
            "0.972027972027972                                                                                                      \n",
            "0.958041958041958                                                                                                      \n",
            "SCORE:                                                                                                                 \n",
            "0.958041958041958                                                                                                      \n",
            "0.951048951048951                                                                                                      \n",
            "SCORE:                                                                                                                 \n",
            "0.951048951048951                                                                                                      \n",
            "0.958041958041958                                                                                                      \n"
          ]
        },
        {
          "name": "stdout",
          "output_type": "stream",
          "text": [
            "SCORE:                                                                                                                 \n",
            "0.958041958041958                                                                                                      \n",
            "0.9020979020979021                                                                                                     \n",
            "SCORE:                                                                                                                 \n",
            "0.9020979020979021                                                                                                     \n",
            "0.958041958041958                                                                                                      \n",
            "SCORE:                                                                                                                 \n",
            "0.958041958041958                                                                                                      \n",
            "0.6923076923076923                                                                                                     \n",
            "SCORE:                                                                                                                 \n",
            "0.6923076923076923                                                                                                     \n",
            "0.958041958041958                                                                                                      \n",
            "SCORE:                                                                                                                 \n",
            "0.958041958041958                                                                                                      \n",
            "0.9790209790209791                                                                                                     \n",
            "SCORE:                                                                                                                 \n",
            "0.9790209790209791                                                                                                     \n",
            "0.9440559440559441                                                                                                     \n",
            "SCORE:                                                                                                                 \n",
            "0.9440559440559441                                                                                                     \n",
            "0.972027972027972                                                                                                      \n",
            "SCORE:                                                                                                                 \n",
            "0.972027972027972                                                                                                      \n",
            "0.951048951048951                                                                                                      \n",
            "SCORE:                                                                                                                 \n",
            "0.951048951048951                                                                                                      \n",
            "0.958041958041958                                                                                                      \n",
            "SCORE:                                                                                                                 \n",
            "0.958041958041958                                                                                                      \n",
            "0.958041958041958                                                                                                      \n",
            "SCORE:                                                                                                                 \n",
            "0.958041958041958                                                                                                      \n",
            "0.9020979020979021                                                                                                     \n",
            "SCORE:                                                                                                                 \n",
            "0.9020979020979021                                                                                                     \n",
            "0.9790209790209791                                                                                                     \n",
            "SCORE:                                                                                                                 \n",
            "0.9790209790209791                                                                                                     \n",
            "0.958041958041958                                                                                                      \n",
            "SCORE:                                                                                                                 \n",
            "0.958041958041958                                                                                                      \n",
            "0.958041958041958                                                                                                      \n",
            "SCORE:                                                                                                                 \n",
            "0.958041958041958                                                                                                      \n",
            "0.9370629370629371                                                                                                     \n",
            "SCORE:                                                                                                                 \n",
            "0.9370629370629371                                                                                                     \n",
            "0.965034965034965                                                                                                      \n",
            "SCORE:                                                                                                                 \n",
            "0.965034965034965                                                                                                      \n",
            "0.951048951048951                                                                                                      \n",
            "SCORE:                                                                                                                 \n",
            "0.951048951048951                                                                                                      \n",
            "0.958041958041958                                                                                                      \n",
            "SCORE:                                                                                                                 \n",
            "0.958041958041958                                                                                                      \n",
            "0.958041958041958                                                                                                      \n",
            "SCORE:                                                                                                                 \n",
            "0.958041958041958                                                                                                      \n",
            "0.9790209790209791                                                                                                     \n",
            "SCORE:                                                                                                                 \n",
            "0.9790209790209791                                                                                                     \n",
            "0.9020979020979021                                                                                                     \n",
            "SCORE:                                                                                                                 \n",
            "0.9020979020979021                                                                                                     \n",
            "0.958041958041958                                                                                                      \n",
            "SCORE:                                                                                                                 \n",
            "0.958041958041958                                                                                                      \n"
          ]
        },
        {
          "name": "stdout",
          "output_type": "stream",
          "text": [
            "0.958041958041958                                                                                                      \n",
            "SCORE:                                                                                                                 \n",
            "0.958041958041958                                                                                                      \n",
            "0.958041958041958                                                                                                      \n",
            "SCORE:                                                                                                                 \n",
            "0.958041958041958                                                                                                      \n",
            "0.9440559440559441                                                                                                     \n",
            "SCORE:                                                                                                                 \n",
            "0.9440559440559441                                                                                                     \n",
            "0.972027972027972                                                                                                      \n",
            "SCORE:                                                                                                                 \n",
            "0.972027972027972                                                                                                      \n",
            "0.958041958041958                                                                                                      \n",
            "SCORE:                                                                                                                 \n",
            "0.958041958041958                                                                                                      \n",
            "0.9790209790209791                                                                                                     \n",
            "SCORE:                                                                                                                 \n",
            "0.9790209790209791                                                                                                     \n",
            "0.958041958041958                                                                                                      \n",
            "SCORE:                                                                                                                 \n",
            "0.958041958041958                                                                                                      \n",
            "0.9440559440559441                                                                                                     \n",
            "SCORE:                                                                                                                 \n",
            "0.9440559440559441                                                                                                     \n",
            "0.9790209790209791                                                                                                     \n",
            "SCORE:                                                                                                                 \n",
            "0.9790209790209791                                                                                                     \n",
            "0.958041958041958                                                                                                      \n",
            "SCORE:                                                                                                                 \n",
            "0.958041958041958                                                                                                      \n",
            "0.9440559440559441                                                                                                     \n",
            "SCORE:                                                                                                                 \n",
            "0.9440559440559441                                                                                                     \n",
            "0.958041958041958                                                                                                      \n",
            "SCORE:                                                                                                                 \n",
            "0.958041958041958                                                                                                      \n",
            "0.951048951048951                                                                                                      \n",
            "SCORE:                                                                                                                 \n",
            "0.951048951048951                                                                                                      \n",
            "0.9790209790209791                                                                                                     \n",
            "SCORE:                                                                                                                 \n",
            "0.9790209790209791                                                                                                     \n",
            "0.972027972027972                                                                                                      \n",
            "SCORE:                                                                                                                 \n",
            "0.972027972027972                                                                                                      \n",
            "0.958041958041958                                                                                                      \n",
            "SCORE:                                                                                                                 \n",
            "0.958041958041958                                                                                                      \n",
            "0.9090909090909091                                                                                                     \n",
            "SCORE:                                                                                                                 \n",
            "0.9090909090909091                                                                                                     \n",
            "0.958041958041958                                                                                                      \n",
            "SCORE:                                                                                                                 \n",
            "0.958041958041958                                                                                                      \n",
            "0.9790209790209791                                                                                                     \n",
            "SCORE:                                                                                                                 \n",
            "0.9790209790209791                                                                                                     \n",
            "0.958041958041958                                                                                                      \n",
            "SCORE:                                                                                                                 \n",
            "0.958041958041958                                                                                                      \n",
            "0.9440559440559441                                                                                                     \n",
            "SCORE:                                                                                                                 \n",
            "0.9440559440559441                                                                                                     \n",
            "0.965034965034965                                                                                                      \n",
            "SCORE:                                                                                                                 \n",
            "0.965034965034965                                                                                                      \n",
            "0.958041958041958                                                                                                      \n",
            "SCORE:                                                                                                                 \n"
          ]
        },
        {
          "name": "stdout",
          "output_type": "stream",
          "text": [
            "0.958041958041958                                                                                                      \n",
            "0.958041958041958                                                                                                      \n",
            "SCORE:                                                                                                                 \n",
            "0.958041958041958                                                                                                      \n",
            "0.958041958041958                                                                                                      \n",
            "SCORE:                                                                                                                 \n",
            "0.958041958041958                                                                                                      \n",
            "0.8951048951048951                                                                                                     \n",
            "SCORE:                                                                                                                 \n",
            "0.8951048951048951                                                                                                     \n",
            "0.958041958041958                                                                                                      \n",
            "SCORE:                                                                                                                 \n",
            "0.958041958041958                                                                                                      \n",
            "0.958041958041958                                                                                                      \n",
            "SCORE:                                                                                                                 \n",
            "0.958041958041958                                                                                                      \n",
            "0.9440559440559441                                                                                                     \n",
            "SCORE:                                                                                                                 \n",
            "0.9440559440559441                                                                                                     \n",
            "0.972027972027972                                                                                                      \n",
            "SCORE:                                                                                                                 \n",
            "0.972027972027972                                                                                                      \n",
            "0.951048951048951                                                                                                      \n",
            "SCORE:                                                                                                                 \n",
            "0.951048951048951                                                                                                      \n",
            "0.958041958041958                                                                                                      \n",
            "SCORE:                                                                                                                 \n",
            "0.958041958041958                                                                                                      \n",
            "0.958041958041958                                                                                                      \n",
            "SCORE:                                                                                                                 \n",
            "0.958041958041958                                                                                                      \n",
            "0.958041958041958                                                                                                      \n",
            "SCORE:                                                                                                                 \n",
            "0.958041958041958                                                                                                      \n",
            "0.951048951048951                                                                                                      \n",
            "SCORE:                                                                                                                 \n",
            "0.951048951048951                                                                                                      \n",
            "0.9790209790209791                                                                                                     \n",
            "SCORE:                                                                                                                 \n",
            "0.9790209790209791                                                                                                     \n",
            "0.958041958041958                                                                                                      \n",
            "SCORE:                                                                                                                 \n",
            "0.958041958041958                                                                                                      \n",
            "0.972027972027972                                                                                                      \n",
            "SCORE:                                                                                                                 \n",
            "0.972027972027972                                                                                                      \n",
            "0.951048951048951                                                                                                      \n",
            "SCORE:                                                                                                                 \n",
            "0.951048951048951                                                                                                      \n",
            "0.972027972027972                                                                                                      \n",
            "SCORE:                                                                                                                 \n",
            "0.972027972027972                                                                                                      \n",
            "0.9440559440559441                                                                                                     \n",
            "SCORE:                                                                                                                 \n",
            "0.9440559440559441                                                                                                     \n",
            "0.958041958041958                                                                                                      \n",
            "SCORE:                                                                                                                 \n",
            "0.958041958041958                                                                                                      \n",
            "0.958041958041958                                                                                                      \n",
            "SCORE:                                                                                                                 \n",
            "0.958041958041958                                                                                                      \n",
            "0.8951048951048951                                                                                                     \n",
            "SCORE:                                                                                                                 \n",
            "0.8951048951048951                                                                                                     \n",
            "0.958041958041958                                                                                                      \n",
            "SCORE:                                                                                                                 \n",
            "0.958041958041958                                                                                                      \n",
            "0.965034965034965                                                                                                      \n"
          ]
        },
        {
          "name": "stdout",
          "output_type": "stream",
          "text": [
            "SCORE:                                                                                                                 \n",
            "0.965034965034965                                                                                                      \n",
            "0.958041958041958                                                                                                      \n",
            "SCORE:                                                                                                                 \n",
            "0.958041958041958                                                                                                      \n",
            "0.9440559440559441                                                                                                     \n",
            "SCORE:                                                                                                                 \n",
            "0.9440559440559441                                                                                                     \n",
            "0.958041958041958                                                                                                      \n",
            "SCORE:                                                                                                                 \n",
            "0.958041958041958                                                                                                      \n",
            "0.951048951048951                                                                                                      \n",
            "SCORE:                                                                                                                 \n",
            "0.951048951048951                                                                                                      \n",
            "0.972027972027972                                                                                                      \n",
            "SCORE:                                                                                                                 \n",
            "0.972027972027972                                                                                                      \n",
            "0.965034965034965                                                                                                      \n",
            "SCORE:                                                                                                                 \n",
            "0.965034965034965                                                                                                      \n",
            "0.958041958041958                                                                                                      \n",
            "SCORE:                                                                                                                 \n",
            "0.958041958041958                                                                                                      \n",
            "0.958041958041958                                                                                                      \n",
            "SCORE:                                                                                                                 \n",
            "0.958041958041958                                                                                                      \n",
            "0.958041958041958                                                                                                      \n",
            "SCORE:                                                                                                                 \n",
            "0.958041958041958                                                                                                      \n",
            "0.9020979020979021                                                                                                     \n",
            "SCORE:                                                                                                                 \n",
            "0.9020979020979021                                                                                                     \n",
            "0.9440559440559441                                                                                                     \n",
            "SCORE:                                                                                                                 \n",
            "0.9440559440559441                                                                                                     \n",
            "0.958041958041958                                                                                                      \n",
            "SCORE:                                                                                                                 \n",
            "0.958041958041958                                                                                                      \n",
            "0.6573426573426573                                                                                                     \n",
            "SCORE:                                                                                                                 \n",
            "0.6573426573426573                                                                                                     \n",
            "0.972027972027972                                                                                                      \n",
            "SCORE:                                                                                                                 \n",
            "0.972027972027972                                                                                                      \n",
            "100%|██████████████████████████████████████████████| 400/400 [00:08<00:00, 45.71trial/s, best loss: -0.986013986013986]\n"
          ]
        }
      ],
      "source": [
        "trials = Trials()\n",
        "\n",
        "best_hyperparams = fmin(fn = objective,\n",
        "                       space = space,\n",
        "                       algo = tpe.suggest,\n",
        "                       max_evals = 400,\n",
        "                       trials = trials)\n"
      ]
    },
    {
      "cell_type": "code",
      "execution_count": null,
      "id": "55e388fe",
      "metadata": {
        "scrolled": true,
        "id": "55e388fe",
        "outputId": "13e40bf1-605a-4324-866e-19eaf20ac593"
      },
      "outputs": [
        {
          "name": "stdout",
          "output_type": "stream",
          "text": [
            "The best hyperparameters: \n",
            "\n",
            "{'C': 85.0585263788046, 'gamma': 0.04305455752945301, 'kernel': 0}\n",
            "kernel :  poly\n"
          ]
        }
      ],
      "source": [
        "print(\"The best hyperparameters:\", \"\\n\")\n",
        "print(best_hyperparams)\n",
        "print(\"kernel : \", kernels[best_hyperparams['kernel']])"
      ]
    },
    {
      "cell_type": "code",
      "execution_count": null,
      "id": "d8d91054",
      "metadata": {
        "id": "d8d91054",
        "outputId": "cb43d56e-df51-48b9-dc91-09c6f9e4f007"
      },
      "outputs": [
        {
          "data": {
            "text/plain": [
              "1.0"
            ]
          },
          "execution_count": 453,
          "metadata": {},
          "output_type": "execute_result"
        }
      ],
      "source": [
        "SVC_classify = SVC(\n",
        "            C = best_hyperparams['C'],\n",
        "            gamma = best_hyperparams['gamma'],\n",
        "            kernel = 'rbf',\n",
        "                )\n",
        "\n",
        "SVC_classify.fit(X_train, Y_train)\n",
        "                           \n",
        "SVC_classify.score(X_train, Y_train)"
      ]
    },
    {
      "cell_type": "code",
      "execution_count": null,
      "id": "eee7406c",
      "metadata": {
        "id": "eee7406c"
      },
      "outputs": [],
      "source": [
        "# Y_PREDICTION_SVM\n",
        "y_predict_SVC = SVC_classify.predict(X_test)"
      ]
    },
    {
      "cell_type": "code",
      "execution_count": null,
      "id": "dd6b2197",
      "metadata": {
        "id": "dd6b2197",
        "outputId": "f27d08ec-90f7-4c31-ecbe-2d2a6907d9d0"
      },
      "outputs": [
        {
          "name": "stdout",
          "output_type": "stream",
          "text": [
            "[[85  5]\n",
            " [ 2 51]]\n",
            "\n",
            "Accuracy of the Classifier =  0.951048951048951\n",
            "Precision =  0.9444444444444444\n",
            "F1 Score =  0.96045197740113\n"
          ]
        },
        {
          "data": {
            "text/plain": [
              "(0.951048951048951, 0.9444444444444444, 0.9444444444444444, 0.96045197740113)"
            ]
          },
          "execution_count": 455,
          "metadata": {},
          "output_type": "execute_result"
        }
      ],
      "source": [
        "Matrix(y_predict_SVC)"
      ]
    },
    {
      "cell_type": "code",
      "execution_count": null,
      "id": "2ad8eb35",
      "metadata": {
        "id": "2ad8eb35"
      },
      "outputs": [],
      "source": [
        ""
      ]
    },
    {
      "cell_type": "code",
      "execution_count": null,
      "id": "9aa61fcb",
      "metadata": {
        "id": "9aa61fcb"
      },
      "outputs": [],
      "source": [
        "# ROC, AUC Curve"
      ]
    },
    {
      "cell_type": "code",
      "execution_count": null,
      "id": "a64ac849",
      "metadata": {
        "id": "a64ac849"
      },
      "outputs": [],
      "source": [
        ""
      ]
    },
    {
      "cell_type": "code",
      "execution_count": null,
      "id": "4785551b",
      "metadata": {
        "scrolled": false,
        "id": "4785551b",
        "outputId": "22b7b418-4247-40df-aa35-4e79bd4bd26f"
      },
      "outputs": [
        {
          "name": "stdout",
          "output_type": "stream",
          "text": [
            "Random (chance) Prediction: AUROC = 0.996\n",
            "Random Forest  Prediction: AUROC = 0.996\n",
            "AdaBoost  Prediction: AUROC = 0.994\n",
            "XGBoost  Prediction: AUROC = 0.994\n",
            "SVM  Prediction: AUROC = 0.998\n"
          ]
        }
      ],
      "source": [
        "from sklearn.metrics import roc_curve, roc_auc_score\n",
        "\n",
        "r_probs = [0 for _ in range(len(Y_test))]\n",
        "Random_Forest_Probs = rf_RandomGrid.predict_proba(X_test)\n",
        "AdaBoost_Probs = AdaBoost_RandomGrid.predict_proba(X_test)\n",
        "XGBoost_Probs = xgbclassify.predict_proba(X_test)\n",
        "SVM_Probs = svc_rbf_grid.predict_proba(X_test)\n",
        "\n",
        "\n",
        "Random_Forest_Probsf = Random_Forest_Probs[:, 1]\n",
        "AdaBoost_Probsf = AdaBoost_Probs[: ,1]\n",
        "XGBoost_Probsf = XGBoost_Probs[: ,1]\n",
        "SVM_Probsf = SVM_Probs[: ,1]\n",
        "\n",
        "r_auc = roc_auc_score(Y_test, r_probs)\n",
        "Random_Forest_Auc = roc_auc_score(Y_test,Random_Forest_Probsf)\n",
        "AdaBoost_Auc = roc_auc_score(Y_test, AdaBoost_Probsf)\n",
        "XGBoost_Auc = roc_auc_score(Y_test, XGBoost_Probsf)\n",
        "SVM_Auc = roc_auc_score(Y_test, SVM_Probsf)\n",
        "\n",
        "print('Random (chance) Prediction: AUROC = %.3f' % (Random_Forest_Auc))\n",
        "print('Random Forest  Prediction: AUROC = %.3f' % (Random_Forest_Auc))\n",
        "print('AdaBoost  Prediction: AUROC = %.3f' % (AdaBoost_Auc))\n",
        "print('XGBoost  Prediction: AUROC = %.3f' % (XGBoost_Auc))\n",
        "print('SVM  Prediction: AUROC = %.3f' % (SVM_Auc))"
      ]
    },
    {
      "cell_type": "code",
      "execution_count": null,
      "id": "6e45029d",
      "metadata": {
        "id": "6e45029d"
      },
      "outputs": [],
      "source": [
        "from sklearn.metrics import roc_curve, roc_auc_score\n",
        "\n",
        "r_fpr, r_tpr, _ = roc_curve(Y_test, r_probs)\n",
        "Random_Forest_fpr, Random_Forest_tpr, _ = roc_curve(Y_test, Random_Forest_Probsf)\n",
        "AdaBoost_fpr, AdaBoost_tpr, _ = roc_curve(Y_test, AdaBoost_Probsf) \n",
        "XGBoost_fpr, XGBoost_tpr, _ = roc_curve(Y_test, XGBoost_Probsf)\n",
        "SVM_fpr, SVM_tpr, _ = roc_curve(Y_test, SVM_Probsf)"
      ]
    },
    {
      "cell_type": "code",
      "execution_count": null,
      "id": "40aaa191",
      "metadata": {
        "id": "40aaa191",
        "outputId": "5d64d4ca-f86d-4b03-aa89-0524cd18aa34"
      },
      "outputs": [
        {
          "data": {
            "image/png": "[encoded data removed]",
            "text/plain": [
              "<Figure size 432x288 with 1 Axes>"
            ]
          },
          "metadata": {
            "needs_background": "light"
          },
          "output_type": "display_data"
        }
      ],
      "source": [
        "import matplotlib.pyplot as plt\n",
        "from matplotlib.axis import Axis\n",
        "\n",
        "plt.plot(r_fpr, r_tpr, linestyle='--', label='Random prediction (AUROC = %0.3f)' % r_auc)\n",
        "plt.plot(Random_Forest_fpr, Random_Forest_tpr, marker='.', label='Random Forest prediction (AUROC = %0.3f)' % Random_Forest_Auc)\n",
        "plt.plot(AdaBoost_fpr, AdaBoost_tpr, marker='.', label='AdaBoost prediction (AUROC = %0.3f)' % AdaBoost_Auc)\n",
        "plt.plot(XGBoost_fpr, XGBoost_tpr, marker='.', label='XGBoost prediction (AUROC = %0.3f)' % XGBoost_Auc)\n",
        "plt.plot(SVM_fpr, SVM_tpr, marker='.', label='SVM prediction (AUROC = %0.3f)' % SVM_Auc)\n",
        "\n",
        "# Title\n",
        "plt.title('ROC Plot')\n",
        "\n",
        "# Axis labels\n",
        "plt.xlabel('False Positive Rate')\n",
        "plt.ylabel('True Positive Rate')\n",
        "\n",
        "# Show legend\n",
        "plt.legend(prop={'size': 8}) \n",
        "# Show plot\n",
        "plt.show()\n"
      ]
    },
    {
      "cell_type": "code",
      "execution_count": null,
      "id": "6b485af0",
      "metadata": {
        "id": "6b485af0"
      },
      "outputs": [],
      "source": [
        "#Graphs of Accuracy, precision, recall"
      ]
    },
    {
      "cell_type": "code",
      "execution_count": null,
      "id": "d17caa2f",
      "metadata": {
        "id": "d17caa2f"
      },
      "outputs": [],
      "source": [
        "ML_classifiers = ['Random Forest',\"AdaBoostRSCV\",\"AdaBoost_GSCV\",\"XGBoost\",\"SVM\"]\n",
        "def addlabels(x,y):\n",
        "    for i in range(len(x)):\n",
        "        plt.text(i,round(y[i],4),round(y[i],4))         \n",
        "def plotting(accuracy,precision,recall,fscore):\n",
        "  \n",
        "  sns.set_style('white')\n",
        "  colors = sns.color_palette('Set2')\n",
        "\n",
        "  #plt.figure(figsize=(2, 2))\n",
        "  max_y_lim = 100\n",
        "  min_y_lim = 90\n",
        "  plt.ylim(min_y_lim, max_y_lim)\n",
        "  \n",
        "  plt.bar(ML_classifiers, accuracy, color = colors[:5],\n",
        "        width = 0.4)\n",
        "\n",
        "  addlabels(ML_classifiers, accuracy)\n",
        "    \n",
        "  plt.title('Accuracy', size=20,fontweight=\"bold\")\n",
        "  plt.ylabel('Accuracy')\n",
        "  plt.xticks(rotation = 25)\n",
        "  plt.xlabel('Algorithms')\n",
        "  plt.show()\n",
        "\n",
        "  max_y_lim = 1\n",
        "  min_y_lim = 0.8\n",
        "  plt.ylim(min_y_lim, max_y_lim)\n",
        "  plt.bar(ML_classifiers, precision, color = colors[:5],\n",
        "        width = 0.4)\n",
        "  addlabels(ML_classifiers, precision)\n",
        "  plt.title('Precision',size=20,fontweight=\"bold\")\n",
        "  plt.ylabel('Precision')\n",
        "  plt.xticks(rotation = 25)\n",
        "  plt.xlabel('Algorithms', fontweight=\"bold\")\n",
        "  plt.show()\n",
        "\n",
        "  max_y_lim = 1\n",
        "  min_y_lim = 0.8\n",
        "  plt.ylim(min_y_lim, max_y_lim)\n",
        "  plt.bar(ML_classifiers, recall, color = colors[:5],\n",
        "        width = 0.4)\n",
        "\n",
        "  addlabels(ML_classifiers, recall)\n",
        "  plt.title('Recall', size=20,fontweight=\"bold\")\n",
        "  plt.ylabel('Accuracy')\n",
        "  plt.xticks(rotation = 25)\n",
        "  plt.xlabel('Algorithms')\n",
        "  plt.show()\n",
        "\n",
        "  max_y_lim = 1\n",
        "  min_y_lim = 0.8\n",
        "  plt.ylim(min_y_lim, max_y_lim)\n",
        "  plt.bar(ML_classifiers, fscore, color = colors[:5],\n",
        "        width = 0.4)\n",
        "  addlabels(ML_classifiers, fscore)\n",
        "  plt.title('F1 Score',size=20,fontweight=\"bold\")\n",
        "  plt.ylabel('F1 Score')\n",
        "  plt.xticks(rotation = 25)\n",
        "  plt.xlabel('Algorithms')\n",
        "  plt.show()\n",
        "\n",
        "  #add axis labels to plot\n",
        "  \n",
        "\n",
        "  #display plot\n",
        "  plt.show()"
      ]
    },
    {
      "cell_type": "code",
      "execution_count": null,
      "id": "1a74c8dd",
      "metadata": {
        "id": "1a74c8dd",
        "outputId": "ea754969-287d-43f5-e1b2-7494c3c8eaf5"
      },
      "outputs": [
        {
          "name": "stdout",
          "output_type": "stream",
          "text": [
            "[[87  3]\n",
            " [ 1 52]]\n",
            "\n",
            "Accuracy of the Classifier =  0.972027972027972\n",
            "Precision =  0.9666666666666667\n",
            "F1 Score =  0.9775280898876404\n",
            "[[86  4]\n",
            " [ 3 50]]\n",
            "\n",
            "Accuracy of the Classifier =  0.951048951048951\n",
            "Precision =  0.9555555555555556\n",
            "F1 Score =  0.9608938547486034\n",
            "[[86  4]\n",
            " [ 3 50]]\n",
            "\n",
            "Accuracy of the Classifier =  0.951048951048951\n",
            "Precision =  0.9555555555555556\n",
            "F1 Score =  0.9608938547486034\n",
            "[[85  5]\n",
            " [ 1 52]]\n",
            "\n",
            "Accuracy of the Classifier =  0.958041958041958\n",
            "Precision =  0.9444444444444444\n",
            "F1 Score =  0.9659090909090908\n",
            "[[85  5]\n",
            " [ 2 51]]\n",
            "\n",
            "Accuracy of the Classifier =  0.951048951048951\n",
            "Precision =  0.9444444444444444\n",
            "F1 Score =  0.96045197740113\n",
            "[0.9666666666666667, 0.9555555555555556, 0.9555555555555556, 0.9444444444444444, 0.9444444444444444]\n",
            "[0.9666666666666667, 0.9555555555555556, 0.9555555555555556, 0.9444444444444444, 0.9444444444444444]\n"
          ]
        }
      ],
      "source": [
        "mat = [Matrix(y_predict_Random_Forest),\n",
        "       Matrix(Y_predict_RandomGrid_Adaboost),\n",
        "       Matrix(Y_predict_gridSearch_Adaboost),\n",
        "       Matrix(y_predict_XGBoost),\n",
        "       Matrix(y_predict_SVC)\n",
        "       ]\n",
        "\n",
        "accuracy_list = []\n",
        "precision_list = []\n",
        "recall_list = []\n",
        "fscore_list = []\n",
        "\n",
        "def res(mat):\n",
        "  accuracy_list.append(mat[0]*100)\n",
        "  precision_list.append(mat[1])\n",
        "  recall_list.append(mat[2])\n",
        "  fscore_list.append(mat[3])\n",
        "\n",
        "\n",
        "for i in range(5):\n",
        "  res(mat[i])\n",
        "print(recall_list)\n",
        "print(precision_list)"
      ]
    },
    {
      "cell_type": "code",
      "execution_count": null,
      "id": "a7d1501d",
      "metadata": {
        "id": "a7d1501d",
        "outputId": "c8f8fb83-ff17-434d-ccc2-60eb0f5d7202"
      },
      "outputs": [
        {
          "data": {
            "image/png": "[encoded data removed]",
            "text/plain": [
              "<Figure size 576x576 with 1 Axes>"
            ]
          },
          "metadata": {},
          "output_type": "display_data"
        },
        {
          "data": {
            "image/png": "[encoded data removed]",
            "text/plain": [
              "<Figure size 432x288 with 1 Axes>"
            ]
          },
          "metadata": {},
          "output_type": "display_data"
        },
        {
          "data": {
            "image/png": "[encoded data removed]",
            "text/plain": [
              "<Figure size 432x288 with 1 Axes>"
            ]
          },
          "metadata": {},
          "output_type": "display_data"
        },
        {
          "data": {
            "image/png": "[encoded data removed]",
            "text/plain": [
              "<Figure size 432x288 with 1 Axes>"
            ]
          },
          "metadata": {},
          "output_type": "display_data"
        }
      ],
      "source": [
        "plotting(accuracy_list,precision_list,recall_list,fscore_list)"
      ]
    },
    {
      "cell_type": "code",
      "execution_count": null,
      "id": "5877c354",
      "metadata": {
        "id": "5877c354"
      },
      "outputs": [],
      "source": [
        ""
      ]
    },
    {
      "cell_type": "code",
      "execution_count": null,
      "id": "ea5815eb",
      "metadata": {
        "id": "ea5815eb"
      },
      "outputs": [],
      "source": [
        ""
      ]
    }
  ],
  "metadata": {
    "kernelspec": {
      "display_name": "Python 3 (ipykernel)",
      "language": "python",
      "name": "python3"
    },
    "language_info": {
      "codemirror_mode": {
        "name": "ipython",
        "version": 3
      },
      "file_extension": ".py",
      "mimetype": "text/x-python",
      "name": "python",
      "nbconvert_exporter": "python",
      "pygments_lexer": "ipython3",
      "version": "3.8.8"
    },
    "colab": {
      "name": "Breast Cancer Final",
      "provenance": []
    }
  },
  "nbformat": 4,
  "nbformat_minor": 5
}